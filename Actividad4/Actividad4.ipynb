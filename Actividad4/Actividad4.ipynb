{
 "cells": [
  {
   "cell_type": "code",
   "execution_count": 28,
   "metadata": {},
   "outputs": [],
   "source": [
    "import pandas as pd\n",
    "import numpy as np"
   ]
  },
  {
   "cell_type": "code",
   "execution_count": 29,
   "metadata": {},
   "outputs": [],
   "source": [
    "df = pd.read_csv('tulum.csv', sep=',', engine='python')"
   ]
  },
  {
   "cell_type": "code",
   "execution_count": 30,
   "metadata": {},
   "outputs": [],
   "source": [
    "# Convertir Fecha a nueva variable tipo fecha NFecha (datetime64)\n",
    "df['NFecha'] =  pd.to_datetime(df['FECHA'], format='%d/%m/%Y')"
   ]
  },
  {
   "cell_type": "code",
   "execution_count": 31,
   "metadata": {},
   "outputs": [
    {
     "data": {
      "text/plain": [
       "FECHA             object\n",
       "PRECIP           float64\n",
       "EVAP             float64\n",
       "TMAX             float64\n",
       "TMIN             float64\n",
       "NFecha    datetime64[ns]\n",
       "dtype: object"
      ]
     },
     "execution_count": 31,
     "metadata": {},
     "output_type": "execute_result"
    }
   ],
   "source": [
    "df.dtypes"
   ]
  },
  {
   "cell_type": "code",
   "execution_count": 33,
   "metadata": {},
   "outputs": [],
   "source": [
    "df['Año'] = df['NFecha'].dt.year\n",
    "df['Mes'] = df['NFecha'].dt.month"
   ]
  },
  {
   "cell_type": "code",
   "execution_count": 35,
   "metadata": {},
   "outputs": [],
   "source": [
    "NumA = len(df['Año'].unique())"
   ]
  },
  {
   "cell_type": "code",
   "execution_count": 36,
   "metadata": {},
   "outputs": [],
   "source": [
    "PRECIPEne = df[(df['Mes'] == 1)]['PRECIP'].sum()/NumA\n",
    "PRECIPFeb = df[(df['Mes'] == 2)]['PRECIP'].sum()/NumA\n",
    "PRECIPMar = df[(df['Mes'] == 3)]['PRECIP'].sum()/NumA\n",
    "PRECIPAbr = df[(df['Mes'] == 4)]['PRECIP'].sum()/NumA\n",
    "PRECIPMay = df[(df['Mes'] == 5)]['PRECIP'].sum()/NumA\n",
    "PRECIPJun = df[(df['Mes'] == 6)]['PRECIP'].sum()/NumA\n",
    "PRECIPJul = df[(df['Mes'] == 7)]['PRECIP'].sum()/NumA\n",
    "PRECIPAgo = df[(df['Mes'] == 8)]['PRECIP'].sum()/NumA\n",
    "PRECIPSep = df[(df['Mes'] == 9)]['PRECIP'].sum()/NumA\n",
    "PRECIPOct = df[(df['Mes'] == 10)]['PRECIP'].sum()/NumA\n",
    "PRECIPNov = df[(df['Mes'] == 11)]['PRECIP'].sum()/NumA\n",
    "PRECIPDic = df[(df['Mes'] == 12)]['PRECIP'].sum()/NumA"
   ]
  },
  {
   "cell_type": "code",
   "execution_count": 37,
   "metadata": {},
   "outputs": [
    {
     "name": "stdout",
     "output_type": "stream",
     "text": [
      "Mes 1 : 50.5 mm , Acumulada: 50.5 mm\n",
      "Mes 2 : 42.36 mm , Acumulada: 92.85 mm\n",
      "Mes 3 : 42.37 mm , Acumulada: 135.22 mm\n",
      "Mes 4 : 44.15 mm , Acumulada: 179.37 mm\n",
      "Mes 5 : 93.34 mm , Acumulada: 272.71 mm\n",
      "Mes 6 : 96.9 mm , Acumulada: 369.61 mm\n",
      "Mes 7 : 80.45 mm , Acumulada: 450.07 mm\n",
      "Mes 8 : 77.65 mm , Acumulada: 527.72 mm\n",
      "Mes 9 : 117.61 mm , Acumulada: 645.33 mm\n",
      "Mes 10 : 124.9 mm , Acumulada: 770.23 mm\n",
      "Mes 11 : 69.42 mm , Acumulada: 839.65 mm\n",
      "Mes 12 : 56.46 mm , Acumulada: 896.11 mm\n"
     ]
    }
   ],
   "source": [
    "# Para encontrar los meses más lluviosos\n",
    "# O hacer un loop para recorrer cada mes, recordando que Python cuenta desde 0,1,2,...\n",
    "# Calcular la suma de precipitación y dividir entre el número de años\n",
    "total=0.0\n",
    "for i in range(12):\n",
    "    PrecipMensual = df['PRECIP'][df['Mes']==[i+1]].sum()/NumA\n",
    "    total=total+PrecipMensual\n",
    "    print(\"Mes\", i+1,\":\", np.round(PrecipMensual, decimals=2), \"mm\", \", Acumulada:\", \n",
    "          np.round(total, decimals=2), \"mm\")"
   ]
  },
  {
   "cell_type": "code",
   "execution_count": 38,
   "metadata": {},
   "outputs": [
    {
     "data": {
      "text/plain": [
       "896.1145833333335"
      ]
     },
     "execution_count": 38,
     "metadata": {},
     "output_type": "execute_result"
    }
   ],
   "source": [
    "total"
   ]
  },
  {
   "cell_type": "code",
   "execution_count": 39,
   "metadata": {},
   "outputs": [],
   "source": [
    "TmaxPromEne = df[df['Mes']==1]['TMAX'].sum()/df[df['Mes'] ==1]['TMAX'].count()\n",
    "TmaxPromFeb = df[df['Mes']==2]['TMAX'].sum()/df[df['Mes'] ==2]['TMAX'].count()\n",
    "TmaxPromMar = df[df['Mes']==3]['TMAX'].sum()/df[df['Mes'] ==1]['TMAX'].count()\n",
    "TmaxPromAbr = df[df['Mes']==4]['TMAX'].sum()/df[df['Mes'] ==1]['TMAX'].count()\n",
    "TmaxPromMay = df[df['Mes']==5]['TMAX'].sum()/df[df['Mes'] ==1]['TMAX'].count()\n",
    "TmaxPromJun = df[df['Mes']==6]['TMAX'].sum()/df[df['Mes'] ==1]['TMAX'].count()\n",
    "TmaxPromJul = df[df['Mes']==7]['TMAX'].sum()/df[df['Mes'] ==1]['TMAX'].count()\n",
    "TmaxPromAgo = df[df['Mes']==8]['TMAX'].sum()/df[df['Mes'] ==1]['TMAX'].count()\n",
    "TmaxPromSep = df[df['Mes']==9]['TMAX'].sum()/df[df['Mes'] ==1]['TMAX'].count()\n",
    "TmaxPromOct = df[df['Mes']==10]['TMAX'].sum()/df[df['Mes'] ==1]['TMAX'].count()\n",
    "TmaxPromNov = df[df['Mes']==11]['TMAX'].sum()/df[df['Mes'] ==1]['TMAX'].count()\n",
    "TmaxPromDic = df[df['Mes']==12]['TMAX'].sum()/df[df['Mes'] ==1]['TMAX'].count()"
   ]
  },
  {
   "cell_type": "code",
   "execution_count": 40,
   "metadata": {},
   "outputs": [
    {
     "name": "stdout",
     "output_type": "stream",
     "text": [
      "Tmin Mes 1 : 18.79 ºC\n",
      "Tmin Mes 2 : 19.5 ºC\n",
      "Tmin Mes 3 : 20.47 ºC\n",
      "Tmin Mes 4 : 20.86 ºC\n",
      "Tmin Mes 5 : 21.32 ºC\n",
      "Tmin Mes 6 : 21.65 ºC\n",
      "Tmin Mes 7 : 21.07 ºC\n",
      "Tmin Mes 8 : 21.16 ºC\n",
      "Tmin Mes 9 : 20.92 ºC\n",
      "Tmin Mes 10 : 20.16 ºC\n",
      "Tmin Mes 11 : 19.61 ºC\n",
      "Tmin Mes 12 : 18.82 ºC\n",
      " \n",
      "Tmax Mes 1 : 29.88 ºC\n",
      "Tmax Mes 2 : 30.37 ºC\n",
      "Tmax Mes 3 : 31.07 ºC\n",
      "Tmax Mes 4 : 31.19 ºC\n",
      "Tmax Mes 5 : 31.7 ºC\n",
      "Tmax Mes 6 : 31.53 ºC\n",
      "Tmax Mes 7 : 31.84 ºC\n",
      "Tmax Mes 8 : 31.75 ºC\n",
      "Tmax Mes 9 : 31.28 ºC\n",
      "Tmax Mes 10 : 31.01 ºC\n",
      "Tmax Mes 11 : 30.47 ºC\n",
      "Tmax Mes 12 : 29.84 ºC\n"
     ]
    }
   ],
   "source": [
    "for i in range(12):\n",
    "    TminPromMensual = df[df['Mes']==i+1]['TMIN'].sum()/df[df['Mes'] ==i+1]['TMIN'].count()\n",
    "    print(\"Tmin Mes\", i+1,\":\", np.round(TminPromMensual, decimals=2), \"ºC\")\n",
    "  \n",
    "print(\" \")\n",
    "    \n",
    "for i in range(12):\n",
    "    TmaxPromMensual = df[df['Mes']==i+1]['TMAX'].sum()/df[df['Mes'] ==i+1]['TMAX'].count()\n",
    "    print(\"Tmax Mes\", i+1,\":\", np.round(TmaxPromMensual, decimals=2), \"ºC\")"
   ]
  },
  {
   "cell_type": "code",
   "execution_count": 41,
   "metadata": {},
   "outputs": [
    {
     "name": "stdout",
     "output_type": "stream",
     "text": [
      "Año 1965 : 868.2 mm\n",
      "Año 1966 : 19.1 mm\n",
      "Año 1967 : 111.8 mm\n",
      "Año 1968 : 36.7 mm\n",
      "Año 1969 : 388.3 mm\n",
      "Año 1970 : 248.00000000000003 mm\n",
      "Año 1971 : 1043.0 mm\n",
      "Año 1972 : 1446.7 mm\n",
      "Año 1973 : 1176.3000000000002 mm\n",
      "Año 1974 : 894.1 mm\n",
      "Año 1975 : 1155.5 mm\n",
      "Año 1976 : 1338.6 mm\n",
      "Año 1977 : 1323.1 mm\n",
      "Año 1978 : 1340.8 mm\n",
      "Año 1979 : 1340.1999999999998 mm\n",
      "Año 1980 : 1350.8 mm\n",
      "Año 1981 : 837.8 mm\n",
      "Año 1982 : 1190.0 mm\n",
      "Año 1983 : 1537.1 mm\n",
      "Año 1984 : 579.8 mm\n",
      "Año 1985 : 228.0 mm\n",
      "Año 1986 : 839.1 mm\n",
      "Año 1987 : 500.5 mm\n",
      "Año 1988 : 1849.0 mm\n",
      "Año 1989 : 651.3 mm\n",
      "Año 1990 : 1066.6999999999998 mm\n",
      "Año 1991 : 1152.7 mm\n",
      "Año 1992 : 720.2 mm\n",
      "Año 1993 : 445.2 mm\n",
      "Año 1994 : 374.20000000000005 mm\n",
      "Año 1995 : 809.6 mm\n",
      "Año 1996 : 1444.3 mm\n",
      "Año 1997 : 874.5 mm\n",
      "Año 1998 : 47.0 mm\n",
      "Año 1999 : 836.5999999999999 mm\n",
      "Año 2000 : 1183.4 mm\n",
      "Año 2001 : 59.5 mm\n",
      "Año 2002 : 922.8 mm\n",
      "Año 2003 : 860.8000000000001 mm\n",
      "Año 2004 : 1103.5 mm\n",
      "Año 2005 : 1657.9 mm\n",
      "Año 2006 : 0.0 mm\n",
      "Año 2007 : 1228.0 mm\n",
      "Año 2008 : 1127.0 mm\n",
      "Año 2009 : 566.7 mm\n",
      "Año 2010 : 1643.5 mm\n",
      "Año 2011 : 798.4 mm\n",
      "Año 2012 : 1315.2 mm\n"
     ]
    }
   ],
   "source": [
    "# Años húmedos y años secos\n",
    "for i in range(1964,2012):\n",
    "    PrecipAnual = df['PRECIP'][df['Año']==[i+1]].sum()\n",
    "    print(\"Año\", i+1,\":\", PrecipAnual, \"mm\")"
   ]
  },
  {
   "cell_type": "code",
   "execution_count": 42,
   "metadata": {},
   "outputs": [
    {
     "name": "stdout",
     "output_type": "stream",
     "text": [
      "Año: 1965 Num Datos 365 ,  100.0 %\n",
      "Año: 1966 Num Datos 31 ,  8.0 %\n",
      "Año: 1967 Num Datos 62 ,  17.0 %\n",
      "Año: 1968 Num Datos 61 ,  17.0 %\n",
      "Año: 1969 Num Datos 153 ,  42.0 %\n",
      "Año: 1970 Num Datos 153 ,  42.0 %\n",
      "Año: 1971 Num Datos 365 ,  100.0 %\n",
      "Año: 1972 Num Datos 335 ,  92.0 %\n",
      "Año: 1973 Num Datos 365 ,  100.0 %\n",
      "Año: 1974 Num Datos 365 ,  100.0 %\n",
      "Año: 1975 Num Datos 243 ,  67.0 %\n",
      "Año: 1976 Num Datos 366 ,  100.0 %\n",
      "Año: 1977 Num Datos 365 ,  100.0 %\n",
      "Año: 1978 Num Datos 334 ,  92.0 %\n",
      "Año: 1979 Num Datos 365 ,  100.0 %\n",
      "Año: 1980 Num Datos 366 ,  100.0 %\n",
      "Año: 1981 Num Datos 275 ,  75.0 %\n",
      "Año: 1982 Num Datos 365 ,  100.0 %\n",
      "Año: 1983 Num Datos 276 ,  76.0 %\n",
      "Año: 1984 Num Datos 151 ,  41.0 %\n",
      "Año: 1985 Num Datos 61 ,  17.0 %\n",
      "Año: 1986 Num Datos 364 ,  100.0 %\n",
      "Año: 1987 Num Datos 365 ,  100.0 %\n",
      "Año: 1988 Num Datos 337 ,  92.0 %\n",
      "Año: 1989 Num Datos 304 ,  83.0 %\n",
      "Año: 1990 Num Datos 214 ,  59.0 %\n",
      "Año: 1991 Num Datos 365 ,  100.0 %\n",
      "Año: 1992 Num Datos 366 ,  100.0 %\n",
      "Año: 1993 Num Datos 365 ,  100.0 %\n",
      "Año: 1994 Num Datos 365 ,  100.0 %\n",
      "Año: 1995 Num Datos 363 ,  99.0 %\n",
      "Año: 1996 Num Datos 366 ,  100.0 %\n",
      "Año: 1997 Num Datos 365 ,  100.0 %\n",
      "Año: 1998 Num Datos 87 ,  24.0 %\n",
      "Año: 1999 Num Datos 153 ,  42.0 %\n",
      "Año: 2000 Num Datos 366 ,  100.0 %\n",
      "Año: 2001 Num Datos 62 ,  17.0 %\n",
      "Año: 2002 Num Datos 152 ,  42.0 %\n",
      "Año: 2003 Num Datos 365 ,  100.0 %\n",
      "Año: 2004 Num Datos 360 ,  99.0 %\n",
      "Año: 2005 Num Datos 357 ,  98.0 %\n",
      "Año: 2006 Num Datos 0 ,  0.0 %\n",
      "Año: 2007 Num Datos 365 ,  100.0 %\n",
      "Año: 2008 Num Datos 366 ,  100.0 %\n",
      "Año: 2009 Num Datos 298 ,  82.0 %\n",
      "Año: 2010 Num Datos 364 ,  100.0 %\n",
      "Año: 2011 Num Datos 365 ,  100.0 %\n",
      "Año: 2012 Num Datos 366 ,  100.0 %\n"
     ]
    }
   ],
   "source": [
    "# Número de datos faltantes por año\n",
    "for i in range(1964,2012):\n",
    "    NumDatos= df['PRECIP'][df['Año']==[i+1]].count()\n",
    "    print(\"Año:\", i+1, \"Num Datos\", NumDatos, \", \", np.round(NumDatos/365.0, decimals=2)*100, \"%\")"
   ]
  },
  {
   "cell_type": "code",
   "execution_count": 43,
   "metadata": {},
   "outputs": [
    {
     "name": "stdout",
     "output_type": "stream",
     "text": [
      "Año 1965 : 2180.8 mm\n",
      "Año 1966 : 92.00000000000001 mm\n",
      "Año 1967 : 359.5 mm\n",
      "Año 1968 : 293.7 mm\n",
      "Año 1969 : 707.7 mm\n",
      "Año 1970 : 612.3 mm\n",
      "Año 1971 : 1891.8000000000002 mm\n",
      "Año 1972 : 1364.7 mm\n",
      "Año 1973 : 1790.2 mm\n",
      "Año 1974 : 775.5 mm\n",
      "Año 1975 : 720.2999999999998 mm\n",
      "Año 1976 : 1509.9 mm\n",
      "Año 1977 : 1590.1000000000001 mm\n",
      "Año 1978 : 1562.3 mm\n",
      "Año 1979 : 1701.5 mm\n",
      "Año 1980 : 1561.7 mm\n",
      "Año 1981 : 934.6999999999999 mm\n",
      "Año 1982 : 1434.4 mm\n",
      "Año 1983 : 1077.4 mm\n",
      "Año 1984 : 650.0 mm\n",
      "Año 1985 : 218.4 mm\n",
      "Año 1986 : 1623.8000000000002 mm\n",
      "Año 1987 : 654.5 mm\n",
      "Año 1988 : 903.4000000000001 mm\n",
      "Año 1989 : 1336.8000000000002 mm\n",
      "Año 1990 : 0.0 mm\n",
      "Año 1991 : 1629.5 mm\n",
      "Año 1992 : 846.3000000000001 mm\n",
      "Año 1993 : 1063.4 mm\n",
      "Año 1994 : 1060.6 mm\n",
      "Año 1995 : 1054.1 mm\n",
      "Año 1996 : 1376.2 mm\n",
      "Año 1997 : 818.1 mm\n",
      "Año 1998 : 0.0 mm\n",
      "Año 1999 : 518.9 mm\n",
      "Año 2000 : 1497.2 mm\n",
      "Año 2001 : 201.99999999999997 mm\n",
      "Año 2002 : 511.3 mm\n",
      "Año 2003 : 1798.6 mm\n",
      "Año 2004 : 340.8 mm\n",
      "Año 2005 : 0.0 mm\n",
      "Año 2006 : 0.0 mm\n",
      "Año 2007 : 1316.3999999999999 mm\n",
      "Año 2008 : 1527.0 mm\n",
      "Año 2009 : 478.59999999999997 mm\n",
      "Año 2010 : 0.0 mm\n",
      "Año 2011 : 0.0 mm\n",
      "Año 2012 : 0.0 mm\n"
     ]
    }
   ],
   "source": [
    "# Años húmedos y años secos\n",
    "for i in range(1964,2012):\n",
    "    HumAnual = df['EVAP'][df['Año']==[i+1]].sum()\n",
    "    print(\"Año\", i+1,\":\", HumAnual, \"mm\")"
   ]
  },
  {
   "cell_type": "code",
   "execution_count": 44,
   "metadata": {},
   "outputs": [
    {
     "name": "stdout",
     "output_type": "stream",
     "text": [
      "Año: 1965 Num Datos 361 ,  99.0 %\n",
      "Año: 1966 Num Datos 31 ,  8.0 %\n",
      "Año: 1967 Num Datos 62 ,  17.0 %\n",
      "Año: 1968 Num Datos 61 ,  17.0 %\n",
      "Año: 1969 Num Datos 121 ,  33.0 %\n",
      "Año: 1970 Num Datos 135 ,  37.0 %\n",
      "Año: 1971 Num Datos 365 ,  100.0 %\n",
      "Año: 1972 Num Datos 274 ,  75.0 %\n",
      "Año: 1973 Num Datos 365 ,  100.0 %\n",
      "Año: 1974 Num Datos 151 ,  41.0 %\n",
      "Año: 1975 Num Datos 151 ,  41.0 %\n",
      "Año: 1976 Num Datos 303 ,  83.0 %\n",
      "Año: 1977 Num Datos 332 ,  91.0 %\n",
      "Año: 1978 Num Datos 331 ,  91.0 %\n",
      "Año: 1979 Num Datos 364 ,  100.0 %\n",
      "Año: 1980 Num Datos 363 ,  99.0 %\n",
      "Año: 1981 Num Datos 215 ,  59.0 %\n",
      "Año: 1982 Num Datos 334 ,  92.0 %\n",
      "Año: 1983 Num Datos 242 ,  66.0 %\n",
      "Año: 1984 Num Datos 139 ,  38.0 %\n",
      "Año: 1985 Num Datos 59 ,  16.0 %\n",
      "Año: 1986 Num Datos 354 ,  97.0 %\n",
      "Año: 1987 Num Datos 163 ,  45.0 %\n",
      "Año: 1988 Num Datos 221 ,  61.0 %\n",
      "Año: 1989 Num Datos 240 ,  66.0 %\n",
      "Año: 1990 Num Datos 0 ,  0.0 %\n",
      "Año: 1991 Num Datos 350 ,  96.0 %\n",
      "Año: 1992 Num Datos 182 ,  50.0 %\n",
      "Año: 1993 Num Datos 346 ,  95.0 %\n",
      "Año: 1994 Num Datos 364 ,  100.0 %\n",
      "Año: 1995 Num Datos 331 ,  91.0 %\n",
      "Año: 1996 Num Datos 329 ,  90.0 %\n",
      "Año: 1997 Num Datos 178 ,  49.0 %\n",
      "Año: 1998 Num Datos 0 ,  0.0 %\n",
      "Año: 1999 Num Datos 142 ,  39.0 %\n",
      "Año: 2000 Num Datos 347 ,  95.0 %\n",
      "Año: 2001 Num Datos 61 ,  17.0 %\n",
      "Año: 2002 Num Datos 142 ,  39.0 %\n",
      "Año: 2003 Num Datos 364 ,  100.0 %\n",
      "Año: 2004 Num Datos 91 ,  25.0 %\n",
      "Año: 2005 Num Datos 0 ,  0.0 %\n",
      "Año: 2006 Num Datos 0 ,  0.0 %\n",
      "Año: 2007 Num Datos 309 ,  85.0 %\n",
      "Año: 2008 Num Datos 304 ,  83.0 %\n",
      "Año: 2009 Num Datos 110 ,  30.0 %\n",
      "Año: 2010 Num Datos 0 ,  0.0 %\n",
      "Año: 2011 Num Datos 0 ,  0.0 %\n",
      "Año: 2012 Num Datos 0 ,  0.0 %\n"
     ]
    }
   ],
   "source": [
    "\n",
    "# Número de datos faltantes por año\n",
    "for i in range(1964,2012):\n",
    "    NumDatos= df['EVAP'][df['Año']==[i+1]].count()\n",
    "    print(\"Año:\", i+1, \"Num Datos\", NumDatos, \", \", np.round(NumDatos/365.0, decimals=2)*100, \"%\")"
   ]
  },
  {
   "cell_type": "code",
   "execution_count": 45,
   "metadata": {},
   "outputs": [
    {
     "name": "stdout",
     "output_type": "stream",
     "text": [
      "Año 1965 : 2180.8 mm\n",
      "Año 1966 : 92.00000000000001 mm\n",
      "Año 1967 : 359.5 mm\n",
      "Año 1968 : 293.7 mm\n",
      "Año 1969 : 707.7 mm\n",
      "Año 1970 : 612.3 mm\n",
      "Año 1971 : 1891.8000000000002 mm\n",
      "Año 1972 : 1364.7 mm\n",
      "Año 1973 : 1790.2 mm\n",
      "Año 1974 : 775.5 mm\n",
      "Año 1975 : 720.2999999999998 mm\n",
      "Año 1976 : 1509.9 mm\n",
      "Año 1977 : 1590.1000000000001 mm\n",
      "Año 1978 : 1562.3 mm\n",
      "Año 1979 : 1701.5 mm\n",
      "Año 1980 : 1561.7 mm\n",
      "Año 1981 : 934.6999999999999 mm\n",
      "Año 1982 : 1434.4 mm\n",
      "Año 1983 : 1077.4 mm\n",
      "Año 1984 : 650.0 mm\n",
      "Año 1985 : 218.4 mm\n",
      "Año 1986 : 1623.8000000000002 mm\n",
      "Año 1987 : 654.5 mm\n",
      "Año 1988 : 903.4000000000001 mm\n",
      "Año 1989 : 1336.8000000000002 mm\n",
      "Año 1990 : 0.0 mm\n",
      "Año 1991 : 1629.5 mm\n",
      "Año 1992 : 846.3000000000001 mm\n",
      "Año 1993 : 1063.4 mm\n",
      "Año 1994 : 1060.6 mm\n",
      "Año 1995 : 1054.1 mm\n",
      "Año 1996 : 1376.2 mm\n",
      "Año 1997 : 818.1 mm\n",
      "Año 1998 : 0.0 mm\n",
      "Año 1999 : 518.9 mm\n",
      "Año 2000 : 1497.2 mm\n",
      "Año 2001 : 201.99999999999997 mm\n",
      "Año 2002 : 511.3 mm\n",
      "Año 2003 : 1798.6 mm\n",
      "Año 2004 : 340.8 mm\n",
      "Año 2005 : 0.0 mm\n",
      "Año 2006 : 0.0 mm\n",
      "Año 2007 : 1316.3999999999999 mm\n",
      "Año 2008 : 1527.0 mm\n",
      "Año 2009 : 478.59999999999997 mm\n",
      "Año 2010 : 0.0 mm\n",
      "Año 2011 : 0.0 mm\n",
      "Año 2012 : 0.0 mm\n"
     ]
    }
   ],
   "source": [
    "# Años húmedos y años secos\n",
    "for i in range(1964,2012):\n",
    "    HumAnual = df['EVAP'][df['Año']==[i+1]].sum()\n",
    "    print(\"Año\", i+1,\":\", HumAnual, \"mm\")"
   ]
  },
  {
   "cell_type": "code",
   "execution_count": 46,
   "metadata": {},
   "outputs": [],
   "source": [
    "PRECIPEne = df[(df['Mes'] == 1)]['PRECIP'].sum()/NumA\n",
    "PRECIPFeb = df[(df['Mes'] == 2)]['PRECIP'].sum()/NumA\n",
    "PRECIPMar = df[(df['Mes'] == 3)]['PRECIP'].sum()/NumA\n",
    "PRECIPAbr = df[(df['Mes'] == 4)]['PRECIP'].sum()/NumA\n",
    "PRECIPMay = df[(df['Mes'] == 5)]['PRECIP'].sum()/NumA\n",
    "PRECIPJun = df[(df['Mes'] == 6)]['PRECIP'].sum()/NumA\n",
    "PRECIPJul = df[(df['Mes'] == 7)]['PRECIP'].sum()/NumA\n",
    "PRECIPAgo = df[(df['Mes'] == 8)]['PRECIP'].sum()/NumA\n",
    "PRECIPSep = df[(df['Mes'] == 9)]['PRECIP'].sum()/NumA\n",
    "PRECIPOct = df[(df['Mes'] == 10)]['PRECIP'].sum()/NumA\n",
    "PRECIPNov = df[(df['Mes'] == 11)]['PRECIP'].sum()/NumA\n",
    "PRECIPDic = df[(df['Mes'] == 12)]['PRECIP'].sum()/NumA"
   ]
  },
  {
   "cell_type": "code",
   "execution_count": 47,
   "metadata": {},
   "outputs": [
    {
     "name": "stdout",
     "output_type": "stream",
     "text": [
      "50.5\n",
      "92.85\n",
      "135.22\n",
      "179.37\n",
      "272.71\n",
      "369.61\n",
      "450.07\n",
      "527.72\n",
      "645.33\n",
      "770.23\n",
      "839.65\n",
      "896.11\n"
     ]
    }
   ],
   "source": [
    "# La precipitación mensual promedio acumulada \n",
    "x = (PRECIPEne,PRECIPFeb,PRECIPMar,PRECIPAbr,PRECIPMay,PRECIPJun,\n",
    "     PRECIPJul,PRECIPAgo,PRECIPSep,PRECIPOct,PRECIPNov,PRECIPDic)\n",
    "total = 0.0\n",
    "for i in range(0,12):\n",
    "    PrecipPromAc = x[i]\n",
    "    total = total + PrecipPromAc\n",
    "    print(np.round(total, decimals=2))"
   ]
  },
  {
   "cell_type": "code",
   "execution_count": 48,
   "metadata": {},
   "outputs": [],
   "source": [
    "x = (50.5, 92.85, 135.22, 179.37,\n",
    "     272.71 ,369.61 ,450.06 ,527.72 \n",
    "     ,645.32 ,770.23 ,839.65 ,896.11)"
   ]
  },
  {
   "cell_type": "code",
   "execution_count": 49,
   "metadata": {},
   "outputs": [
    {
     "data": {
      "image/png": "[encoded data removed]",
      "text/plain": [
       "<Figure size 432x288 with 1 Axes>"
      ]
     },
     "metadata": {
      "needs_background": "light"
     },
     "output_type": "display_data"
    }
   ],
   "source": [
    "import numpy as np\n",
    "import matplotlib.pyplot as plt\n",
    "\n",
    "x = (50.49, 92.85, 135.22, 179.37,\n",
    "     272.71 ,369.61 ,450.06 ,527.72 \n",
    "     ,645.32 ,770.23 ,839.65 ,896.11)\n",
    "\n",
    "ind = np.arange(len(x))\n",
    "width = 0.35\n",
    "\n",
    "fig, ax = plt.subplots()\n",
    "rects1 = ax.bar(ind - width/2, x, width, color='Grey', label='Promedio Acumulado')\n",
    "\n",
    "\n",
    "plt.show()"
   ]
  },
  {
   "cell_type": "code",
   "execution_count": 50,
   "metadata": {},
   "outputs": [
    {
     "name": "stdout",
     "output_type": "stream",
     "text": [
      "868.2\n",
      "887.3\n",
      "999.1\n",
      "1035.8\n",
      "1424.1\n",
      "1672.1\n",
      "2715.1\n",
      "4161.8\n",
      "5338.1\n",
      "6232.2\n",
      "7387.7\n",
      "8726.3\n",
      "10049.4\n",
      "11390.2\n",
      "12730.4\n",
      "14081.2\n",
      "14919.0\n",
      "16109.0\n",
      "17646.1\n",
      "18225.9\n",
      "18453.9\n",
      "19293.0\n",
      "19793.5\n",
      "21642.5\n",
      "22293.8\n",
      "23360.5\n",
      "24513.2\n",
      "25233.4\n",
      "25678.6\n",
      "26052.8\n",
      "26862.4\n",
      "28306.7\n",
      "29181.2\n",
      "29228.2\n",
      "30064.8\n",
      "31248.2\n",
      "31307.7\n",
      "32230.5\n",
      "33091.3\n",
      "34194.8\n",
      "35852.7\n",
      "35852.7\n",
      "37080.7\n",
      "38207.7\n",
      "38774.4\n",
      "40417.9\n",
      "41216.3\n",
      "42531.5\n"
     ]
    }
   ],
   "source": [
    "total = 0\n",
    "for i in range(1964,2012):\n",
    "    PrecipAnual = df['PRECIP'][df['Año']==[i+1]].sum()\n",
    "    total = total + PrecipAnual\n",
    "    print(np.round(total, decimals=2))"
   ]
  },
  {
   "cell_type": "code",
   "execution_count": 62,
   "metadata": {},
   "outputs": [],
   "source": [
    "x = (868.2,887.3,999.1,1035.8,1424.1,1672.1,2715.1,4161.8,5338.1,6232.2,7387.7\n",
    "    ,8726.3,10049.4,11390.2,12730.4,14081.2,14919.0,16109.0,17646.1,18225.9,18453.9\n",
    "    ,19293.0,19793.5,21642.5,22293.8,23360.5,24513.2,25233.4,25678.6,26052.8,26862.4\n",
    "    ,28306.7,29181.2,29228.2,30064.8,31248.2,31307.7,32230.5,33091.3,34194.8,35852.7,35852.7\n",
    "    ,37080.7,38207.7,38774.4,40417.9,41216.3,42531.5)"
   ]
  },
  {
   "cell_type": "code",
   "execution_count": 63,
   "metadata": {},
   "outputs": [
    {
     "data": {
      "image/png": "[encoded data removed]",
      "text/plain": [
       "<Figure size 432x288 with 1 Axes>"
      ]
     },
     "metadata": {
      "needs_background": "light"
     },
     "output_type": "display_data"
    }
   ],
   "source": [
    "import numpy as np\n",
    "import matplotlib.pyplot as plt\n",
    "\n",
    "\n",
    "ind = np.arange(len(x))\n",
    "width = 0.5\n",
    "\n",
    "fig, ax = plt.subplots()\n",
    "rects1 = ax.bar(ind - width, x, width, color='blue', label='Promedio Acumulado')\n",
    "\n",
    "\n",
    "plt.show()"
   ]
  },
  {
   "cell_type": "code",
   "execution_count": 61,
   "metadata": {},
   "outputs": [
    {
     "data": {
      "text/plain": [
       "18.818197424892706"
      ]
     },
     "execution_count": 61,
     "metadata": {},
     "output_type": "execute_result"
    }
   ],
   "source": []
  },
  {
   "cell_type": "code",
   "execution_count": 68,
   "metadata": {
    "scrolled": false
   },
   "outputs": [
    {
     "name": "stdout",
     "output_type": "stream",
     "text": [
      "18.79\n",
      "19.5\n",
      "20.47\n",
      "20.86\n",
      "21.32\n",
      "21.65\n",
      "21.07\n",
      "21.16\n",
      "20.92\n",
      "20.16\n",
      "19.61\n",
      "18.82\n",
      " \n",
      "29.88\n",
      "30.37\n",
      "31.07\n",
      "31.19\n",
      "31.7\n",
      "31.53\n",
      "31.84\n",
      "31.75\n",
      "31.28\n",
      "31.01\n",
      "30.47\n",
      "29.84\n"
     ]
    }
   ],
   "source": [
    "for i in range(12):\n",
    "    TminPromMensual = df[df['Mes']==i+1]['TMIN'].sum()/df[df['Mes'] ==i+1]['TMIN'].count()\n",
    "    print(np.round(TminPromMensual, decimals=2))\n",
    "  \n",
    "print(\" \")\n",
    "    \n",
    "for i in range(12):\n",
    "    TmaxPromMensual = df[df['Mes']==i+1]['TMAX'].sum()/df[df['Mes'] ==i+1]['TMAX'].count()\n",
    "    print(np.round(TmaxPromMensual, decimals=2))"
   ]
  },
  {
   "cell_type": "code",
   "execution_count": 72,
   "metadata": {},
   "outputs": [],
   "source": [
    "tempmin = (18.79,19.5,20.47,20.86,21.32,21.65,21.07,21.16,20.92,20.16,19.61,18.82)\n",
    "tempmax = (29.88, 30.37, 31.07, 31.19, 31.7, 31.53, 31.84, \n",
    "           31.75, 31.28, 31.01, 30.47, 29.84)\n",
    "meses = (1, 2, 3, 4, 5, 6, 7, 8, 9, 10, 11, 12)"
   ]
  },
  {
   "cell_type": "code",
   "execution_count": 79,
   "metadata": {},
   "outputs": [
    {
     "data": {
      "image/png": "[encoded data removed]",
      "text/plain": [
       "<Figure size 432x288 with 1 Axes>"
      ]
     },
     "metadata": {
      "needs_background": "light"
     },
     "output_type": "display_data"
    }
   ],
   "source": [
    "x = np.linspace(1, 12, 100)\n",
    "\n",
    "plt.plot(meses, tempmax, label='Temperaturas Máximas')\n",
    "plt.plot(meses, tempmin, label='Temperaturas Mínimas')\n",
    "\n",
    "plt.xlabel('Meses')\n",
    "plt.ylabel('Temperaturas en Centígrados')\n",
    "\n",
    "plt.title(\"Temperatruas máximas y mínimas\")\n",
    "\n",
    "plt.legend()\n",
    "\n",
    "plt.show()"
   ]
  },
  {
   "cell_type": "code",
   "execution_count": 230,
   "metadata": {},
   "outputs": [
    {
     "data": {
      "image/png": "[encoded data removed]",
      "text/plain": [
       "<Figure size 792x288 with 2 Axes>"
      ]
     },
     "metadata": {
      "needs_background": "light"
     },
     "output_type": "display_data"
    }
   ],
   "source": [
    "import matplotlib.pyplot as plt\n",
    "import numpy as np\n",
    "\n",
    "\n",
    "label1 = ['Mínima']\n",
    "label2 = ['Máxima']\n",
    "\n",
    "fig, axes = plt.subplots(nrows=1, ncols=2, figsize=(11, 4))\n",
    "\n",
    "# rectangular box plot\n",
    "bplot1 = axes[0].boxplot(tempmin,\n",
    "                         vert=True,  # vertical box alignment\n",
    "                         patch_artist=True,  # fill with color\n",
    "                         labels= label1)  # will be used to label x-ticks\n",
    "axes[0].set_title('Temperaturas mínimas')\n",
    "\n",
    "bplot1 = axes[1].boxplot(tempmax,\n",
    "                         vert=True,  # vertical box alignment\n",
    "                         patch_artist=True,  # fill with color\n",
    "                         labels= label2)  # will be used to label x-ticks\n",
    "axes[1].set_title('Temperaturas máximas')\n",
    "\n",
    "# adding horizontal grid lines\n",
    "for ax in axes:\n",
    "    ax.yaxis.grid(True)\n",
    "    ax.set_ylabel('Temperatura en Centígrados')\n",
    "\n",
    "plt.show(bplot1)"
   ]
  },
  {
   "cell_type": "code",
   "execution_count": 131,
   "metadata": {},
   "outputs": [
    {
     "name": "stdout",
     "output_type": "stream",
     "text": [
      "28.872\n",
      "27.596\n",
      "27.532\n",
      "32.613\n",
      "30.779\n",
      "30.94\n",
      "31.611\n",
      "30.623\n",
      "30.522\n",
      "30.781\n",
      "31.726\n",
      "30.496\n",
      "29.863\n",
      "29.893\n",
      "31.473\n",
      "32.149\n",
      "32.458\n",
      "32.113\n",
      "32.341\n",
      "32.537\n",
      "31.669\n",
      "29.328\n",
      "30.848\n",
      "30.541\n",
      "31.314\n",
      "31.031\n",
      "31.0\n",
      "31.413\n",
      "30.56\n",
      "30.773\n",
      "31.023\n",
      "30.511\n",
      "30.849\n",
      "31.988\n",
      "30.859\n",
      "31.753\n",
      "31.537\n",
      "30.048\n",
      "31.179\n",
      "31.529\n",
      "30.737\n",
      "32.223\n",
      "nan\n",
      "31.885\n",
      "32.48\n",
      "31.408\n",
      "30.453\n",
      "29.355\n",
      "28.605\n"
     ]
    },
    {
     "name": "stderr",
     "output_type": "stream",
     "text": [
      "/anaconda3/lib/python3.7/site-packages/ipykernel_launcher.py:6: RuntimeWarning: invalid value encountered in double_scalars\n",
      "  \n"
     ]
    }
   ],
   "source": [
    "for i in range(1963,2012):\n",
    "    TmaxAnual = df['TMAX'][df['Año']==[i+1]].sum()\n",
    "    NumDatos= df['TMAX'][df['Año']==[i+1]].count()\n",
    "    print(np.round(TmaxAnual/NumDatos, decimals=3))"
   ]
  },
  {
   "cell_type": "code",
   "execution_count": 168,
   "metadata": {},
   "outputs": [],
   "source": [
    "x[1]=(28.872)\n",
    "x[2] =(27.596)\n",
    "x[3] =(27.532)\n",
    "x[4] =(32.613)\n",
    "x[5] =(30.779)\n",
    "x[6] =(30.94)\n",
    "x[7] =(31.611)\n",
    "x[8] =(30.623)\n",
    "x[9] =(30.522)\n",
    "x[10] =(30.781)\n",
    "x[11] =(31.726)\n",
    "x[12] =(30.496)\n",
    "x[13] =(29.863)\n",
    "x[14] =(29.893)\n",
    "x[15] =(31.473)\n",
    "x[16] =(32.149)\n",
    "x[17] =(32.458)\n",
    "x[18] =(32.113)\n",
    "x[19] =(32.341)\n",
    "x[20] =(32.537)\n",
    "x[21] =(31.669)\n",
    "x[22] =(29.328)\n",
    "x[23] =(30.848)\n",
    "x[24] =(30.541)\n",
    "x[25] =(31.314)\n",
    "x[26] =(31.031)\n",
    "x[27] =(31.0)\n",
    "x[28] =(31.413)\n",
    "x[29] =(30.56)\n",
    "x[30] =(30.773)\n",
    "x[31] =(31.023)\n",
    "x[32] =(30.511)\n",
    "x[33] =(30.849)\n",
    "x[34] =(31.988)\n",
    "x[35] =(30.859)\n",
    "x[36] =(31.753)\n",
    "x[37] =(31.537)\n",
    "x[38] =(30.048)\n",
    "x[39] =(31.179)\n",
    "x[40] =(31.529)\n",
    "x[41] =(30.737)\n",
    "x[42] =(32.223)\n",
    "x[43] =(31.885)\n",
    "x[44] =(32.48)\n",
    "x[45] =(31.408)\n",
    "x[46] =(30.453)\n",
    "x[47] =(29.355)\n",
    "x[48] =(28.605)"
   ]
  },
  {
   "cell_type": "code",
   "execution_count": 197,
   "metadata": {},
   "outputs": [
    {
     "name": "stdout",
     "output_type": "stream",
     "text": [
      "21.96\n",
      "17.35\n",
      "22.74\n",
      "22.07\n",
      "24.41\n",
      "21.55\n",
      "22.79\n",
      "23.02\n",
      "22.14\n",
      "20.73\n",
      "17.11\n",
      "19.52\n",
      "20.07\n",
      "20.4\n",
      "20.43\n",
      "20.32\n",
      "18.24\n",
      "20.74\n",
      "20.93\n",
      "20.27\n",
      "19.6\n",
      "20.91\n",
      "20.71\n",
      "19.24\n",
      "22.76\n",
      "15.83\n",
      "15.79\n",
      "13.63\n",
      "16.23\n",
      "21.29\n",
      "18.5\n",
      "20.13\n",
      "20.95\n",
      "18.58\n",
      "20.53\n",
      "21.53\n",
      "20.22\n",
      "21.65\n",
      "22.31\n",
      "21.38\n",
      "20.88\n",
      "nan\n",
      "21.41\n",
      "21.49\n",
      "20.62\n",
      "20.38\n",
      "21.42\n",
      "20.75\n",
      " \n",
      "27.6\n",
      "27.53\n",
      "32.61\n",
      "30.78\n",
      "30.94\n",
      "31.61\n",
      "30.62\n",
      "30.52\n",
      "30.78\n",
      "31.73\n",
      "30.5\n",
      "29.86\n",
      "29.89\n",
      "31.47\n",
      "32.15\n",
      "32.46\n",
      "32.11\n",
      "32.34\n",
      "32.54\n",
      "31.67\n",
      "29.33\n",
      "30.85\n",
      "30.54\n",
      "31.31\n",
      "31.03\n",
      "31.0\n",
      "31.41\n",
      "30.56\n",
      "30.77\n",
      "31.02\n",
      "30.51\n",
      "30.85\n",
      "31.99\n",
      "30.86\n",
      "31.75\n",
      "31.54\n",
      "30.05\n",
      "31.18\n",
      "31.53\n",
      "30.74\n",
      "32.22\n",
      "nan\n",
      "31.89\n",
      "32.48\n",
      "31.41\n",
      "30.45\n",
      "29.35\n",
      "28.6\n"
     ]
    },
    {
     "name": "stderr",
     "output_type": "stream",
     "text": [
      "/anaconda3/lib/python3.7/site-packages/ipykernel_launcher.py:2: RuntimeWarning: invalid value encountered in double_scalars\n",
      "  \n",
      "/anaconda3/lib/python3.7/site-packages/ipykernel_launcher.py:8: RuntimeWarning: invalid value encountered in double_scalars\n",
      "  \n"
     ]
    }
   ],
   "source": [
    "for i in range(1964,2012):\n",
    "    TminPromAnual = df[df['Año']==i+1]['TMIN'].sum()/df[df['Año'] ==i+1]['TMIN'].count()\n",
    "    print(np.round(TminPromAnual, decimals=2))\n",
    "  \n",
    "print(\" \")\n",
    "    \n",
    "for i in range(1964,2012):\n",
    "    TmaxPromAnual = df[df['Año']==i+1]['TMAX'].sum()/df[df['Año'] ==i+1]['TMAX'].count()\n",
    "    print(np.round(TmaxPromAnual, decimals=2))"
   ]
  },
  {
   "cell_type": "code",
   "execution_count": 208,
   "metadata": {},
   "outputs": [],
   "source": [
    "temp1 = (21.96\n",
    ",17.35\n",
    ",22.74\n",
    ",22.07\n",
    ",24.41\n",
    ",21.55\n",
    ",22.79\n",
    ",23.02\n",
    ",22.14\n",
    ",20.73)\n",
    "temp3 = (17.11\n",
    ",19.52\n",
    ",20.07\n",
    ",20.4\n",
    ",20.43\n",
    ",20.32\n",
    ",18.24\n",
    ",20.74\n",
    ",20.93\n",
    ",20.27)\n",
    "temp5 = (19.6\n",
    ",20.91\n",
    ",20.71\n",
    ",19.24\n",
    ",22.76\n",
    ",15.83\n",
    ",15.79\n",
    ",13.63\n",
    ",16.23\n",
    ",21.29)\n",
    "temp7 = (18.5\n",
    ",20.13\n",
    ",20.95\n",
    ",18.58\n",
    ",20.53\n",
    ",21.53\n",
    ",20.22\n",
    ",21.65\n",
    ",22.31\n",
    ",21.38)\n",
    "temp9 = (20.88\n",
    ",21.41\n",
    ",21.49\n",
    ",20.62\n",
    ",20.38\n",
    ",21.42\n",
    ",20.75)\n",
    "\n",
    "tempmax1 = (27.6\n",
    ",27.53\n",
    ",32.61\n",
    ",30.78\n",
    ",30.94\n",
    ",31.61\n",
    ",30.62\n",
    ",30.52\n",
    ",30.78\n",
    ",31.73)\n",
    "tempmax3 =(30.5\n",
    ",29.86\n",
    ",29.89\n",
    ",31.47\n",
    ",32.15\n",
    ",32.46\n",
    ",32.11\n",
    ",32.34\n",
    ",32.54\n",
    ",31.67)\n",
    "tempmax5 =(29.33\n",
    ",30.85\n",
    ",30.54\n",
    ",31.31\n",
    ",31.03\n",
    ",31.0\n",
    ",31.41\n",
    ",30.56\n",
    ",30.77\n",
    ",31.02)\n",
    "tempmax7 =(30.51\n",
    ",30.85\n",
    ",31.99\n",
    ",30.86\n",
    ",31.75\n",
    ",31.54\n",
    ",30.05\n",
    ",31.18\n",
    ",31.53\n",
    ",30.74\n",
    ",32.22)\n",
    "tempmax9 =(31.89\n",
    ",32.48\n",
    ",31.41\n",
    ",30.45\n",
    ",29.35\n",
    ",28.6)"
   ]
  },
  {
   "cell_type": "code",
   "execution_count": null,
   "metadata": {},
   "outputs": [],
   "source": []
  },
  {
   "cell_type": "code",
   "execution_count": 231,
   "metadata": {},
   "outputs": [
    {
     "data": {
      "image/png": "[encoded data removed]",
      "text/plain": [
       "<Figure size 936x360 with 2 Axes>"
      ]
     },
     "metadata": {
      "needs_background": "light"
     },
     "output_type": "display_data"
    }
   ],
   "source": [
    "import matplotlib.pyplot as plt\n",
    "import numpy as np\n",
    "\n",
    "minimas = [temp1, temp3,temp5,temp7,temp9]\n",
    "maximas =[tempmax1,tempmax3,tempmax5,tempmax7,tempmax9]\n",
    "labels = ['1964-1973','1974-1983','1984-1993','1994-2003','2004-2012']\n",
    "\n",
    "fig, axes = plt.subplots(nrows=1, ncols=2, figsize=(13, 5))\n",
    "\n",
    "# rectangular box plot\n",
    "bplot1 = axes[0].boxplot(minimas,\n",
    "                         vert=True,  # vertical box alignment\n",
    "                         patch_artist=True,  # fill with color\n",
    "                         labels=labels)  # will be used to label x-ticks\n",
    "axes[0].set_title('Temperaturas mínimas')\n",
    "\n",
    "bplot2 = axes[1].boxplot(maximas,\n",
    "                         vert=True,  # vertical box alignment\n",
    "                         patch_artist=True,  # fill with color\n",
    "                         labels=labels)  # will be used to label x-ticks\n",
    "axes[1].set_title('Temperaturas máximas')\n",
    "\n",
    "\n",
    "# adding horizontal grid lines\n",
    "for ax in axes:\n",
    "    ax.yaxis.grid(True)\n",
    "    ax.set_xlabel('Intervalos de 10 años')\n",
    "    ax.set_ylabel('Temperatura en Centígrados')\n",
    "\n",
    "plt.show()"
   ]
  },
  {
   "cell_type": "code",
   "execution_count": null,
   "metadata": {},
   "outputs": [],
   "source": []
  }
 ],
 "metadata": {
  "kernelspec": {
   "display_name": "Python 3",
   "language": "python",
   "name": "python3"
  },
  "language_info": {
   "codemirror_mode": {
    "name": "ipython",
    "version": 3
   },
   "file_extension": ".py",
   "mimetype": "text/x-python",
   "name": "python",
   "nbconvert_exporter": "python",
   "pygments_lexer": "ipython3",
   "version": "3.7.1"
  }
 },
 "nbformat": 4,
 "nbformat_minor": 2
}
