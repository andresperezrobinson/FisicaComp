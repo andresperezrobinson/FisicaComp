{
 "cells": [
  {
   "cell_type": "code",
   "execution_count": 45,
   "metadata": {},
   "outputs": [],
   "source": [
    "import pandas as pd\n",
    "import numpy as np"
   ]
  },
  {
   "cell_type": "code",
   "execution_count": 46,
   "metadata": {},
   "outputs": [],
   "source": [
    "df = pd.read_csv('tulum.csv', sep=',', engine='python')"
   ]
  },
  {
   "cell_type": "code",
   "execution_count": 47,
   "metadata": {},
   "outputs": [],
   "source": [
    "df['NFecha'] =  pd.to_datetime(df['FECHA'], format='%d/%m/%Y')"
   ]
  },
  {
   "cell_type": "code",
   "execution_count": 48,
   "metadata": {},
   "outputs": [],
   "source": [
    "df['Año'] = df['NFecha'].dt.year\n",
    "df['Mes'] = df['NFecha'].dt.month"
   ]
  },
  {
   "cell_type": "code",
   "execution_count": 49,
   "metadata": {},
   "outputs": [
    {
     "data": {
      "text/html": [
       "<div>\n",
       "<style scoped>\n",
       "    .dataframe tbody tr th:only-of-type {\n",
       "        vertical-align: middle;\n",
       "    }\n",
       "\n",
       "    .dataframe tbody tr th {\n",
       "        vertical-align: top;\n",
       "    }\n",
       "\n",
       "    .dataframe thead th {\n",
       "        text-align: right;\n",
       "    }\n",
       "</style>\n",
       "<table border=\"1\" class=\"dataframe\">\n",
       "  <thead>\n",
       "    <tr style=\"text-align: right;\">\n",
       "      <th></th>\n",
       "      <th>PRECIP</th>\n",
       "      <th>EVAP</th>\n",
       "      <th>TMAX</th>\n",
       "      <th>TMIN</th>\n",
       "      <th>Año</th>\n",
       "      <th>Mes</th>\n",
       "    </tr>\n",
       "  </thead>\n",
       "  <tbody>\n",
       "    <tr>\n",
       "      <th>count</th>\n",
       "      <td>13763.000000</td>\n",
       "      <td>9863.000000</td>\n",
       "      <td>13388.000000</td>\n",
       "      <td>13385.000000</td>\n",
       "      <td>13796.000000</td>\n",
       "      <td>13796.000000</td>\n",
       "    </tr>\n",
       "    <tr>\n",
       "      <th>mean</th>\n",
       "      <td>3.125300</td>\n",
       "      <td>4.495387</td>\n",
       "      <td>30.991672</td>\n",
       "      <td>20.346328</td>\n",
       "      <td>1989.264062</td>\n",
       "      <td>6.667150</td>\n",
       "    </tr>\n",
       "    <tr>\n",
       "      <th>std</th>\n",
       "      <td>10.484947</td>\n",
       "      <td>2.057994</td>\n",
       "      <td>2.605869</td>\n",
       "      <td>3.989156</td>\n",
       "      <td>13.608035</td>\n",
       "      <td>3.474857</td>\n",
       "    </tr>\n",
       "    <tr>\n",
       "      <th>min</th>\n",
       "      <td>0.000000</td>\n",
       "      <td>0.000000</td>\n",
       "      <td>18.000000</td>\n",
       "      <td>4.300000</td>\n",
       "      <td>1964.000000</td>\n",
       "      <td>1.000000</td>\n",
       "    </tr>\n",
       "    <tr>\n",
       "      <th>25%</th>\n",
       "      <td>0.000000</td>\n",
       "      <td>3.000000</td>\n",
       "      <td>29.500000</td>\n",
       "      <td>18.000000</td>\n",
       "      <td>1978.000000</td>\n",
       "      <td>4.000000</td>\n",
       "    </tr>\n",
       "    <tr>\n",
       "      <th>50%</th>\n",
       "      <td>0.000000</td>\n",
       "      <td>4.300000</td>\n",
       "      <td>31.000000</td>\n",
       "      <td>21.000000</td>\n",
       "      <td>1989.000000</td>\n",
       "      <td>7.000000</td>\n",
       "    </tr>\n",
       "    <tr>\n",
       "      <th>75%</th>\n",
       "      <td>0.000000</td>\n",
       "      <td>5.800000</td>\n",
       "      <td>33.000000</td>\n",
       "      <td>23.000000</td>\n",
       "      <td>2001.000000</td>\n",
       "      <td>10.000000</td>\n",
       "    </tr>\n",
       "    <tr>\n",
       "      <th>max</th>\n",
       "      <td>200.000000</td>\n",
       "      <td>17.700000</td>\n",
       "      <td>45.000000</td>\n",
       "      <td>31.500000</td>\n",
       "      <td>2012.000000</td>\n",
       "      <td>12.000000</td>\n",
       "    </tr>\n",
       "  </tbody>\n",
       "</table>\n",
       "</div>"
      ],
      "text/plain": [
       "             PRECIP         EVAP          TMAX          TMIN           Año  \\\n",
       "count  13763.000000  9863.000000  13388.000000  13385.000000  13796.000000   \n",
       "mean       3.125300     4.495387     30.991672     20.346328   1989.264062   \n",
       "std       10.484947     2.057994      2.605869      3.989156     13.608035   \n",
       "min        0.000000     0.000000     18.000000      4.300000   1964.000000   \n",
       "25%        0.000000     3.000000     29.500000     18.000000   1978.000000   \n",
       "50%        0.000000     4.300000     31.000000     21.000000   1989.000000   \n",
       "75%        0.000000     5.800000     33.000000     23.000000   2001.000000   \n",
       "max      200.000000    17.700000     45.000000     31.500000   2012.000000   \n",
       "\n",
       "                Mes  \n",
       "count  13796.000000  \n",
       "mean       6.667150  \n",
       "std        3.474857  \n",
       "min        1.000000  \n",
       "25%        4.000000  \n",
       "50%        7.000000  \n",
       "75%       10.000000  \n",
       "max       12.000000  "
      ]
     },
     "execution_count": 49,
     "metadata": {},
     "output_type": "execute_result"
    }
   ],
   "source": [
    "df.describe()"
   ]
  },
  {
   "cell_type": "code",
   "execution_count": 50,
   "metadata": {},
   "outputs": [],
   "source": [
    "NumA = len(df['Año'].unique())"
   ]
  },
  {
   "cell_type": "code",
   "execution_count": 51,
   "metadata": {},
   "outputs": [
    {
     "name": "stdout",
     "output_type": "stream",
     "text": [
      "Empty DataFrame\n",
      "Columns: [FECHA, PRECIP, EVAP, TMAX, TMIN, NFecha, Año, Mes]\n",
      "Index: []\n"
     ]
    }
   ],
   "source": [
    "# 1) Número de días con heladas por año (FD: Tmin < 0ºC)\n",
    "df.TMIN.min()\n",
    "dhelada = df[df.TMIN < 0]\n",
    "print(dhelada)"
   ]
  },
  {
   "cell_type": "code",
   "execution_count": 52,
   "metadata": {},
   "outputs": [
    {
     "name": "stdout",
     "output_type": "stream",
     "text": [
      "           FECHA  PRECIP  EVAP  TMAX  TMIN     NFecha   Año  Mes\n",
      "7223  10/02/1991     0.0   4.9  29.3   4.3 1991-02-10  1991    2\n"
     ]
    }
   ],
   "source": [
    "# Ya que se vió que no huvo días con temperatura menor a 0 grados\n",
    "# Observaremos el día con la temperatura más baja.\n",
    "df.TMIN.min()\n",
    "\n",
    "dhelada = df[df.TMIN < df.TMIN.min() +.01]\n",
    "print(dhelada)"
   ]
  },
  {
   "cell_type": "code",
   "execution_count": 53,
   "metadata": {
    "scrolled": true
   },
   "outputs": [
    {
     "name": "stdout",
     "output_type": "stream",
     "text": [
      "13113\n",
      "\n",
      "1964 167 ; Datos totales 176 Porcentaje Válido ; 0.95\n",
      "1965 330 ; Datos totales 361 Porcentaje Válido ; 0.91\n",
      "1966 26 ; Datos totales 31 Porcentaje Válido ; 0.84\n",
      "1967 62 ; Datos totales 62 Porcentaje Válido ; 1.0\n",
      "1968 61 ; Datos totales 61 Porcentaje Válido ; 1.0\n",
      "1969 147 ; Datos totales 150 Porcentaje Válido ; 0.98\n",
      "1970 135 ; Datos totales 135 Porcentaje Válido ; 1.0\n",
      "1971 363 ; Datos totales 365 Porcentaje Válido ; 0.99\n",
      "1972 330 ; Datos totales 335 Porcentaje Válido ; 0.99\n",
      "1973 361 ; Datos totales 365 Porcentaje Válido ; 0.99\n",
      "1974 364 ; Datos totales 365 Porcentaje Válido ; 1.0\n",
      "1975 225 ; Datos totales 242 Porcentaje Válido ; 0.93\n",
      "1976 343 ; Datos totales 366 Porcentaje Válido ; 0.94\n",
      "1977 364 ; Datos totales 364 Porcentaje Válido ; 1.0\n",
      "1978 333 ; Datos totales 334 Porcentaje Válido ; 1.0\n",
      "1979 364 ; Datos totales 365 Porcentaje Válido ; 1.0\n",
      "1980 364 ; Datos totales 366 Porcentaje Válido ; 0.99\n",
      "1981 271 ; Datos totales 275 Porcentaje Válido ; 0.99\n",
      "1982 361 ; Datos totales 365 Porcentaje Válido ; 0.99\n",
      "1983 276 ; Datos totales 276 Porcentaje Válido ; 1.0\n",
      "1984 137 ; Datos totales 142 Porcentaje Válido ; 0.96\n",
      "1985 56 ; Datos totales 61 Porcentaje Válido ; 0.92\n",
      "1986 354 ; Datos totales 364 Porcentaje Válido ; 0.97\n",
      "1987 354 ; Datos totales 358 Porcentaje Válido ; 0.99\n",
      "1988 302 ; Datos totales 306 Porcentaje Válido ; 0.99\n",
      "1989 301 ; Datos totales 304 Porcentaje Válido ; 0.99\n",
      "1990 208 ; Datos totales 214 Porcentaje Válido ; 0.97\n",
      "1991 363 ; Datos totales 365 Porcentaje Válido ; 0.99\n",
      "1992 364 ; Datos totales 366 Porcentaje Válido ; 0.99\n",
      "1993 351 ; Datos totales 351 Porcentaje Válido ; 1.0\n",
      "1994 365 ; Datos totales 365 Porcentaje Válido ; 1.0\n",
      "1995 342 ; Datos totales 349 Porcentaje Válido ; 0.98\n",
      "1996 344 ; Datos totales 351 Porcentaje Válido ; 0.98\n",
      "1997 363 ; Datos totales 365 Porcentaje Válido ; 0.99\n",
      "1998 46 ; Datos totales 46 Porcentaje Válido ; 1.0\n",
      "1999 153 ; Datos totales 153 Porcentaje Válido ; 1.0\n",
      "2000 364 ; Datos totales 366 Porcentaje Válido ; 0.99\n",
      "2001 60 ; Datos totales 62 Porcentaje Válido ; 0.97\n",
      "2002 149 ; Datos totales 151 Porcentaje Válido ; 0.99\n",
      "2003 350 ; Datos totales 364 Porcentaje Válido ; 0.96\n",
      "2004 342 ; Datos totales 346 Porcentaje Válido ; 0.99\n",
      "2005 338 ; Datos totales 341 Porcentaje Válido ; 0.99\n",
      "2006 0 ; Datos totales 0 Porcentaje Válido ; 0.0\n",
      "2007 332 ; Datos totales 340 Porcentaje Válido ; 0.98\n",
      "2008 340 ; Datos totales 345 Porcentaje Válido ; 0.99\n",
      "2009 261 ; Datos totales 272 Porcentaje Válido ; 0.96\n",
      "2010 332 ; Datos totales 350 Porcentaje Válido ; 0.95\n",
      "2011 278 ; Datos totales 293 Porcentaje Válido ; 0.95\n",
      "2012 317 ; Datos totales 339 Porcentaje Válido ; 0.94\n"
     ]
    },
    {
     "name": "stderr",
     "output_type": "stream",
     "text": [
      "C:\\Users\\NTIC-USER\\Anaconda3\\lib\\site-packages\\ipykernel_launcher.py:16: RuntimeWarning:\n",
      "\n",
      "invalid value encountered in long_scalars\n",
      "\n"
     ]
    }
   ],
   "source": [
    "# 2) Número de días de verano (SU: Tmax > 25ºC)\n",
    "dverano = df['TMAX'][df.TMAX > 25] \n",
    "print(dverano.count())\n",
    "print('')\n",
    "# Creando arreglos vacios\n",
    "PctVerano = []\n",
    "DatosV = []\n",
    "CantidadV = []\n",
    "# Para la cantidad de días de verano por año\n",
    "for i in range(1963,2012):\n",
    "    NumVerano= dverano[df['Año']==[i+1]].count()\n",
    "    NumDatos= df['TMAX'][df['Año']==[i+1]].count()\n",
    "    \n",
    "    DatosV.append(NumDatos)\n",
    "    CantidadV.append(NumVerano)\n",
    "    PctVerano.append(NumVerano/NumDatos)\n",
    "    \n",
    "    print(i+1, NumVerano, \";\", \"Datos totales\", NumDatos, 'Porcentaje Válido', ';', np.round(NumVerano/(NumDatos+0.01), decimals=2))\n",
    "    "
   ]
  },
  {
   "cell_type": "code",
   "execution_count": 81,
   "metadata": {},
   "outputs": [
    {
     "data": {
      "image/png": "[encoded data removed]",
      "text/plain": [
       "<Figure size 864x216 with 1 Axes>"
      ]
     },
     "metadata": {
      "needs_background": "light"
     },
     "output_type": "display_data"
    }
   ],
   "source": [
    "import numpy as np\n",
    "import matplotlib.pyplot as plt\n",
    "\n",
    "\n",
    "ind = np.arange(len(PctVerano))  # the x locations for the groups\n",
    "width = 0.5  # the width of the bars\n",
    "size = (15,8)\n",
    "fig, ax = plt.subplots(figsize=(12,3))\n",
    "rects1 = ax.bar(ind - width, PctVerano, width,\n",
    "                color='Blue', label='Porentaje')\n",
    "\n",
    "# Add some text for labels, title and custom x-axis tick labels, etc.\n",
    "ax.set_ylabel('Scores')\n",
    "ax.set_title('Porcentaje de días de verano')\n",
    "ax.set_xticks(ind)\n",
    "ax.legend()\n",
    "\n",
    "\n",
    "\n",
    "plt.show()"
   ]
  },
  {
   "cell_type": "code",
   "execution_count": 88,
   "metadata": {},
   "outputs": [
    {
     "name": "stdout",
     "output_type": "stream",
     "text": [
      "Total de días tropicales registrados = 7498\n",
      "\n",
      "1964 111 - Datos totales 176 - Porcentaje Válido ; 0.63\n",
      "1965 268 - Datos totales 362 - Porcentaje Válido ; 0.74\n",
      "1966 5 - Datos totales 31 - Porcentaje Válido ; 0.16\n",
      "1967 36 - Datos totales 62 - Porcentaje Válido ; 0.58\n",
      "1968 52 - Datos totales 61 - Porcentaje Válido ; 0.85\n",
      "1969 149 - Datos totales 152 - Porcentaje Válido ; 0.98\n",
      "1970 100 - Datos totales 135 - Porcentaje Válido ; 0.74\n",
      "1971 296 - Datos totales 365 - Porcentaje Válido ; 0.81\n",
      "1972 292 - Datos totales 335 - Porcentaje Válido ; 0.87\n",
      "1973 266 - Datos totales 365 - Porcentaje Válido ; 0.73\n",
      "1974 211 - Datos totales 365 - Porcentaje Válido ; 0.58\n",
      "1975 40 - Datos totales 242 - Porcentaje Válido ; 0.17\n",
      "1976 154 - Datos totales 366 - Porcentaje Válido ; 0.42\n",
      "1977 178 - Datos totales 365 - Porcentaje Válido ; 0.49\n",
      "1978 185 - Datos totales 334 - Porcentaje Válido ; 0.55\n",
      "1979 205 - Datos totales 365 - Porcentaje Válido ; 0.56\n",
      "1980 204 - Datos totales 366 - Porcentaje Válido ; 0.56\n",
      "1981 99 - Datos totales 275 - Porcentaje Válido ; 0.36\n",
      "1982 223 - Datos totales 365 - Porcentaje Válido ; 0.61\n",
      "1983 176 - Datos totales 276 - Porcentaje Válido ; 0.64\n",
      "1984 79 - Datos totales 141 - Porcentaje Válido ; 0.56\n",
      "1985 28 - Datos totales 61 - Porcentaje Válido ; 0.46\n",
      "1986 249 - Datos totales 364 - Porcentaje Válido ; 0.68\n",
      "1987 206 - Datos totales 358 - Porcentaje Válido ; 0.58\n",
      "1988 124 - Datos totales 306 - Porcentaje Válido ; 0.41\n",
      "1989 241 - Datos totales 304 - Porcentaje Válido ; 0.79\n",
      "1990 9 - Datos totales 212 - Porcentaje Válido ; 0.04\n",
      "1991 18 - Datos totales 365 - Porcentaje Válido ; 0.05\n",
      "1992 7 - Datos totales 366 - Porcentaje Válido ; 0.02\n",
      "1993 35 - Datos totales 351 - Porcentaje Válido ; 0.1\n",
      "1994 254 - Datos totales 365 - Porcentaje Válido ; 0.7\n",
      "1995 99 - Datos totales 349 - Porcentaje Válido ; 0.28\n",
      "1996 208 - Datos totales 351 - Porcentaje Válido ; 0.59\n",
      "1997 206 - Datos totales 364 - Porcentaje Válido ; 0.57\n",
      "1998 16 - Datos totales 46 - Porcentaje Válido ; 0.35\n",
      "1999 94 - Datos totales 153 - Porcentaje Válido ; 0.61\n",
      "2000 254 - Datos totales 366 - Porcentaje Válido ; 0.69\n",
      "2001 28 - Datos totales 62 - Porcentaje Válido ; 0.45\n",
      "2002 104 - Datos totales 151 - Porcentaje Válido ; 0.69\n",
      "2003 268 - Datos totales 364 - Porcentaje Válido ; 0.74\n",
      "2004 235 - Datos totales 347 - Porcentaje Válido ; 0.68\n",
      "2005 219 - Datos totales 341 - Porcentaje Válido ; 0.64\n",
      "2006 0 - Datos totales 0 - Porcentaje Válido ; 0.0\n",
      "2007 227 - Datos totales 340 - Porcentaje Válido ; 0.67\n",
      "2008 239 - Datos totales 344 - Porcentaje Válido ; 0.69\n",
      "2009 177 - Datos totales 271 - Porcentaje Válido ; 0.65\n",
      "2010 205 - Datos totales 350 - Porcentaje Válido ; 0.59\n",
      "2011 204 - Datos totales 291 - Porcentaje Válido ; 0.7\n",
      "2012 215 - Datos totales 339 - Porcentaje Válido ; 0.63\n"
     ]
    },
    {
     "name": "stderr",
     "output_type": "stream",
     "text": [
      "C:\\Users\\NTIC-USER\\Anaconda3\\lib\\site-packages\\ipykernel_launcher.py:18: RuntimeWarning:\n",
      "\n",
      "invalid value encountered in long_scalars\n",
      "\n"
     ]
    }
   ],
   "source": [
    "# 3) Número de noches tropicales por año (TR: Tmin > 20ºC)\n",
    "dTropicales = df['TMIN'][df.TMIN > 20]\n",
    "print('Total de días tropicales registrados =', dTropicales.count())\n",
    "print('')\n",
    "\n",
    "# Creando arreglos vacios\n",
    "PctTropical = []\n",
    "DatosV = []\n",
    "CantidadV = []\n",
    "\n",
    "# Para la cantidad de días tropicales por por año\n",
    "for i in range(1963,2012):\n",
    "    NumTropical= dTropicales[df['Año']==[i+1]].count()\n",
    "    NumDatos= df['TMIN'][df['Año']==[i+1]].count()\n",
    "    \n",
    "    DatosV.append(NumDatos)\n",
    "    CantidadV.append(NumTropical)\n",
    "    PctTropical.append(NumTropical/NumDatos)\n",
    "    \n",
    "    print(i+1, NumTropical, \"-\", \"Datos totales\", NumDatos, '-' ,'Porcentaje Válido', ';',\n",
    "          np.round(NumTropical/(NumDatos+0.01), decimals=2))\n",
    "    "
   ]
  },
  {
   "cell_type": "code",
   "execution_count": 89,
   "metadata": {},
   "outputs": [
    {
     "data": {
      "image/png": "[encoded data removed]",
      "text/plain": [
       "<Figure size 864x216 with 1 Axes>"
      ]
     },
     "metadata": {
      "needs_background": "light"
     },
     "output_type": "display_data"
    }
   ],
   "source": [
    "import numpy as np\n",
    "import matplotlib.pyplot as plt\n",
    "\n",
    "\n",
    "ind = np.arange(len(PctTropical))  # the x locations for the groups\n",
    "width = 0.5  # the width of the bars\n",
    "size = (15,8)\n",
    "fig, ax = plt.subplots(figsize=(12,3))\n",
    "rects1 = ax.bar(ind - width, PctTropical, width,\n",
    "                color='Blue', label='Porentaje')\n",
    "\n",
    "# Add some text for labels, title and custom x-axis tick labels, etc.\n",
    "ax.set_ylabel('Scores')\n",
    "ax.set_title('Porcentaje de días de verano')\n",
    "ax.set_xticks(ind)\n",
    "ax.legend()\n",
    "\n",
    "\n",
    "\n",
    "plt.show()"
   ]
  },
  {
   "cell_type": "code",
   "execution_count": null,
   "metadata": {},
   "outputs": [],
   "source": []
  }
 ],
 "metadata": {
  "kernelspec": {
   "display_name": "Python 3",
   "language": "python",
   "name": "python3"
  },
  "language_info": {
   "codemirror_mode": {
    "name": "ipython",
    "version": 3
   },
   "file_extension": ".py",
   "mimetype": "text/x-python",
   "name": "python",
   "nbconvert_exporter": "python",
   "pygments_lexer": "ipython3",
   "version": "3.7.1"
  }
 },
 "nbformat": 4,
 "nbformat_minor": 2
}
