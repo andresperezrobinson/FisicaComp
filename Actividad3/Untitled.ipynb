{
 "cells": [
  {
   "cell_type": "code",
   "execution_count": 246,
   "metadata": {},
   "outputs": [],
   "source": [
    "import plotly.plotly as py\n",
    "import plotly.tools as tls\n",
    "import matplotlib.pyplot as plt; plt.rcdefaults()\n",
    "import pandas as pd\n",
    "import numpy as np"
   ]
  },
  {
   "cell_type": "code",
   "execution_count": 247,
   "metadata": {},
   "outputs": [],
   "source": [
    "base_path = \"/Users/Bubba/Desktop/Unison/Unison.Residencia:4to/Fisica.computacional/Actividad3\"\n",
    "filename = \"tulum.txt\"\n",
    "path_to_file = os.path.join(base_path, filename)\n",
    "fd = open(path_to_file , 'r')"
   ]
  },
  {
   "cell_type": "code",
   "execution_count": 248,
   "metadata": {},
   "outputs": [
    {
     "data": {
      "text/plain": [
       "<_io.TextIOWrapper name='/Users/Bubba/Desktop/Unison/Unison.Residencia:4to/Fisica.computacional/Actividad3/tulum.txt' mode='r' encoding='UTF-8'>"
      ]
     },
     "execution_count": 248,
     "metadata": {},
     "output_type": "execute_result"
    }
   ],
   "source": [
    "fd"
   ]
  },
  {
   "cell_type": "code",
   "execution_count": 249,
   "metadata": {},
   "outputs": [],
   "source": [
    "df = pd.read_csv('tulum.csv', sep=',', engine='python')"
   ]
  },
  {
   "cell_type": "code",
   "execution_count": 250,
   "metadata": {},
   "outputs": [],
   "source": [
    "df['Fecha'] = pd.to_datetime(df.apply(lambda x: x['FECHA'], 1), dayfirst=True)\n",
    "df = df.drop(['FECHA'], 1)"
   ]
  },
  {
   "cell_type": "code",
   "execution_count": 251,
   "metadata": {
    "scrolled": true
   },
   "outputs": [
    {
     "data": {
      "text/html": [
       "<div>\n",
       "<style scoped>\n",
       "    .dataframe tbody tr th:only-of-type {\n",
       "        vertical-align: middle;\n",
       "    }\n",
       "\n",
       "    .dataframe tbody tr th {\n",
       "        vertical-align: top;\n",
       "    }\n",
       "\n",
       "    .dataframe thead th {\n",
       "        text-align: right;\n",
       "    }\n",
       "</style>\n",
       "<table border=\"1\" class=\"dataframe\">\n",
       "  <thead>\n",
       "    <tr style=\"text-align: right;\">\n",
       "      <th></th>\n",
       "      <th>PRECIP</th>\n",
       "      <th>EVAP</th>\n",
       "      <th>TMAX</th>\n",
       "      <th>TMIN</th>\n",
       "      <th>Fecha</th>\n",
       "    </tr>\n",
       "  </thead>\n",
       "  <tbody>\n",
       "    <tr>\n",
       "      <th>0</th>\n",
       "      <td>2.3</td>\n",
       "      <td>5.3</td>\n",
       "      <td>34.5</td>\n",
       "      <td>21.5</td>\n",
       "      <td>1964-07-09</td>\n",
       "    </tr>\n",
       "    <tr>\n",
       "      <th>1</th>\n",
       "      <td>0.0</td>\n",
       "      <td>10.2</td>\n",
       "      <td>31.0</td>\n",
       "      <td>24.5</td>\n",
       "      <td>1964-07-10</td>\n",
       "    </tr>\n",
       "    <tr>\n",
       "      <th>2</th>\n",
       "      <td>0.0</td>\n",
       "      <td>8.8</td>\n",
       "      <td>30.0</td>\n",
       "      <td>24.5</td>\n",
       "      <td>1964-07-11</td>\n",
       "    </tr>\n",
       "    <tr>\n",
       "      <th>3</th>\n",
       "      <td>0.0</td>\n",
       "      <td>9.2</td>\n",
       "      <td>30.0</td>\n",
       "      <td>27.5</td>\n",
       "      <td>1964-07-12</td>\n",
       "    </tr>\n",
       "    <tr>\n",
       "      <th>4</th>\n",
       "      <td>0.0</td>\n",
       "      <td>9.3</td>\n",
       "      <td>31.0</td>\n",
       "      <td>27.5</td>\n",
       "      <td>1964-07-13</td>\n",
       "    </tr>\n",
       "  </tbody>\n",
       "</table>\n",
       "</div>"
      ],
      "text/plain": [
       "   PRECIP  EVAP  TMAX  TMIN      Fecha\n",
       "0     2.3   5.3  34.5  21.5 1964-07-09\n",
       "1     0.0  10.2  31.0  24.5 1964-07-10\n",
       "2     0.0   8.8  30.0  24.5 1964-07-11\n",
       "3     0.0   9.2  30.0  27.5 1964-07-12\n",
       "4     0.0   9.3  31.0  27.5 1964-07-13"
      ]
     },
     "execution_count": 251,
     "metadata": {},
     "output_type": "execute_result"
    }
   ],
   "source": [
    "df.head()"
   ]
  },
  {
   "cell_type": "code",
   "execution_count": 252,
   "metadata": {},
   "outputs": [
    {
     "data": {
      "text/html": [
       "<div>\n",
       "<style scoped>\n",
       "    .dataframe tbody tr th:only-of-type {\n",
       "        vertical-align: middle;\n",
       "    }\n",
       "\n",
       "    .dataframe tbody tr th {\n",
       "        vertical-align: top;\n",
       "    }\n",
       "\n",
       "    .dataframe thead th {\n",
       "        text-align: right;\n",
       "    }\n",
       "</style>\n",
       "<table border=\"1\" class=\"dataframe\">\n",
       "  <thead>\n",
       "    <tr style=\"text-align: right;\">\n",
       "      <th></th>\n",
       "      <th>PRECIP</th>\n",
       "      <th>EVAP</th>\n",
       "      <th>TMAX</th>\n",
       "      <th>TMIN</th>\n",
       "      <th>Fecha</th>\n",
       "    </tr>\n",
       "  </thead>\n",
       "  <tbody>\n",
       "    <tr>\n",
       "      <th>13791</th>\n",
       "      <td>0.3</td>\n",
       "      <td>NaN</td>\n",
       "      <td>30.0</td>\n",
       "      <td>19.0</td>\n",
       "      <td>2012-12-27</td>\n",
       "    </tr>\n",
       "    <tr>\n",
       "      <th>13792</th>\n",
       "      <td>0.0</td>\n",
       "      <td>NaN</td>\n",
       "      <td>30.0</td>\n",
       "      <td>22.0</td>\n",
       "      <td>2012-12-28</td>\n",
       "    </tr>\n",
       "    <tr>\n",
       "      <th>13793</th>\n",
       "      <td>0.0</td>\n",
       "      <td>NaN</td>\n",
       "      <td>29.0</td>\n",
       "      <td>22.0</td>\n",
       "      <td>2012-12-29</td>\n",
       "    </tr>\n",
       "    <tr>\n",
       "      <th>13794</th>\n",
       "      <td>0.0</td>\n",
       "      <td>NaN</td>\n",
       "      <td>32.0</td>\n",
       "      <td>13.0</td>\n",
       "      <td>2012-12-30</td>\n",
       "    </tr>\n",
       "    <tr>\n",
       "      <th>13795</th>\n",
       "      <td>0.0</td>\n",
       "      <td>NaN</td>\n",
       "      <td>30.0</td>\n",
       "      <td>17.0</td>\n",
       "      <td>2012-12-31</td>\n",
       "    </tr>\n",
       "  </tbody>\n",
       "</table>\n",
       "</div>"
      ],
      "text/plain": [
       "       PRECIP  EVAP  TMAX  TMIN      Fecha\n",
       "13791     0.3   NaN  30.0  19.0 2012-12-27\n",
       "13792     0.0   NaN  30.0  22.0 2012-12-28\n",
       "13793     0.0   NaN  29.0  22.0 2012-12-29\n",
       "13794     0.0   NaN  32.0  13.0 2012-12-30\n",
       "13795     0.0   NaN  30.0  17.0 2012-12-31"
      ]
     },
     "execution_count": 252,
     "metadata": {},
     "output_type": "execute_result"
    }
   ],
   "source": [
    "df.tail()"
   ]
  },
  {
   "cell_type": "code",
   "execution_count": 253,
   "metadata": {},
   "outputs": [
    {
     "data": {
      "text/plain": [
       "PRECIP           float64\n",
       "EVAP             float64\n",
       "TMAX             float64\n",
       "TMIN             float64\n",
       "Fecha     datetime64[ns]\n",
       "dtype: object"
      ]
     },
     "execution_count": 253,
     "metadata": {},
     "output_type": "execute_result"
    }
   ],
   "source": [
    "df.dtypes"
   ]
  },
  {
   "cell_type": "code",
   "execution_count": 254,
   "metadata": {},
   "outputs": [
    {
     "data": {
      "text/plain": [
       "PRECIP     3.125300\n",
       "EVAP       4.495387\n",
       "TMAX      30.991672\n",
       "TMIN      20.346328\n",
       "dtype: float64"
      ]
     },
     "execution_count": 254,
     "metadata": {},
     "output_type": "execute_result"
    }
   ],
   "source": [
    "df.mean()"
   ]
  },
  {
   "cell_type": "code",
   "execution_count": 255,
   "metadata": {},
   "outputs": [
    {
     "data": {
      "text/plain": [
       "PRECIP    10.484947\n",
       "EVAP       2.057994\n",
       "TMAX       2.605869\n",
       "TMIN       3.989156\n",
       "dtype: float64"
      ]
     },
     "execution_count": 255,
     "metadata": {},
     "output_type": "execute_result"
    }
   ],
   "source": [
    "df.std()"
   ]
  },
  {
   "cell_type": "code",
   "execution_count": 256,
   "metadata": {},
   "outputs": [
    {
     "data": {
      "text/plain": [
       "PRECIP     0.0\n",
       "EVAP       4.3\n",
       "TMAX      31.0\n",
       "TMIN      21.0\n",
       "dtype: float64"
      ]
     },
     "execution_count": 256,
     "metadata": {},
     "output_type": "execute_result"
    }
   ],
   "source": [
    "df.median()"
   ]
  },
  {
   "cell_type": "code",
   "execution_count": 257,
   "metadata": {},
   "outputs": [
    {
     "data": {
      "text/plain": [
       "PRECIP                    200\n",
       "EVAP                     17.7\n",
       "TMAX                       45\n",
       "TMIN                     31.5\n",
       "Fecha     2012-12-31 00:00:00\n",
       "dtype: object"
      ]
     },
     "execution_count": 257,
     "metadata": {},
     "output_type": "execute_result"
    }
   ],
   "source": [
    "df.max()"
   ]
  },
  {
   "cell_type": "code",
   "execution_count": 258,
   "metadata": {},
   "outputs": [
    {
     "data": {
      "text/plain": [
       "PRECIP                      0\n",
       "EVAP                        0\n",
       "TMAX                       18\n",
       "TMIN                      4.3\n",
       "Fecha     1964-07-09 00:00:00\n",
       "dtype: object"
      ]
     },
     "execution_count": 258,
     "metadata": {},
     "output_type": "execute_result"
    }
   ],
   "source": [
    "df.min()"
   ]
  },
  {
   "cell_type": "code",
   "execution_count": 259,
   "metadata": {},
   "outputs": [
    {
     "data": {
      "text/html": [
       "<div>\n",
       "<style scoped>\n",
       "    .dataframe tbody tr th:only-of-type {\n",
       "        vertical-align: middle;\n",
       "    }\n",
       "\n",
       "    .dataframe tbody tr th {\n",
       "        vertical-align: top;\n",
       "    }\n",
       "\n",
       "    .dataframe thead th {\n",
       "        text-align: right;\n",
       "    }\n",
       "</style>\n",
       "<table border=\"1\" class=\"dataframe\">\n",
       "  <thead>\n",
       "    <tr style=\"text-align: right;\">\n",
       "      <th></th>\n",
       "      <th>PRECIP</th>\n",
       "      <th>EVAP</th>\n",
       "      <th>TMAX</th>\n",
       "      <th>TMIN</th>\n",
       "    </tr>\n",
       "  </thead>\n",
       "  <tbody>\n",
       "    <tr>\n",
       "      <th>count</th>\n",
       "      <td>13763.000000</td>\n",
       "      <td>9863.000000</td>\n",
       "      <td>13388.000000</td>\n",
       "      <td>13385.000000</td>\n",
       "    </tr>\n",
       "    <tr>\n",
       "      <th>mean</th>\n",
       "      <td>3.125300</td>\n",
       "      <td>4.495387</td>\n",
       "      <td>30.991672</td>\n",
       "      <td>20.346328</td>\n",
       "    </tr>\n",
       "    <tr>\n",
       "      <th>std</th>\n",
       "      <td>10.484947</td>\n",
       "      <td>2.057994</td>\n",
       "      <td>2.605869</td>\n",
       "      <td>3.989156</td>\n",
       "    </tr>\n",
       "    <tr>\n",
       "      <th>min</th>\n",
       "      <td>0.000000</td>\n",
       "      <td>0.000000</td>\n",
       "      <td>18.000000</td>\n",
       "      <td>4.300000</td>\n",
       "    </tr>\n",
       "    <tr>\n",
       "      <th>25%</th>\n",
       "      <td>0.000000</td>\n",
       "      <td>3.000000</td>\n",
       "      <td>29.500000</td>\n",
       "      <td>18.000000</td>\n",
       "    </tr>\n",
       "    <tr>\n",
       "      <th>50%</th>\n",
       "      <td>0.000000</td>\n",
       "      <td>4.300000</td>\n",
       "      <td>31.000000</td>\n",
       "      <td>21.000000</td>\n",
       "    </tr>\n",
       "    <tr>\n",
       "      <th>75%</th>\n",
       "      <td>0.000000</td>\n",
       "      <td>5.800000</td>\n",
       "      <td>33.000000</td>\n",
       "      <td>23.000000</td>\n",
       "    </tr>\n",
       "    <tr>\n",
       "      <th>max</th>\n",
       "      <td>200.000000</td>\n",
       "      <td>17.700000</td>\n",
       "      <td>45.000000</td>\n",
       "      <td>31.500000</td>\n",
       "    </tr>\n",
       "  </tbody>\n",
       "</table>\n",
       "</div>"
      ],
      "text/plain": [
       "             PRECIP         EVAP          TMAX          TMIN\n",
       "count  13763.000000  9863.000000  13388.000000  13385.000000\n",
       "mean       3.125300     4.495387     30.991672     20.346328\n",
       "std       10.484947     2.057994      2.605869      3.989156\n",
       "min        0.000000     0.000000     18.000000      4.300000\n",
       "25%        0.000000     3.000000     29.500000     18.000000\n",
       "50%        0.000000     4.300000     31.000000     21.000000\n",
       "75%        0.000000     5.800000     33.000000     23.000000\n",
       "max      200.000000    17.700000     45.000000     31.500000"
      ]
     },
     "execution_count": 259,
     "metadata": {},
     "output_type": "execute_result"
    }
   ],
   "source": [
    "df.describe()"
   ]
  },
  {
   "cell_type": "code",
   "execution_count": 260,
   "metadata": {},
   "outputs": [
    {
     "data": {
      "text/html": [
       "<div>\n",
       "<style scoped>\n",
       "    .dataframe tbody tr th:only-of-type {\n",
       "        vertical-align: middle;\n",
       "    }\n",
       "\n",
       "    .dataframe tbody tr th {\n",
       "        vertical-align: top;\n",
       "    }\n",
       "\n",
       "    .dataframe thead th {\n",
       "        text-align: right;\n",
       "    }\n",
       "</style>\n",
       "<table border=\"1\" class=\"dataframe\">\n",
       "  <thead>\n",
       "    <tr style=\"text-align: right;\">\n",
       "      <th></th>\n",
       "      <th>PRECIP</th>\n",
       "      <th>EVAP</th>\n",
       "      <th>TMAX</th>\n",
       "      <th>TMIN</th>\n",
       "      <th>Año</th>\n",
       "      <th>Mes</th>\n",
       "    </tr>\n",
       "  </thead>\n",
       "  <tbody>\n",
       "    <tr>\n",
       "      <th>0</th>\n",
       "      <td>2.3</td>\n",
       "      <td>5.3</td>\n",
       "      <td>34.5</td>\n",
       "      <td>21.5</td>\n",
       "      <td>1964</td>\n",
       "      <td>7</td>\n",
       "    </tr>\n",
       "    <tr>\n",
       "      <th>1</th>\n",
       "      <td>0.0</td>\n",
       "      <td>10.2</td>\n",
       "      <td>31.0</td>\n",
       "      <td>24.5</td>\n",
       "      <td>1964</td>\n",
       "      <td>7</td>\n",
       "    </tr>\n",
       "    <tr>\n",
       "      <th>2</th>\n",
       "      <td>0.0</td>\n",
       "      <td>8.8</td>\n",
       "      <td>30.0</td>\n",
       "      <td>24.5</td>\n",
       "      <td>1964</td>\n",
       "      <td>7</td>\n",
       "    </tr>\n",
       "    <tr>\n",
       "      <th>3</th>\n",
       "      <td>0.0</td>\n",
       "      <td>9.2</td>\n",
       "      <td>30.0</td>\n",
       "      <td>27.5</td>\n",
       "      <td>1964</td>\n",
       "      <td>7</td>\n",
       "    </tr>\n",
       "    <tr>\n",
       "      <th>4</th>\n",
       "      <td>0.0</td>\n",
       "      <td>9.3</td>\n",
       "      <td>31.0</td>\n",
       "      <td>27.5</td>\n",
       "      <td>1964</td>\n",
       "      <td>7</td>\n",
       "    </tr>\n",
       "  </tbody>\n",
       "</table>\n",
       "</div>"
      ],
      "text/plain": [
       "   PRECIP  EVAP  TMAX  TMIN   Año  Mes\n",
       "0     2.3   5.3  34.5  21.5  1964    7\n",
       "1     0.0  10.2  31.0  24.5  1964    7\n",
       "2     0.0   8.8  30.0  24.5  1964    7\n",
       "3     0.0   9.2  30.0  27.5  1964    7\n",
       "4     0.0   9.3  31.0  27.5  1964    7"
      ]
     },
     "execution_count": 260,
     "metadata": {},
     "output_type": "execute_result"
    }
   ],
   "source": [
    "# Haciendo columnas para año y mes.\n",
    "# Eliminando la columna de 'Fecha'\n",
    "df['Año']=df['Fecha'].dt.year\n",
    "df['Mes']=df['Fecha'].dt.month\n",
    "df = df.drop('Fecha', axis=1)\n",
    "df.head()"
   ]
  },
  {
   "cell_type": "code",
   "execution_count": 261,
   "metadata": {},
   "outputs": [],
   "source": [
    "ENE=df[df.Mes==1]\n",
    "FEB=df[df.Mes==2]\n",
    "MAR=df[df.Mes==3]\n",
    "ABR=df[df.Mes==4]\n",
    "MAY=df[df.Mes==5]\n",
    "JUN=df[df.Mes==6]\n",
    "JUL=df[df.Mes==7]\n",
    "AGO=df[df.Mes==8]\n",
    "SEP=df[df.Mes==9]\n",
    "OCT=df[df.Mes==10]\n",
    "NOV=df[df.Mes==11]\n",
    "DIC=df[df.Mes==12]"
   ]
  },
  {
   "cell_type": "code",
   "execution_count": 262,
   "metadata": {},
   "outputs": [
    {
     "data": {
      "image/png": "[encoded data removed]",
      "text/plain": [
       "<Figure size 640x480 with 1 Axes>"
      ]
     },
     "metadata": {},
     "output_type": "display_data"
    }
   ],
   "source": [
    "# Precipitación acumulada para cada mes\n",
    "acENE = ENE.PRECIP.sum()\n",
    "acFEB = FEB.PRECIP.sum()\n",
    "acMAR = MAR.PRECIP.sum()\n",
    "acABR = ABR.PRECIP.sum()\n",
    "acMAY = MAY.PRECIP.sum()\n",
    "acJUN = JUN.PRECIP.sum()\n",
    "acJUL = JUL.PRECIP.sum()\n",
    "acAGO = AGO.PRECIP.sum()\n",
    "acSEP = SEP.PRECIP.sum()\n",
    "acOCT = OCT.PRECIP.sum()\n",
    "acNOV = NOV.PRECIP.sum()\n",
    "acDIC = DIC.PRECIP.sum()\n",
    "\n",
    "meses = ('ENE', 'FEB', 'MAR', 'ABR', 'MAY', 'JUN', 'JUL','AGO',\n",
    "         'SEP','OCT','NOV','DIC')\n",
    "nombres = np.arange(len(meses))\n",
    "precipitacion = [acENE,acFEB,acMAR,acABR,acMAY,acJUN,acJUL,acAGO,\n",
    "                 acSEP,acOCT,acNOV,acDIC]\n",
    "\n",
    "plt.bar(nombres, precipitacion, align='center', color='blue')\n",
    "plt.xticks(nombres, meses)\n",
    "plt.ylabel('Precipitación acumulada')\n",
    "plt.title('Precipitación acumulada de meses')\n",
    "plt.show()"
   ]
  },
  {
   "cell_type": "code",
   "execution_count": 263,
   "metadata": {},
   "outputs": [
    {
     "data": {
      "image/png": "[encoded data removed]",
      "text/plain": [
       "<Figure size 640x480 with 1 Axes>"
      ]
     },
     "metadata": {},
     "output_type": "display_data"
    }
   ],
   "source": [
    "# Promedio de la temperatura mínima por meses\n",
    "tmENE = ENE.TMIN.mean()\n",
    "tmFEB = FEB.TMIN.mean()\n",
    "tmMAR = MAR.TMIN.mean()\n",
    "tmABR = ABR.TMIN.mean()\n",
    "tmMAY = MAY.TMIN.mean()\n",
    "tmJUN = JUN.TMIN.mean()\n",
    "tmJUL = JUL.TMIN.mean()\n",
    "tmAGO = AGO.TMIN.mean()\n",
    "tmSEP = SEP.TMIN.mean()\n",
    "tmOCT = OCT.TMIN.mean()\n",
    "tmNOV = NOV.TMIN.mean()\n",
    "tmDIC = DIC.TMIN.mean()\n",
    "\n",
    "meses = ('ENE', 'FEB', 'MAR', 'ABR', 'MAY', 'JUN', 'JUL','AGO',\n",
    "         'SEP','OCT','NOV','DIC')\n",
    "nombres = np.arange(len(meses))\n",
    "tMinprom = [tmENE,tmFEB,tmMAR,tmABR,tmMAY,tmJUN,tmJUL,tmAGO,\n",
    "                 tmSEP,tmOCT,tmNOV,tmDIC]\n",
    "\n",
    "plt.bar(nombres, tMinprom, align='center', color='skyblue')\n",
    "plt.xticks(nombres, meses)\n",
    "plt.ylabel('Temperatura en centígrados')\n",
    "plt.title('Temperatura mínima promedio')\n",
    "plt.show()"
   ]
  },
  {
   "cell_type": "code",
   "execution_count": 264,
   "metadata": {},
   "outputs": [
    {
     "data": {
      "image/png": "[encoded data removed]",
      "text/plain": [
       "<Figure size 640x480 with 1 Axes>"
      ]
     },
     "metadata": {},
     "output_type": "display_data"
    }
   ],
   "source": [
    "# temperatura máxima promedio\n",
    "# Promedio de la temperatura mínima por meses\n",
    "tmENE = ENE.TMAX.mean()\n",
    "tmFEB = FEB.TMAX.mean()\n",
    "tmMAR = MAR.TMAX.mean()\n",
    "tmABR = ABR.TMAX.mean()\n",
    "tmMAY = MAY.TMAX.mean()\n",
    "tmJUN = JUN.TMAX.mean()\n",
    "tmJUL = JUL.TMAX.mean()\n",
    "tmAGO = AGO.TMAX.mean()\n",
    "tmSEP = SEP.TMAX.mean()\n",
    "tmOCT = OCT.TMAX.mean()\n",
    "tmNOV = NOV.TMAX.mean()\n",
    "tmDIC = DIC.TMAX.mean()\n",
    "\n",
    "meses = ('ENE', 'FEB', 'MAR', 'ABR', 'MAY', 'JUN', 'JUL','AGO',\n",
    "         'SEP','OCT','NOV','DIC')\n",
    "nombres = np.arange(len(meses))\n",
    "tMinprom = [tmENE,tmFEB,tmMAR,tmABR,tmMAY,tmJUN,tmJUL,tmAGO,\n",
    "                 tmSEP,tmOCT,tmNOV,tmDIC]\n",
    "\n",
    "plt.bar(nombres, tMinprom, align='center', color='skyblue')\n",
    "plt.xticks(nombres, meses)\n",
    "plt.ylabel('Temperatura en centígrados')\n",
    "plt.title('Temperatura máxima promedio')\n",
    "plt.show()"
   ]
  },
  {
   "cell_type": "code",
   "execution_count": 318,
   "metadata": {},
   "outputs": [
    {
     "data": {
      "text/html": [
       "<div>\n",
       "<style scoped>\n",
       "    .dataframe tbody tr th:only-of-type {\n",
       "        vertical-align: middle;\n",
       "    }\n",
       "\n",
       "    .dataframe tbody tr th {\n",
       "        vertical-align: top;\n",
       "    }\n",
       "\n",
       "    .dataframe thead th {\n",
       "        text-align: right;\n",
       "    }\n",
       "</style>\n",
       "<table border=\"1\" class=\"dataframe\">\n",
       "  <thead>\n",
       "    <tr style=\"text-align: right;\">\n",
       "      <th></th>\n",
       "      <th>AÑO</th>\n",
       "      <th>Precipitación_Acumulada</th>\n",
       "    </tr>\n",
       "  </thead>\n",
       "  <tbody>\n",
       "    <tr>\n",
       "      <th>44</th>\n",
       "      <td>2008</td>\n",
       "      <td>1127.0</td>\n",
       "    </tr>\n",
       "    <tr>\n",
       "      <th>45</th>\n",
       "      <td>2009</td>\n",
       "      <td>566.7</td>\n",
       "    </tr>\n",
       "    <tr>\n",
       "      <th>46</th>\n",
       "      <td>2010</td>\n",
       "      <td>1643.5</td>\n",
       "    </tr>\n",
       "    <tr>\n",
       "      <th>47</th>\n",
       "      <td>2011</td>\n",
       "      <td>798.4</td>\n",
       "    </tr>\n",
       "    <tr>\n",
       "      <th>48</th>\n",
       "      <td>2012</td>\n",
       "      <td>1315.2</td>\n",
       "    </tr>\n",
       "  </tbody>\n",
       "</table>\n",
       "</div>"
      ],
      "text/plain": [
       "     AÑO  Precipitación_Acumulada\n",
       "44  2008                   1127.0\n",
       "45  2009                    566.7\n",
       "46  2010                   1643.5\n",
       "47  2011                    798.4\n",
       "48  2012                   1315.2"
      ]
     },
     "execution_count": 318,
     "metadata": {},
     "output_type": "execute_result"
    }
   ],
   "source": [
    "# creando un nuevo dataframe para la precipitacion\n",
    "# acumulada de cada año\n",
    "años=[]\n",
    "precip=[]\n",
    "\n",
    "for i in range(1964,2013):\n",
    "    a = i\n",
    "    p = df[df.Año==(i)].PRECIP.sum()\n",
    "    años.append(a)\n",
    "    precip.append(p)\n",
    "    \n",
    "new = {'AÑO': años, 'Precipitación_Acumulada': precip}\n",
    "dfp = pd.DataFrame(data=new)\n",
    "dfp.tail()"
   ]
  },
  {
   "cell_type": "code",
   "execution_count": 352,
   "metadata": {
    "scrolled": true
   },
   "outputs": [
    {
     "data": {
      "image/png": "[encoded data removed]",
      "text/plain": [
       "<Figure size 640x480 with 1 Axes>"
      ]
     },
     "metadata": {},
     "output_type": "display_data"
    }
   ],
   "source": [
    "duracion = años\n",
    "n = np.arange(len(duracion))\n",
    "PRECIPIT= precip\n",
    "\n",
    "plt.bar(n, PRECIPIT,align='center',color='c')\n",
    "plt.xticks(n, duracion, size = 'small', color = 'black', rotation = 90)\n",
    "plt.ylabel('Precipitación acumulada')\n",
    "plt.title('Precipitación acumulada de 1964 a 2012')\n",
    "plt.show()"
   ]
  },
  {
   "cell_type": "code",
   "execution_count": 354,
   "metadata": {},
   "outputs": [
    {
     "data": {
      "text/html": [
       "<div>\n",
       "<style scoped>\n",
       "    .dataframe tbody tr th:only-of-type {\n",
       "        vertical-align: middle;\n",
       "    }\n",
       "\n",
       "    .dataframe tbody tr th {\n",
       "        vertical-align: top;\n",
       "    }\n",
       "\n",
       "    .dataframe thead th {\n",
       "        text-align: right;\n",
       "    }\n",
       "</style>\n",
       "<table border=\"1\" class=\"dataframe\">\n",
       "  <thead>\n",
       "    <tr style=\"text-align: right;\">\n",
       "      <th></th>\n",
       "      <th>AÑO</th>\n",
       "      <th>Precipitación_Acumulada</th>\n",
       "    </tr>\n",
       "  </thead>\n",
       "  <tbody>\n",
       "    <tr>\n",
       "      <th>24</th>\n",
       "      <td>1988</td>\n",
       "      <td>1849.0</td>\n",
       "    </tr>\n",
       "  </tbody>\n",
       "</table>\n",
       "</div>"
      ],
      "text/plain": [
       "     AÑO  Precipitación_Acumulada\n",
       "24  1988                   1849.0"
      ]
     },
     "execution_count": 354,
     "metadata": {},
     "output_type": "execute_result"
    }
   ],
   "source": [
    "# para encontrar el año con máxima precipitación\n",
    "max=dfp.Precipitación_Acumulada.idxmax()\n",
    "dfp.iloc[[max]]"
   ]
  },
  {
   "cell_type": "code",
   "execution_count": 355,
   "metadata": {},
   "outputs": [
    {
     "data": {
      "text/html": [
       "<div>\n",
       "<style scoped>\n",
       "    .dataframe tbody tr th:only-of-type {\n",
       "        vertical-align: middle;\n",
       "    }\n",
       "\n",
       "    .dataframe tbody tr th {\n",
       "        vertical-align: top;\n",
       "    }\n",
       "\n",
       "    .dataframe thead th {\n",
       "        text-align: right;\n",
       "    }\n",
       "</style>\n",
       "<table border=\"1\" class=\"dataframe\">\n",
       "  <thead>\n",
       "    <tr style=\"text-align: right;\">\n",
       "      <th></th>\n",
       "      <th>AÑO</th>\n",
       "      <th>Precipitación_Acumulada</th>\n",
       "    </tr>\n",
       "  </thead>\n",
       "  <tbody>\n",
       "    <tr>\n",
       "      <th>42</th>\n",
       "      <td>2006</td>\n",
       "      <td>0.0</td>\n",
       "    </tr>\n",
       "  </tbody>\n",
       "</table>\n",
       "</div>"
      ],
      "text/plain": [
       "     AÑO  Precipitación_Acumulada\n",
       "42  2006                      0.0"
      ]
     },
     "execution_count": 355,
     "metadata": {},
     "output_type": "execute_result"
    }
   ],
   "source": [
    "# para encontrar el año con mínima precipitación\n",
    "min=dfp.Precipitación_Acumulada.idxmin()\n",
    "dfp.iloc[[min]]"
   ]
  },
  {
   "cell_type": "code",
   "execution_count": 326,
   "metadata": {},
   "outputs": [
    {
     "data": {
      "text/html": [
       "<div>\n",
       "<style scoped>\n",
       "    .dataframe tbody tr th:only-of-type {\n",
       "        vertical-align: middle;\n",
       "    }\n",
       "\n",
       "    .dataframe tbody tr th {\n",
       "        vertical-align: top;\n",
       "    }\n",
       "\n",
       "    .dataframe thead th {\n",
       "        text-align: right;\n",
       "    }\n",
       "</style>\n",
       "<table border=\"1\" class=\"dataframe\">\n",
       "  <thead>\n",
       "    <tr style=\"text-align: right;\">\n",
       "      <th></th>\n",
       "      <th>AÑO</th>\n",
       "      <th>Precipitación_Acumulada</th>\n",
       "    </tr>\n",
       "  </thead>\n",
       "  <tbody>\n",
       "    <tr>\n",
       "      <th>24</th>\n",
       "      <td>1988</td>\n",
       "      <td>1849.0</td>\n",
       "    </tr>\n",
       "    <tr>\n",
       "      <th>41</th>\n",
       "      <td>2005</td>\n",
       "      <td>1657.9</td>\n",
       "    </tr>\n",
       "    <tr>\n",
       "      <th>46</th>\n",
       "      <td>2010</td>\n",
       "      <td>1643.5</td>\n",
       "    </tr>\n",
       "    <tr>\n",
       "      <th>19</th>\n",
       "      <td>1983</td>\n",
       "      <td>1537.1</td>\n",
       "    </tr>\n",
       "    <tr>\n",
       "      <th>8</th>\n",
       "      <td>1972</td>\n",
       "      <td>1446.7</td>\n",
       "    </tr>\n",
       "  </tbody>\n",
       "</table>\n",
       "</div>"
      ],
      "text/plain": [
       "     AÑO  Precipitación_Acumulada\n",
       "24  1988                   1849.0\n",
       "41  2005                   1657.9\n",
       "46  2010                   1643.5\n",
       "19  1983                   1537.1\n",
       "8   1972                   1446.7"
      ]
     },
     "execution_count": 326,
     "metadata": {},
     "output_type": "execute_result"
    }
   ],
   "source": [
    "# para los años más lluviosos\n",
    "dfp.nlargest(5,'Precipitación_Acumulada', keep='first')"
   ]
  },
  {
   "cell_type": "code",
   "execution_count": 327,
   "metadata": {},
   "outputs": [
    {
     "data": {
      "text/html": [
       "<div>\n",
       "<style scoped>\n",
       "    .dataframe tbody tr th:only-of-type {\n",
       "        vertical-align: middle;\n",
       "    }\n",
       "\n",
       "    .dataframe tbody tr th {\n",
       "        vertical-align: top;\n",
       "    }\n",
       "\n",
       "    .dataframe thead th {\n",
       "        text-align: right;\n",
       "    }\n",
       "</style>\n",
       "<table border=\"1\" class=\"dataframe\">\n",
       "  <thead>\n",
       "    <tr style=\"text-align: right;\">\n",
       "      <th></th>\n",
       "      <th>AÑO</th>\n",
       "      <th>Precipitación_Acumulada</th>\n",
       "    </tr>\n",
       "  </thead>\n",
       "  <tbody>\n",
       "    <tr>\n",
       "      <th>42</th>\n",
       "      <td>2006</td>\n",
       "      <td>0.0</td>\n",
       "    </tr>\n",
       "    <tr>\n",
       "      <th>2</th>\n",
       "      <td>1966</td>\n",
       "      <td>19.1</td>\n",
       "    </tr>\n",
       "    <tr>\n",
       "      <th>4</th>\n",
       "      <td>1968</td>\n",
       "      <td>36.7</td>\n",
       "    </tr>\n",
       "    <tr>\n",
       "      <th>34</th>\n",
       "      <td>1998</td>\n",
       "      <td>47.0</td>\n",
       "    </tr>\n",
       "    <tr>\n",
       "      <th>37</th>\n",
       "      <td>2001</td>\n",
       "      <td>59.5</td>\n",
       "    </tr>\n",
       "  </tbody>\n",
       "</table>\n",
       "</div>"
      ],
      "text/plain": [
       "     AÑO  Precipitación_Acumulada\n",
       "42  2006                      0.0\n",
       "2   1966                     19.1\n",
       "4   1968                     36.7\n",
       "34  1998                     47.0\n",
       "37  2001                     59.5"
      ]
     },
     "execution_count": 327,
     "metadata": {},
     "output_type": "execute_result"
    }
   ],
   "source": [
    "# para los años menos lluviosos\n",
    "dfp.nsmallest(5,'Precipitación_Acumulada', keep='first')"
   ]
  },
  {
   "cell_type": "code",
   "execution_count": 357,
   "metadata": {},
   "outputs": [
    {
     "data": {
      "text/html": [
       "<div>\n",
       "<style scoped>\n",
       "    .dataframe tbody tr th:only-of-type {\n",
       "        vertical-align: middle;\n",
       "    }\n",
       "\n",
       "    .dataframe tbody tr th {\n",
       "        vertical-align: top;\n",
       "    }\n",
       "\n",
       "    .dataframe thead th {\n",
       "        text-align: right;\n",
       "    }\n",
       "</style>\n",
       "<table border=\"1\" class=\"dataframe\">\n",
       "  <thead>\n",
       "    <tr style=\"text-align: right;\">\n",
       "      <th></th>\n",
       "      <th>PRECIP</th>\n",
       "      <th>EVAP</th>\n",
       "      <th>TMAX</th>\n",
       "      <th>TMIN</th>\n",
       "      <th>Año</th>\n",
       "      <th>Mes</th>\n",
       "    </tr>\n",
       "  </thead>\n",
       "  <tbody>\n",
       "    <tr>\n",
       "      <th>13791</th>\n",
       "      <td>0.3</td>\n",
       "      <td>NaN</td>\n",
       "      <td>30.0</td>\n",
       "      <td>19.0</td>\n",
       "      <td>2012</td>\n",
       "      <td>12</td>\n",
       "    </tr>\n",
       "    <tr>\n",
       "      <th>13792</th>\n",
       "      <td>0.0</td>\n",
       "      <td>NaN</td>\n",
       "      <td>30.0</td>\n",
       "      <td>22.0</td>\n",
       "      <td>2012</td>\n",
       "      <td>12</td>\n",
       "    </tr>\n",
       "    <tr>\n",
       "      <th>13793</th>\n",
       "      <td>0.0</td>\n",
       "      <td>NaN</td>\n",
       "      <td>29.0</td>\n",
       "      <td>22.0</td>\n",
       "      <td>2012</td>\n",
       "      <td>12</td>\n",
       "    </tr>\n",
       "    <tr>\n",
       "      <th>13794</th>\n",
       "      <td>0.0</td>\n",
       "      <td>NaN</td>\n",
       "      <td>32.0</td>\n",
       "      <td>13.0</td>\n",
       "      <td>2012</td>\n",
       "      <td>12</td>\n",
       "    </tr>\n",
       "    <tr>\n",
       "      <th>13795</th>\n",
       "      <td>0.0</td>\n",
       "      <td>NaN</td>\n",
       "      <td>30.0</td>\n",
       "      <td>17.0</td>\n",
       "      <td>2012</td>\n",
       "      <td>12</td>\n",
       "    </tr>\n",
       "  </tbody>\n",
       "</table>\n",
       "</div>"
      ],
      "text/plain": [
       "       PRECIP  EVAP  TMAX  TMIN   Año  Mes\n",
       "13791     0.3   NaN  30.0  19.0  2012   12\n",
       "13792     0.0   NaN  30.0  22.0  2012   12\n",
       "13793     0.0   NaN  29.0  22.0  2012   12\n",
       "13794     0.0   NaN  32.0  13.0  2012   12\n",
       "13795     0.0   NaN  30.0  17.0  2012   12"
      ]
     },
     "execution_count": 357,
     "metadata": {},
     "output_type": "execute_result"
    }
   ],
   "source": [
    "# para identificar los años con inviernos mas frios\n",
    "# primero se deben seleccionar los meses de invierno\n",
    "dfinv = pd.DataFrame(df.loc[df['Mes'].isin([12,1,2,3])])\n",
    "dfinv.tail()"
   ]
  },
  {
   "cell_type": "code",
   "execution_count": 358,
   "metadata": {},
   "outputs": [
    {
     "data": {
      "text/html": [
       "<div>\n",
       "<style scoped>\n",
       "    .dataframe tbody tr th:only-of-type {\n",
       "        vertical-align: middle;\n",
       "    }\n",
       "\n",
       "    .dataframe tbody tr th {\n",
       "        vertical-align: top;\n",
       "    }\n",
       "\n",
       "    .dataframe thead th {\n",
       "        text-align: right;\n",
       "    }\n",
       "</style>\n",
       "<table border=\"1\" class=\"dataframe\">\n",
       "  <thead>\n",
       "    <tr style=\"text-align: right;\">\n",
       "      <th></th>\n",
       "      <th>AÑO</th>\n",
       "      <th>Temperatura_máxima_promedio</th>\n",
       "      <th>Temperatura_mínima_promedio</th>\n",
       "    </tr>\n",
       "  </thead>\n",
       "  <tbody>\n",
       "    <tr>\n",
       "      <th>44</th>\n",
       "      <td>2008</td>\n",
       "      <td>31.009259</td>\n",
       "      <td>19.051402</td>\n",
       "    </tr>\n",
       "    <tr>\n",
       "      <th>45</th>\n",
       "      <td>2009</td>\n",
       "      <td>29.389423</td>\n",
       "      <td>18.742718</td>\n",
       "    </tr>\n",
       "    <tr>\n",
       "      <th>46</th>\n",
       "      <td>2010</td>\n",
       "      <td>28.672414</td>\n",
       "      <td>16.163793</td>\n",
       "    </tr>\n",
       "    <tr>\n",
       "      <th>47</th>\n",
       "      <td>2011</td>\n",
       "      <td>29.023529</td>\n",
       "      <td>18.951807</td>\n",
       "    </tr>\n",
       "    <tr>\n",
       "      <th>48</th>\n",
       "      <td>2012</td>\n",
       "      <td>28.009009</td>\n",
       "      <td>19.211712</td>\n",
       "    </tr>\n",
       "  </tbody>\n",
       "</table>\n",
       "</div>"
      ],
      "text/plain": [
       "     AÑO  Temperatura_máxima_promedio  Temperatura_mínima_promedio\n",
       "44  2008                    31.009259                    19.051402\n",
       "45  2009                    29.389423                    18.742718\n",
       "46  2010                    28.672414                    16.163793\n",
       "47  2011                    29.023529                    18.951807\n",
       "48  2012                    28.009009                    19.211712"
      ]
     },
     "execution_count": 358,
     "metadata": {},
     "output_type": "execute_result"
    }
   ],
   "source": [
    "tempmax = []\n",
    "tempmin = []\n",
    "\n",
    "for i in range(1964,2013):\n",
    "    ma = dfinv[dfinv.Año==(i)].TMAX.mean()\n",
    "    mi = dfinv[dfinv.Año==(i)].TMIN.mean()\n",
    "    tempmax.append(ma)\n",
    "    tempmin.append(mi)\n",
    "    \n",
    "nuevo = {'AÑO': años, 'Temperatura_máxima_promedio': tempmax,\n",
    "        'Temperatura_mínima_promedio': tempmin}\n",
    "dft = pd.DataFrame(data=nuevo)\n",
    "dft.tail()"
   ]
  },
  {
   "cell_type": "code",
   "execution_count": 373,
   "metadata": {},
   "outputs": [
    {
     "data": {
      "image/png": "[encoded data removed]",
      "text/plain": [
       "<Figure size 640x480 with 1 Axes>"
      ]
     },
     "metadata": {},
     "output_type": "display_data"
    }
   ],
   "source": [
    "n = np.arange(len(duracion))\n",
    "\n",
    "plt.bar(n,tempmax, align='center', alpha=0.7,color='red')\n",
    "plt.xticks(n, años, size = 'small', color = 'r', rotation = 90)\n",
    "\n",
    "plt.bar(n, tempmin, align='center', alpha=0.7,color='blue')\n",
    "plt.xticks(n, años, size = 'small', color = 'k', rotation = 90)\n",
    "\n",
    "plt.ylabel('Temperatura')\n",
    "plt.title('Máximas y mínimas temperaturas de invierno')\n",
    "plt.gca().legend(('TMAX','TMIN'),frameon=False,loc='upper left')\n",
    "plt.show()"
   ]
  },
  {
   "cell_type": "code",
   "execution_count": 360,
   "metadata": {},
   "outputs": [
    {
     "data": {
      "text/html": [
       "<div>\n",
       "<style scoped>\n",
       "    .dataframe tbody tr th:only-of-type {\n",
       "        vertical-align: middle;\n",
       "    }\n",
       "\n",
       "    .dataframe tbody tr th {\n",
       "        vertical-align: top;\n",
       "    }\n",
       "\n",
       "    .dataframe thead th {\n",
       "        text-align: right;\n",
       "    }\n",
       "</style>\n",
       "<table border=\"1\" class=\"dataframe\">\n",
       "  <thead>\n",
       "    <tr style=\"text-align: right;\">\n",
       "      <th></th>\n",
       "      <th>AÑO</th>\n",
       "      <th>Temperatura_máxima_promedio</th>\n",
       "      <th>Temperatura_mínima_promedio</th>\n",
       "    </tr>\n",
       "  </thead>\n",
       "  <tbody>\n",
       "    <tr>\n",
       "      <th>18</th>\n",
       "      <td>1982</td>\n",
       "      <td>31.417355</td>\n",
       "      <td>18.809917</td>\n",
       "    </tr>\n",
       "  </tbody>\n",
       "</table>\n",
       "</div>"
      ],
      "text/plain": [
       "     AÑO  Temperatura_máxima_promedio  Temperatura_mínima_promedio\n",
       "18  1982                    31.417355                    18.809917"
      ]
     },
     "execution_count": 360,
     "metadata": {},
     "output_type": "execute_result"
    }
   ],
   "source": [
    "# encontrando el máximo\n",
    "max=dft.Temperatura_máxima_promedio.idxmax()\n",
    "dft.iloc[[max]]"
   ]
  },
  {
   "cell_type": "code",
   "execution_count": 361,
   "metadata": {},
   "outputs": [
    {
     "data": {
      "text/html": [
       "<div>\n",
       "<style scoped>\n",
       "    .dataframe tbody tr th:only-of-type {\n",
       "        vertical-align: middle;\n",
       "    }\n",
       "\n",
       "    .dataframe tbody tr th {\n",
       "        vertical-align: top;\n",
       "    }\n",
       "\n",
       "    .dataframe thead th {\n",
       "        text-align: right;\n",
       "    }\n",
       "</style>\n",
       "<table border=\"1\" class=\"dataframe\">\n",
       "  <thead>\n",
       "    <tr style=\"text-align: right;\">\n",
       "      <th></th>\n",
       "      <th>AÑO</th>\n",
       "      <th>Temperatura_máxima_promedio</th>\n",
       "      <th>Temperatura_mínima_promedio</th>\n",
       "    </tr>\n",
       "  </thead>\n",
       "  <tbody>\n",
       "    <tr>\n",
       "      <th>28</th>\n",
       "      <td>1992</td>\n",
       "      <td>29.819672</td>\n",
       "      <td>13.301639</td>\n",
       "    </tr>\n",
       "  </tbody>\n",
       "</table>\n",
       "</div>"
      ],
      "text/plain": [
       "     AÑO  Temperatura_máxima_promedio  Temperatura_mínima_promedio\n",
       "28  1992                    29.819672                    13.301639"
      ]
     },
     "execution_count": 361,
     "metadata": {},
     "output_type": "execute_result"
    }
   ],
   "source": [
    "# encontrando el mínimo\n",
    "min=dft.Temperatura_mínima_promedio.idxmin()\n",
    "dft.iloc[[min]]"
   ]
  },
  {
   "cell_type": "code",
   "execution_count": 362,
   "metadata": {},
   "outputs": [
    {
     "data": {
      "text/html": [
       "<div>\n",
       "<style scoped>\n",
       "    .dataframe tbody tr th:only-of-type {\n",
       "        vertical-align: middle;\n",
       "    }\n",
       "\n",
       "    .dataframe tbody tr th {\n",
       "        vertical-align: top;\n",
       "    }\n",
       "\n",
       "    .dataframe thead th {\n",
       "        text-align: right;\n",
       "    }\n",
       "</style>\n",
       "<table border=\"1\" class=\"dataframe\">\n",
       "  <thead>\n",
       "    <tr style=\"text-align: right;\">\n",
       "      <th></th>\n",
       "      <th>AÑO</th>\n",
       "      <th>Temperatura_máxima_promedio</th>\n",
       "      <th>Temperatura_mínima_promedio</th>\n",
       "    </tr>\n",
       "  </thead>\n",
       "  <tbody>\n",
       "    <tr>\n",
       "      <th>28</th>\n",
       "      <td>1992</td>\n",
       "      <td>29.819672</td>\n",
       "      <td>13.301639</td>\n",
       "    </tr>\n",
       "    <tr>\n",
       "      <th>27</th>\n",
       "      <td>1991</td>\n",
       "      <td>29.868595</td>\n",
       "      <td>13.740496</td>\n",
       "    </tr>\n",
       "    <tr>\n",
       "      <th>26</th>\n",
       "      <td>1990</td>\n",
       "      <td>28.390323</td>\n",
       "      <td>14.738710</td>\n",
       "    </tr>\n",
       "    <tr>\n",
       "      <th>11</th>\n",
       "      <td>1975</td>\n",
       "      <td>30.227778</td>\n",
       "      <td>15.611111</td>\n",
       "    </tr>\n",
       "    <tr>\n",
       "      <th>17</th>\n",
       "      <td>1981</td>\n",
       "      <td>30.413223</td>\n",
       "      <td>15.851240</td>\n",
       "    </tr>\n",
       "  </tbody>\n",
       "</table>\n",
       "</div>"
      ],
      "text/plain": [
       "     AÑO  Temperatura_máxima_promedio  Temperatura_mínima_promedio\n",
       "28  1992                    29.819672                    13.301639\n",
       "27  1991                    29.868595                    13.740496\n",
       "26  1990                    28.390323                    14.738710\n",
       "11  1975                    30.227778                    15.611111\n",
       "17  1981                    30.413223                    15.851240"
      ]
     },
     "execution_count": 362,
     "metadata": {},
     "output_type": "execute_result"
    }
   ],
   "source": [
    "# Inviernos más frios, donde la temperatura mínima es menor\n",
    "dft.nsmallest(5,'Temperatura_mínima_promedio', keep='first')"
   ]
  },
  {
   "cell_type": "code",
   "execution_count": 369,
   "metadata": {},
   "outputs": [
    {
     "data": {
      "text/html": [
       "<div>\n",
       "<style scoped>\n",
       "    .dataframe tbody tr th:only-of-type {\n",
       "        vertical-align: middle;\n",
       "    }\n",
       "\n",
       "    .dataframe tbody tr th {\n",
       "        vertical-align: top;\n",
       "    }\n",
       "\n",
       "    .dataframe thead th {\n",
       "        text-align: right;\n",
       "    }\n",
       "</style>\n",
       "<table border=\"1\" class=\"dataframe\">\n",
       "  <thead>\n",
       "    <tr style=\"text-align: right;\">\n",
       "      <th></th>\n",
       "      <th>PRECIP</th>\n",
       "      <th>EVAP</th>\n",
       "      <th>TMAX</th>\n",
       "      <th>TMIN</th>\n",
       "      <th>Año</th>\n",
       "      <th>Mes</th>\n",
       "    </tr>\n",
       "  </thead>\n",
       "  <tbody>\n",
       "    <tr>\n",
       "      <th>13699</th>\n",
       "      <td>30.0</td>\n",
       "      <td>NaN</td>\n",
       "      <td>28.0</td>\n",
       "      <td>20.0</td>\n",
       "      <td>2012</td>\n",
       "      <td>9</td>\n",
       "    </tr>\n",
       "    <tr>\n",
       "      <th>13700</th>\n",
       "      <td>0.0</td>\n",
       "      <td>NaN</td>\n",
       "      <td>NaN</td>\n",
       "      <td>21.0</td>\n",
       "      <td>2012</td>\n",
       "      <td>9</td>\n",
       "    </tr>\n",
       "    <tr>\n",
       "      <th>13701</th>\n",
       "      <td>0.0</td>\n",
       "      <td>NaN</td>\n",
       "      <td>NaN</td>\n",
       "      <td>NaN</td>\n",
       "      <td>2012</td>\n",
       "      <td>9</td>\n",
       "    </tr>\n",
       "    <tr>\n",
       "      <th>13702</th>\n",
       "      <td>0.0</td>\n",
       "      <td>NaN</td>\n",
       "      <td>NaN</td>\n",
       "      <td>NaN</td>\n",
       "      <td>2012</td>\n",
       "      <td>9</td>\n",
       "    </tr>\n",
       "    <tr>\n",
       "      <th>13703</th>\n",
       "      <td>0.0</td>\n",
       "      <td>NaN</td>\n",
       "      <td>30.0</td>\n",
       "      <td>NaN</td>\n",
       "      <td>2012</td>\n",
       "      <td>9</td>\n",
       "    </tr>\n",
       "  </tbody>\n",
       "</table>\n",
       "</div>"
      ],
      "text/plain": [
       "       PRECIP  EVAP  TMAX  TMIN   Año  Mes\n",
       "13699    30.0   NaN  28.0  20.0  2012    9\n",
       "13700     0.0   NaN   NaN  21.0  2012    9\n",
       "13701     0.0   NaN   NaN   NaN  2012    9\n",
       "13702     0.0   NaN   NaN   NaN  2012    9\n",
       "13703     0.0   NaN  30.0   NaN  2012    9"
      ]
     },
     "execution_count": 369,
     "metadata": {},
     "output_type": "execute_result"
    }
   ],
   "source": [
    "# creando un dataframe de verano para las temperaturas max y min\n",
    "dfver = pd.DataFrame(df.loc[df['Mes'].isin([6,7,8,9])])\n",
    "dfver.tail()"
   ]
  },
  {
   "cell_type": "code",
   "execution_count": 370,
   "metadata": {},
   "outputs": [
    {
     "data": {
      "text/html": [
       "<div>\n",
       "<style scoped>\n",
       "    .dataframe tbody tr th:only-of-type {\n",
       "        vertical-align: middle;\n",
       "    }\n",
       "\n",
       "    .dataframe tbody tr th {\n",
       "        vertical-align: top;\n",
       "    }\n",
       "\n",
       "    .dataframe thead th {\n",
       "        text-align: right;\n",
       "    }\n",
       "</style>\n",
       "<table border=\"1\" class=\"dataframe\">\n",
       "  <thead>\n",
       "    <tr style=\"text-align: right;\">\n",
       "      <th></th>\n",
       "      <th>AÑO</th>\n",
       "      <th>Temperatura_máxima_promedio</th>\n",
       "      <th>Temperatura_mínima_promedio</th>\n",
       "    </tr>\n",
       "  </thead>\n",
       "  <tbody>\n",
       "    <tr>\n",
       "      <th>44</th>\n",
       "      <td>2008</td>\n",
       "      <td>33.949153</td>\n",
       "      <td>23.788136</td>\n",
       "    </tr>\n",
       "    <tr>\n",
       "      <th>45</th>\n",
       "      <td>2009</td>\n",
       "      <td>32.304348</td>\n",
       "      <td>23.235294</td>\n",
       "    </tr>\n",
       "    <tr>\n",
       "      <th>46</th>\n",
       "      <td>2010</td>\n",
       "      <td>31.592437</td>\n",
       "      <td>23.987395</td>\n",
       "    </tr>\n",
       "    <tr>\n",
       "      <th>47</th>\n",
       "      <td>2011</td>\n",
       "      <td>29.750000</td>\n",
       "      <td>23.090909</td>\n",
       "    </tr>\n",
       "    <tr>\n",
       "      <th>48</th>\n",
       "      <td>2012</td>\n",
       "      <td>29.400000</td>\n",
       "      <td>23.013636</td>\n",
       "    </tr>\n",
       "  </tbody>\n",
       "</table>\n",
       "</div>"
      ],
      "text/plain": [
       "     AÑO  Temperatura_máxima_promedio  Temperatura_mínima_promedio\n",
       "44  2008                    33.949153                    23.788136\n",
       "45  2009                    32.304348                    23.235294\n",
       "46  2010                    31.592437                    23.987395\n",
       "47  2011                    29.750000                    23.090909\n",
       "48  2012                    29.400000                    23.013636"
      ]
     },
     "execution_count": 370,
     "metadata": {},
     "output_type": "execute_result"
    }
   ],
   "source": [
    "tempmax = []\n",
    "tempmin = []\n",
    "\n",
    "for i in range(1964,2013):\n",
    "    ma = dfver[dfver.Año==(i)].TMAX.mean()\n",
    "    mi = dfver[dfver.Año==(i)].TMIN.mean()\n",
    "    tempmax.append(ma)\n",
    "    tempmin.append(mi)\n",
    "    \n",
    "nuevo = {'AÑO': años, 'Temperatura_máxima_promedio': tempmax,\n",
    "        'Temperatura_mínima_promedio': tempmin}\n",
    "dfv = pd.DataFrame(data=nuevo)\n",
    "dfv.tail()"
   ]
  },
  {
   "cell_type": "code",
   "execution_count": 372,
   "metadata": {},
   "outputs": [
    {
     "data": {
      "image/png": "[encoded data removed]",
      "text/plain": [
       "<Figure size 640x480 with 1 Axes>"
      ]
     },
     "metadata": {},
     "output_type": "display_data"
    }
   ],
   "source": [
    "n = np.arange(len(duracion))\n",
    "\n",
    "plt.bar(n,tempmax, align='center', alpha=0.7,color='red')\n",
    "plt.xticks(n, años, size = 'small', color = 'r', rotation = 90)\n",
    "\n",
    "plt.bar(n, tempmin, align='center', alpha=0.7,color='blue')\n",
    "plt.xticks(n, años, size = 'small', color = 'k', rotation = 90)\n",
    "\n",
    "plt.ylabel('Temperatura')\n",
    "plt.title('Máximas y mínimas temperaturas de verano')\n",
    "plt.gca().legend(('TMAX','TMIN'),frameon=False,loc='upper left')\n",
    "plt.show()"
   ]
  },
  {
   "cell_type": "code",
   "execution_count": null,
   "metadata": {},
   "outputs": [],
   "source": []
  }
 ],
 "metadata": {
  "kernelspec": {
   "display_name": "Python 3",
   "language": "python",
   "name": "python3"
  },
  "language_info": {
   "codemirror_mode": {
    "name": "ipython",
    "version": 3
   },
   "file_extension": ".py",
   "mimetype": "text/x-python",
   "name": "python",
   "nbconvert_exporter": "python",
   "pygments_lexer": "ipython3",
   "version": "3.7.1"
  }
 },
 "nbformat": 4,
 "nbformat_minor": 2
}
