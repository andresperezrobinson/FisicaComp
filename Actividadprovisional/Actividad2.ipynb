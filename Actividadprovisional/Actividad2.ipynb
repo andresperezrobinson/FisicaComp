{
 "cells": [
  {
   "cell_type": "code",
   "execution_count": 3,
   "metadata": {},
   "outputs": [],
   "source": [
    "\n",
    "# Cargar a la memoria de trabajo las bibliotecas: Pandas (manejo de datos, \n",
    "# Numpy (numerical python) y la biblioteca de gráficas Matplotlib\n",
    "# Se asignan nombres cortos.\n",
    "import pandas as pd\n",
    "import numpy as np\n",
    "import matplotlib.pyplot as plt\n",
    "#\n",
    "# Usar \"Shift+Enter\" para procesar la información de la celda\n",
    "#"
   ]
  },
  {
   "cell_type": "code",
   "execution_count": 4,
   "metadata": {},
   "outputs": [],
   "source": [
    "# Descarga los datos de una estación del Servicio Meteorológico Nacional\n",
    "# http://smn1.conagua.gob.mx/emas/\n",
    "# Lee un archivo de texto con la función Pandas \"read_csv\", con elementos separados por mas de \n",
    "# un espacio, brincándose 4 renglones del inicio (encabezados)\n",
    "df0 = pd.read_csv('cancun.txt', skiprows=4, sep='\\s+')\n",
    "# \"Shift + Enter\""
   ]
  },
  {
   "cell_type": "code",
   "execution_count": 5,
   "metadata": {},
   "outputs": [
    {
     "data": {
      "text/html": [
       "<div>\n",
       "<style scoped>\n",
       "    .dataframe tbody tr th:only-of-type {\n",
       "        vertical-align: middle;\n",
       "    }\n",
       "\n",
       "    .dataframe tbody tr th {\n",
       "        vertical-align: top;\n",
       "    }\n",
       "\n",
       "    .dataframe thead th {\n",
       "        text-align: right;\n",
       "    }\n",
       "</style>\n",
       "<table border=\"1\" class=\"dataframe\">\n",
       "  <thead>\n",
       "    <tr style=\"text-align: right;\">\n",
       "      <th></th>\n",
       "      <th>DD/MM/AAAA</th>\n",
       "      <th>HH:MM</th>\n",
       "      <th>DIRS</th>\n",
       "      <th>DIRR</th>\n",
       "      <th>VELS</th>\n",
       "      <th>VELR</th>\n",
       "      <th>TEMP</th>\n",
       "      <th>HR</th>\n",
       "      <th>PB</th>\n",
       "      <th>PREC</th>\n",
       "      <th>RADSOL</th>\n",
       "    </tr>\n",
       "  </thead>\n",
       "  <tbody>\n",
       "    <tr>\n",
       "      <th>0</th>\n",
       "      <td>22/01/2019</td>\n",
       "      <td>22:00</td>\n",
       "      <td>129.0</td>\n",
       "      <td>119.0</td>\n",
       "      <td>15.51</td>\n",
       "      <td>34.4</td>\n",
       "      <td>24.0</td>\n",
       "      <td>93.0</td>\n",
       "      <td>1016.2</td>\n",
       "      <td>1.0</td>\n",
       "      <td>62.5</td>\n",
       "    </tr>\n",
       "    <tr>\n",
       "      <th>1</th>\n",
       "      <td>22/01/2019</td>\n",
       "      <td>23:00</td>\n",
       "      <td>141.0</td>\n",
       "      <td>147.0</td>\n",
       "      <td>18.12</td>\n",
       "      <td>35.0</td>\n",
       "      <td>24.2</td>\n",
       "      <td>86.0</td>\n",
       "      <td>1016.2</td>\n",
       "      <td>0.3</td>\n",
       "      <td>7.0</td>\n",
       "    </tr>\n",
       "    <tr>\n",
       "      <th>2</th>\n",
       "      <td>23/01/2019</td>\n",
       "      <td>00:00</td>\n",
       "      <td>141.0</td>\n",
       "      <td>125.0</td>\n",
       "      <td>19.95</td>\n",
       "      <td>39.0</td>\n",
       "      <td>24.8</td>\n",
       "      <td>81.0</td>\n",
       "      <td>1016.4</td>\n",
       "      <td>0.0</td>\n",
       "      <td>0.0</td>\n",
       "    </tr>\n",
       "    <tr>\n",
       "      <th>3</th>\n",
       "      <td>23/01/2019</td>\n",
       "      <td>01:00</td>\n",
       "      <td>134.0</td>\n",
       "      <td>156.0</td>\n",
       "      <td>19.29</td>\n",
       "      <td>40.8</td>\n",
       "      <td>25.0</td>\n",
       "      <td>79.0</td>\n",
       "      <td>1016.8</td>\n",
       "      <td>0.0</td>\n",
       "      <td>0.0</td>\n",
       "    </tr>\n",
       "    <tr>\n",
       "      <th>4</th>\n",
       "      <td>23/01/2019</td>\n",
       "      <td>02:00</td>\n",
       "      <td>143.0</td>\n",
       "      <td>157.0</td>\n",
       "      <td>22.24</td>\n",
       "      <td>41.9</td>\n",
       "      <td>25.3</td>\n",
       "      <td>76.0</td>\n",
       "      <td>1017.0</td>\n",
       "      <td>0.0</td>\n",
       "      <td>0.0</td>\n",
       "    </tr>\n",
       "  </tbody>\n",
       "</table>\n",
       "</div>"
      ],
      "text/plain": [
       "   DD/MM/AAAA  HH:MM   DIRS   DIRR   VELS  VELR  TEMP    HR      PB  PREC  \\\n",
       "0  22/01/2019  22:00  129.0  119.0  15.51  34.4  24.0  93.0  1016.2   1.0   \n",
       "1  22/01/2019  23:00  141.0  147.0  18.12  35.0  24.2  86.0  1016.2   0.3   \n",
       "2  23/01/2019  00:00  141.0  125.0  19.95  39.0  24.8  81.0  1016.4   0.0   \n",
       "3  23/01/2019  01:00  134.0  156.0  19.29  40.8  25.0  79.0  1016.8   0.0   \n",
       "4  23/01/2019  02:00  143.0  157.0  22.24  41.9  25.3  76.0  1017.0   0.0   \n",
       "\n",
       "   RADSOL  \n",
       "0    62.5  \n",
       "1     7.0  \n",
       "2     0.0  \n",
       "3     0.0  \n",
       "4     0.0  "
      ]
     },
     "execution_count": 5,
     "metadata": {},
     "output_type": "execute_result"
    }
   ],
   "source": [
    "\n",
    "# Lee los primeros 5 renglones del archivo\n",
    "df0.head()\n",
    "# \"Shift+Enter\""
   ]
  },
  {
   "cell_type": "code",
   "execution_count": 6,
   "metadata": {},
   "outputs": [],
   "source": [
    "\n",
    "# Dar estructura de datos (DataFrame)\n",
    "df = pd.DataFrame(df0)"
   ]
  },
  {
   "cell_type": "code",
   "execution_count": 7,
   "metadata": {},
   "outputs": [
    {
     "data": {
      "text/plain": [
       "DD/MM/AAAA     object\n",
       "HH:MM          object\n",
       "DIRS          float64\n",
       "DIRR          float64\n",
       "VELS          float64\n",
       "VELR          float64\n",
       "TEMP          float64\n",
       "HR            float64\n",
       "PB            float64\n",
       "PREC          float64\n",
       "RADSOL        float64\n",
       "dtype: object"
      ]
     },
     "execution_count": 7,
     "metadata": {},
     "output_type": "execute_result"
    }
   ],
   "source": [
    "# Ver los tipos de datos que Pandas ha reconocido al leer\n",
    "df.dtypes"
   ]
  },
  {
   "cell_type": "code",
   "execution_count": 8,
   "metadata": {},
   "outputs": [],
   "source": [
    "\n",
    "# Combinar las columnas \"DD/MM/AAAA\" con \"HH:MM\" y convertirla a variable de tiempo\n",
    "# Se crea una nueva columna \"Fecha\" al final con formato de tiempo.\n",
    "# Eliminamos las dos primeras columnas que ya no necesitaremos\n",
    "df['FECHA'] = pd.to_datetime(df.apply(lambda x: x['DD/MM/AAAA'] + ' ' + x['HH:MM'], 1), dayfirst=True)\n",
    "df = df.drop(['DD/MM/AAAA', 'HH:MM'], 1)"
   ]
  },
  {
   "cell_type": "code",
   "execution_count": 9,
   "metadata": {},
   "outputs": [
    {
     "data": {
      "text/html": [
       "<div>\n",
       "<style scoped>\n",
       "    .dataframe tbody tr th:only-of-type {\n",
       "        vertical-align: middle;\n",
       "    }\n",
       "\n",
       "    .dataframe tbody tr th {\n",
       "        vertical-align: top;\n",
       "    }\n",
       "\n",
       "    .dataframe thead th {\n",
       "        text-align: right;\n",
       "    }\n",
       "</style>\n",
       "<table border=\"1\" class=\"dataframe\">\n",
       "  <thead>\n",
       "    <tr style=\"text-align: right;\">\n",
       "      <th></th>\n",
       "      <th>DIRS</th>\n",
       "      <th>DIRR</th>\n",
       "      <th>VELS</th>\n",
       "      <th>VELR</th>\n",
       "      <th>TEMP</th>\n",
       "      <th>HR</th>\n",
       "      <th>PB</th>\n",
       "      <th>PREC</th>\n",
       "      <th>RADSOL</th>\n",
       "      <th>FECHA</th>\n",
       "    </tr>\n",
       "  </thead>\n",
       "  <tbody>\n",
       "    <tr>\n",
       "      <th>0</th>\n",
       "      <td>129.0</td>\n",
       "      <td>119.0</td>\n",
       "      <td>15.51</td>\n",
       "      <td>34.4</td>\n",
       "      <td>24.0</td>\n",
       "      <td>93.0</td>\n",
       "      <td>1016.2</td>\n",
       "      <td>1.0</td>\n",
       "      <td>62.5</td>\n",
       "      <td>2019-01-22 22:00:00</td>\n",
       "    </tr>\n",
       "    <tr>\n",
       "      <th>1</th>\n",
       "      <td>141.0</td>\n",
       "      <td>147.0</td>\n",
       "      <td>18.12</td>\n",
       "      <td>35.0</td>\n",
       "      <td>24.2</td>\n",
       "      <td>86.0</td>\n",
       "      <td>1016.2</td>\n",
       "      <td>0.3</td>\n",
       "      <td>7.0</td>\n",
       "      <td>2019-01-22 23:00:00</td>\n",
       "    </tr>\n",
       "    <tr>\n",
       "      <th>2</th>\n",
       "      <td>141.0</td>\n",
       "      <td>125.0</td>\n",
       "      <td>19.95</td>\n",
       "      <td>39.0</td>\n",
       "      <td>24.8</td>\n",
       "      <td>81.0</td>\n",
       "      <td>1016.4</td>\n",
       "      <td>0.0</td>\n",
       "      <td>0.0</td>\n",
       "      <td>2019-01-23 00:00:00</td>\n",
       "    </tr>\n",
       "    <tr>\n",
       "      <th>3</th>\n",
       "      <td>134.0</td>\n",
       "      <td>156.0</td>\n",
       "      <td>19.29</td>\n",
       "      <td>40.8</td>\n",
       "      <td>25.0</td>\n",
       "      <td>79.0</td>\n",
       "      <td>1016.8</td>\n",
       "      <td>0.0</td>\n",
       "      <td>0.0</td>\n",
       "      <td>2019-01-23 01:00:00</td>\n",
       "    </tr>\n",
       "    <tr>\n",
       "      <th>4</th>\n",
       "      <td>143.0</td>\n",
       "      <td>157.0</td>\n",
       "      <td>22.24</td>\n",
       "      <td>41.9</td>\n",
       "      <td>25.3</td>\n",
       "      <td>76.0</td>\n",
       "      <td>1017.0</td>\n",
       "      <td>0.0</td>\n",
       "      <td>0.0</td>\n",
       "      <td>2019-01-23 02:00:00</td>\n",
       "    </tr>\n",
       "  </tbody>\n",
       "</table>\n",
       "</div>"
      ],
      "text/plain": [
       "    DIRS   DIRR   VELS  VELR  TEMP    HR      PB  PREC  RADSOL  \\\n",
       "0  129.0  119.0  15.51  34.4  24.0  93.0  1016.2   1.0    62.5   \n",
       "1  141.0  147.0  18.12  35.0  24.2  86.0  1016.2   0.3     7.0   \n",
       "2  141.0  125.0  19.95  39.0  24.8  81.0  1016.4   0.0     0.0   \n",
       "3  134.0  156.0  19.29  40.8  25.0  79.0  1016.8   0.0     0.0   \n",
       "4  143.0  157.0  22.24  41.9  25.3  76.0  1017.0   0.0     0.0   \n",
       "\n",
       "                FECHA  \n",
       "0 2019-01-22 22:00:00  \n",
       "1 2019-01-22 23:00:00  \n",
       "2 2019-01-23 00:00:00  \n",
       "3 2019-01-23 01:00:00  \n",
       "4 2019-01-23 02:00:00  "
      ]
     },
     "execution_count": 9,
     "metadata": {},
     "output_type": "execute_result"
    }
   ],
   "source": [
    "df.head()"
   ]
  },
  {
   "cell_type": "code",
   "execution_count": 10,
   "metadata": {},
   "outputs": [
    {
     "data": {
      "text/html": [
       "<div>\n",
       "<style scoped>\n",
       "    .dataframe tbody tr th:only-of-type {\n",
       "        vertical-align: middle;\n",
       "    }\n",
       "\n",
       "    .dataframe tbody tr th {\n",
       "        vertical-align: top;\n",
       "    }\n",
       "\n",
       "    .dataframe thead th {\n",
       "        text-align: right;\n",
       "    }\n",
       "</style>\n",
       "<table border=\"1\" class=\"dataframe\">\n",
       "  <thead>\n",
       "    <tr style=\"text-align: right;\">\n",
       "      <th></th>\n",
       "      <th>DIRS</th>\n",
       "      <th>DIRR</th>\n",
       "      <th>VELS</th>\n",
       "      <th>VELR</th>\n",
       "      <th>TEMP</th>\n",
       "      <th>HR</th>\n",
       "      <th>PB</th>\n",
       "      <th>PREC</th>\n",
       "      <th>RADSOL</th>\n",
       "    </tr>\n",
       "  </thead>\n",
       "  <tbody>\n",
       "    <tr>\n",
       "      <th>count</th>\n",
       "      <td>139.000000</td>\n",
       "      <td>139.000000</td>\n",
       "      <td>139.000000</td>\n",
       "      <td>139.000000</td>\n",
       "      <td>139.000000</td>\n",
       "      <td>139.000000</td>\n",
       "      <td>139.000000</td>\n",
       "      <td>139.000000</td>\n",
       "      <td>138.000000</td>\n",
       "    </tr>\n",
       "    <tr>\n",
       "      <th>mean</th>\n",
       "      <td>164.604317</td>\n",
       "      <td>165.920863</td>\n",
       "      <td>11.456835</td>\n",
       "      <td>22.905755</td>\n",
       "      <td>22.956835</td>\n",
       "      <td>87.949640</td>\n",
       "      <td>1014.661871</td>\n",
       "      <td>2.166187</td>\n",
       "      <td>120.388406</td>\n",
       "    </tr>\n",
       "    <tr>\n",
       "      <th>std</th>\n",
       "      <td>116.263483</td>\n",
       "      <td>115.591426</td>\n",
       "      <td>4.634042</td>\n",
       "      <td>9.801706</td>\n",
       "      <td>3.531392</td>\n",
       "      <td>13.340754</td>\n",
       "      <td>1.717700</td>\n",
       "      <td>18.847883</td>\n",
       "      <td>203.122739</td>\n",
       "    </tr>\n",
       "    <tr>\n",
       "      <th>min</th>\n",
       "      <td>1.000000</td>\n",
       "      <td>0.000000</td>\n",
       "      <td>2.070000</td>\n",
       "      <td>7.900000</td>\n",
       "      <td>13.800000</td>\n",
       "      <td>51.000000</td>\n",
       "      <td>1006.300000</td>\n",
       "      <td>0.000000</td>\n",
       "      <td>0.000000</td>\n",
       "    </tr>\n",
       "    <tr>\n",
       "      <th>25%</th>\n",
       "      <td>69.000000</td>\n",
       "      <td>77.000000</td>\n",
       "      <td>8.210000</td>\n",
       "      <td>15.150000</td>\n",
       "      <td>21.200000</td>\n",
       "      <td>78.000000</td>\n",
       "      <td>1013.750000</td>\n",
       "      <td>0.000000</td>\n",
       "      <td>0.000000</td>\n",
       "    </tr>\n",
       "    <tr>\n",
       "      <th>50%</th>\n",
       "      <td>136.000000</td>\n",
       "      <td>148.000000</td>\n",
       "      <td>10.380000</td>\n",
       "      <td>21.200000</td>\n",
       "      <td>23.200000</td>\n",
       "      <td>92.000000</td>\n",
       "      <td>1014.700000</td>\n",
       "      <td>0.000000</td>\n",
       "      <td>0.000000</td>\n",
       "    </tr>\n",
       "    <tr>\n",
       "      <th>75%</th>\n",
       "      <td>299.000000</td>\n",
       "      <td>294.500000</td>\n",
       "      <td>14.050000</td>\n",
       "      <td>28.700000</td>\n",
       "      <td>25.350000</td>\n",
       "      <td>100.000000</td>\n",
       "      <td>1015.700000</td>\n",
       "      <td>0.000000</td>\n",
       "      <td>161.550000</td>\n",
       "    </tr>\n",
       "    <tr>\n",
       "      <th>max</th>\n",
       "      <td>358.000000</td>\n",
       "      <td>359.000000</td>\n",
       "      <td>23.800000</td>\n",
       "      <td>66.100000</td>\n",
       "      <td>29.900000</td>\n",
       "      <td>100.000000</td>\n",
       "      <td>1018.500000</td>\n",
       "      <td>221.000000</td>\n",
       "      <td>836.200000</td>\n",
       "    </tr>\n",
       "  </tbody>\n",
       "</table>\n",
       "</div>"
      ],
      "text/plain": [
       "             DIRS        DIRR        VELS        VELR        TEMP          HR  \\\n",
       "count  139.000000  139.000000  139.000000  139.000000  139.000000  139.000000   \n",
       "mean   164.604317  165.920863   11.456835   22.905755   22.956835   87.949640   \n",
       "std    116.263483  115.591426    4.634042    9.801706    3.531392   13.340754   \n",
       "min      1.000000    0.000000    2.070000    7.900000   13.800000   51.000000   \n",
       "25%     69.000000   77.000000    8.210000   15.150000   21.200000   78.000000   \n",
       "50%    136.000000  148.000000   10.380000   21.200000   23.200000   92.000000   \n",
       "75%    299.000000  294.500000   14.050000   28.700000   25.350000  100.000000   \n",
       "max    358.000000  359.000000   23.800000   66.100000   29.900000  100.000000   \n",
       "\n",
       "                PB        PREC      RADSOL  \n",
       "count   139.000000  139.000000  138.000000  \n",
       "mean   1014.661871    2.166187  120.388406  \n",
       "std       1.717700   18.847883  203.122739  \n",
       "min    1006.300000    0.000000    0.000000  \n",
       "25%    1013.750000    0.000000    0.000000  \n",
       "50%    1014.700000    0.000000    0.000000  \n",
       "75%    1015.700000    0.000000  161.550000  \n",
       "max    1018.500000  221.000000  836.200000  "
      ]
     },
     "execution_count": 10,
     "metadata": {},
     "output_type": "execute_result"
    }
   ],
   "source": [
    "# Realiza un análisis exploratorio de datos\n",
    "df.describe()"
   ]
  },
  {
   "cell_type": "code",
   "execution_count": 11,
   "metadata": {},
   "outputs": [
    {
     "data": {
      "text/html": [
       "<div>\n",
       "<style scoped>\n",
       "    .dataframe tbody tr th:only-of-type {\n",
       "        vertical-align: middle;\n",
       "    }\n",
       "\n",
       "    .dataframe tbody tr th {\n",
       "        vertical-align: top;\n",
       "    }\n",
       "\n",
       "    .dataframe thead th {\n",
       "        text-align: right;\n",
       "    }\n",
       "</style>\n",
       "<table border=\"1\" class=\"dataframe\">\n",
       "  <thead>\n",
       "    <tr style=\"text-align: right;\">\n",
       "      <th></th>\n",
       "      <th>DIRS</th>\n",
       "      <th>DIRR</th>\n",
       "      <th>VELS</th>\n",
       "      <th>VELR</th>\n",
       "      <th>TEMP</th>\n",
       "      <th>HR</th>\n",
       "      <th>PB</th>\n",
       "      <th>PREC</th>\n",
       "      <th>RADSOL</th>\n",
       "      <th>FECHA</th>\n",
       "    </tr>\n",
       "  </thead>\n",
       "  <tbody>\n",
       "    <tr>\n",
       "      <th>1</th>\n",
       "      <td>141.0</td>\n",
       "      <td>147.0</td>\n",
       "      <td>18.12</td>\n",
       "      <td>35.0</td>\n",
       "      <td>24.2</td>\n",
       "      <td>86.0</td>\n",
       "      <td>1016.2</td>\n",
       "      <td>0.3</td>\n",
       "      <td>7.0</td>\n",
       "      <td>2019-01-22 23:00:00</td>\n",
       "    </tr>\n",
       "    <tr>\n",
       "      <th>2</th>\n",
       "      <td>141.0</td>\n",
       "      <td>125.0</td>\n",
       "      <td>19.95</td>\n",
       "      <td>39.0</td>\n",
       "      <td>24.8</td>\n",
       "      <td>81.0</td>\n",
       "      <td>1016.4</td>\n",
       "      <td>0.0</td>\n",
       "      <td>0.0</td>\n",
       "      <td>2019-01-23 00:00:00</td>\n",
       "    </tr>\n",
       "    <tr>\n",
       "      <th>16</th>\n",
       "      <td>160.0</td>\n",
       "      <td>153.0</td>\n",
       "      <td>17.71</td>\n",
       "      <td>36.7</td>\n",
       "      <td>24.5</td>\n",
       "      <td>99.0</td>\n",
       "      <td>1015.4</td>\n",
       "      <td>0.0</td>\n",
       "      <td>90.8</td>\n",
       "      <td>2019-01-23 14:00:00</td>\n",
       "    </tr>\n",
       "    <tr>\n",
       "      <th>34</th>\n",
       "      <td>231.0</td>\n",
       "      <td>202.0</td>\n",
       "      <td>6.09</td>\n",
       "      <td>16.6</td>\n",
       "      <td>24.7</td>\n",
       "      <td>89.0</td>\n",
       "      <td>1012.9</td>\n",
       "      <td>0.0</td>\n",
       "      <td>0.0</td>\n",
       "      <td>2019-01-24 08:00:00</td>\n",
       "    </tr>\n",
       "    <tr>\n",
       "      <th>48</th>\n",
       "      <td>285.0</td>\n",
       "      <td>295.0</td>\n",
       "      <td>6.38</td>\n",
       "      <td>20.0</td>\n",
       "      <td>24.2</td>\n",
       "      <td>91.0</td>\n",
       "      <td>1013.6</td>\n",
       "      <td>14.2</td>\n",
       "      <td>22.7</td>\n",
       "      <td>2019-01-24 22:00:00</td>\n",
       "    </tr>\n",
       "    <tr>\n",
       "      <th>64</th>\n",
       "      <td>8.0</td>\n",
       "      <td>8.0</td>\n",
       "      <td>9.70</td>\n",
       "      <td>18.9</td>\n",
       "      <td>24.2</td>\n",
       "      <td>100.0</td>\n",
       "      <td>1017.6</td>\n",
       "      <td>0.0</td>\n",
       "      <td>238.7</td>\n",
       "      <td>2019-01-25 14:00:00</td>\n",
       "    </tr>\n",
       "    <tr>\n",
       "      <th>139</th>\n",
       "      <td>22.0</td>\n",
       "      <td>7.0</td>\n",
       "      <td>13.02</td>\n",
       "      <td>24.6</td>\n",
       "      <td>24.5</td>\n",
       "      <td>60.0</td>\n",
       "      <td>1016.0</td>\n",
       "      <td>0.0</td>\n",
       "      <td>445.0</td>\n",
       "      <td>2019-01-28 17:00:00</td>\n",
       "    </tr>\n",
       "    <tr>\n",
       "      <th>161</th>\n",
       "      <td>119.0</td>\n",
       "      <td>122.0</td>\n",
       "      <td>10.04</td>\n",
       "      <td>21.2</td>\n",
       "      <td>24.8</td>\n",
       "      <td>77.0</td>\n",
       "      <td>1016.3</td>\n",
       "      <td>0.0</td>\n",
       "      <td>334.3</td>\n",
       "      <td>2019-01-29 15:00:00</td>\n",
       "    </tr>\n",
       "  </tbody>\n",
       "</table>\n",
       "</div>"
      ],
      "text/plain": [
       "      DIRS   DIRR   VELS  VELR  TEMP     HR      PB  PREC  RADSOL  \\\n",
       "1    141.0  147.0  18.12  35.0  24.2   86.0  1016.2   0.3     7.0   \n",
       "2    141.0  125.0  19.95  39.0  24.8   81.0  1016.4   0.0     0.0   \n",
       "16   160.0  153.0  17.71  36.7  24.5   99.0  1015.4   0.0    90.8   \n",
       "34   231.0  202.0   6.09  16.6  24.7   89.0  1012.9   0.0     0.0   \n",
       "48   285.0  295.0   6.38  20.0  24.2   91.0  1013.6  14.2    22.7   \n",
       "64     8.0    8.0   9.70  18.9  24.2  100.0  1017.6   0.0   238.7   \n",
       "139   22.0    7.0  13.02  24.6  24.5   60.0  1016.0   0.0   445.0   \n",
       "161  119.0  122.0  10.04  21.2  24.8   77.0  1016.3   0.0   334.3   \n",
       "\n",
       "                  FECHA  \n",
       "1   2019-01-22 23:00:00  \n",
       "2   2019-01-23 00:00:00  \n",
       "16  2019-01-23 14:00:00  \n",
       "34  2019-01-24 08:00:00  \n",
       "48  2019-01-24 22:00:00  \n",
       "64  2019-01-25 14:00:00  \n",
       "139 2019-01-28 17:00:00  \n",
       "161 2019-01-29 15:00:00  "
      ]
     },
     "execution_count": 11,
     "metadata": {},
     "output_type": "execute_result"
    }
   ],
   "source": [
    "# Selecciona los renglones con Temperatura > 24ºC y < 25ºC\n",
    "df_tmp = df[df.TEMP > 24] \n",
    "df_select = df_tmp[df_tmp.TEMP < 25]\n",
    "df_select"
   ]
  },
  {
   "cell_type": "code",
   "execution_count": 12,
   "metadata": {},
   "outputs": [
    {
     "data": {
      "text/plain": [
       "DIRS       164.604317\n",
       "DIRR       165.920863\n",
       "VELS        11.456835\n",
       "VELR        22.905755\n",
       "TEMP        22.956835\n",
       "HR          87.949640\n",
       "PB        1014.661871\n",
       "PREC         2.166187\n",
       "RADSOL     120.388406\n",
       "dtype: float64"
      ]
     },
     "execution_count": 12,
     "metadata": {},
     "output_type": "execute_result"
    }
   ],
   "source": [
    "# Calcula el promedio de las columnas, excepto en la FECHA (que no tendría sentido)\n",
    "df.mean()"
   ]
  },
  {
   "cell_type": "code",
   "execution_count": 13,
   "metadata": {},
   "outputs": [
    {
     "data": {
      "text/plain": [
       "22.9568345323741"
      ]
     },
     "execution_count": 13,
     "metadata": {},
     "output_type": "execute_result"
    }
   ],
   "source": [
    "# Calcula el promedio de las Temperaturas\n",
    "df.TEMP.mean()"
   ]
  },
  {
   "cell_type": "code",
   "execution_count": 14,
   "metadata": {},
   "outputs": [
    {
     "data": {
      "image/png": "[encoded data removed]",
      "text/plain": [
       "<Figure size 432x288 with 1 Axes>"
      ]
     },
     "metadata": {},
     "output_type": "display_data"
    }
   ],
   "source": [
    "# Gráfica de la rapidez de los vientos (m/s) \n",
    "plt.figure(); df.VELS.plot(); plt.legend(loc='best')\n",
    "plt.title(\"Variación de la Rapidez de los Vientos\")\n",
    "plt.ylabel(\"Rapidez (m/s)\")\n",
    "plt.grid(True)\n",
    "plt.show()"
   ]
  },
  {
   "cell_type": "code",
   "execution_count": 15,
   "metadata": {
    "scrolled": true
   },
   "outputs": [
    {
     "data": {
      "text/plain": [
       "<Figure size 432x288 with 0 Axes>"
      ]
     },
     "metadata": {},
     "output_type": "display_data"
    },
    {
     "data": {
      "image/png": "[encoded data removed]",
      "text/plain": [
       "<Figure size 432x288 with 1 Axes>"
      ]
     },
     "metadata": {},
     "output_type": "display_data"
    }
   ],
   "source": [
    "# Gráfica de Temperatura y Humedad Relativa\n",
    "df1 = df[['TEMP','HR']]\n",
    "plt.figure(); df1.plot(); plt.legend(loc='best')\n",
    "plt.title(\"Variación de la Temperatura y la Humedad Relativa\")\n",
    "plt.ylabel(\"Temp ºC /(%) HR\")\n",
    "plt.grid(True)\n",
    "plt.show()"
   ]
  },
  {
   "cell_type": "code",
   "execution_count": 16,
   "metadata": {},
   "outputs": [
    {
     "data": {
      "image/png": "[encoded data removed]",
      "text/plain": [
       "<Figure size 432x288 with 1 Axes>"
      ]
     },
     "metadata": {},
     "output_type": "display_data"
    }
   ],
   "source": [
    "\n",
    "plt.plot_date(x=df.FECHA, y=df.TEMP, fmt=\"b-\")\n",
    "plt.title(\"Variación de la Temperatura\")\n",
    "plt.ylabel(\"Temp ºC\")\n",
    "plt.grid(True)\n",
    "plt.show()"
   ]
  },
  {
   "cell_type": "code",
   "execution_count": 17,
   "metadata": {},
   "outputs": [],
   "source": [
    "import pandas as pd\n",
    "import numpy as np\n",
    "import scipy as sp\n",
    "import plotly.plotly as py"
   ]
  },
  {
   "cell_type": "code",
   "execution_count": 18,
   "metadata": {},
   "outputs": [
    {
     "data": {
      "text/plain": [
       "'3.2.1'"
      ]
     },
     "execution_count": 18,
     "metadata": {},
     "output_type": "execute_result"
    }
   ],
   "source": [
    "import plotly\n",
    "plotly.__version__"
   ]
  },
  {
   "cell_type": "code",
   "execution_count": 19,
   "metadata": {},
   "outputs": [
    {
     "data": {
      "text/html": [
       "<iframe id=\"igraph\" scrolling=\"no\" style=\"border:none;\" seamless=\"seamless\" src=\"https://plot.ly/~Nachitox123/26.embed\" height=\"525px\" width=\"100%\"></iframe>"
      ],
      "text/plain": [
       "<plotly.tools.PlotlyDisplay object>"
      ]
     },
     "execution_count": 19,
     "metadata": {},
     "output_type": "execute_result"
    }
   ],
   "source": [
    "import plotly.plotly as py\n",
    "import plotly.graph_objs as go\n",
    "\n",
    "trace1 = go.Scatter(\n",
    "    x=df.FECHA,\n",
    "    y=df.VELS,\n",
    "    name='Rapidez de los vientos',\n",
    "   \n",
    ")\n",
    "trace2 = go.Scatter(\n",
    "    x=df.FECHA,\n",
    "    y=df.VELR,\n",
    "    name = 'Rapidez de las ráfagas ',\n",
    ")\n",
    "\n",
    "data = [trace1, trace2]\n",
    "\n",
    "fig = dict(data=data)\n",
    "py.iplot(fig, filename='simple-connectgaps')"
   ]
  },
  {
   "cell_type": "code",
   "execution_count": 20,
   "metadata": {},
   "outputs": [],
   "source": [
    "df['VELS2']=10*(df.VELS)"
   ]
  },
  {
   "cell_type": "code",
   "execution_count": 21,
   "metadata": {},
   "outputs": [
    {
     "data": {
      "text/html": [
       "<iframe id=\"igraph\" scrolling=\"no\" style=\"border:none;\" seamless=\"seamless\" src=\"https://plot.ly/~Nachitox123/26.embed\" height=\"525px\" width=\"100%\"></iframe>"
      ],
      "text/plain": [
       "<plotly.tools.PlotlyDisplay object>"
      ]
     },
     "execution_count": 21,
     "metadata": {},
     "output_type": "execute_result"
    }
   ],
   "source": [
    "import plotly.plotly as py\n",
    "import plotly.graph_objs as go\n",
    "\n",
    "trace1 = go.Scatter(\n",
    "    x=df.FECHA,\n",
    "    y=df.DIRS,\n",
    "    name='Dirección',\n",
    "   \n",
    ")\n",
    "trace2 = go.Scatter(\n",
    "    x=df.FECHA,\n",
    "    y=df.VELS2,\n",
    "    name = 'Intensidad ',\n",
    ")\n",
    "\n",
    "data = [trace1, trace2]\n",
    "\n",
    "fig = dict(data=data)\n",
    "py.iplot(fig, filename='simple-connectgaps')"
   ]
  },
  {
   "cell_type": "code",
   "execution_count": 22,
   "metadata": {},
   "outputs": [
    {
     "data": {
      "text/html": [
       "<iframe id=\"igraph\" scrolling=\"no\" style=\"border:none;\" seamless=\"seamless\" src=\"https://plot.ly/~Nachitox123/26.embed\" height=\"525px\" width=\"100%\"></iframe>"
      ],
      "text/plain": [
       "<plotly.tools.PlotlyDisplay object>"
      ]
     },
     "execution_count": 22,
     "metadata": {},
     "output_type": "execute_result"
    }
   ],
   "source": [
    "import plotly.plotly as py\n",
    "import plotly.graph_objs as go\n",
    "\n",
    "trace = go.Scatter(\n",
    "    x=df.FECHA,\n",
    "    y=df.RADSOL,\n",
    "    name='Radiación Solar',\n",
    "   \n",
    ")\n",
    "\n",
    "data = [trace]\n",
    "fig = dict(data=data)\n",
    "py.iplot(fig, filename='simple-connectgaps')"
   ]
  },
  {
   "cell_type": "code",
   "execution_count": 23,
   "metadata": {},
   "outputs": [
    {
     "data": {
      "text/plain": [
       "13.8"
      ]
     },
     "execution_count": 23,
     "metadata": {},
     "output_type": "execute_result"
    }
   ],
   "source": [
    "df.TEMP.min()"
   ]
  },
  {
   "cell_type": "code",
   "execution_count": 25,
   "metadata": {},
   "outputs": [
    {
     "data": {
      "text/plain": [
       "29.9"
      ]
     },
     "execution_count": 25,
     "metadata": {},
     "output_type": "execute_result"
    }
   ],
   "source": [
    "df.TEMP.max()"
   ]
  },
  {
   "cell_type": "code",
   "execution_count": 27,
   "metadata": {},
   "outputs": [
    {
     "data": {
      "text/plain": [
       "16.099999999999998"
      ]
     },
     "execution_count": 27,
     "metadata": {},
     "output_type": "execute_result"
    }
   ],
   "source": [
    "df.TEMP.max() - df.TEMP.min()"
   ]
  },
  {
   "cell_type": "code",
   "execution_count": 28,
   "metadata": {},
   "outputs": [
    {
     "data": {
      "text/html": [
       "<div>\n",
       "<style scoped>\n",
       "    .dataframe tbody tr th:only-of-type {\n",
       "        vertical-align: middle;\n",
       "    }\n",
       "\n",
       "    .dataframe tbody tr th {\n",
       "        vertical-align: top;\n",
       "    }\n",
       "\n",
       "    .dataframe thead th {\n",
       "        text-align: right;\n",
       "    }\n",
       "</style>\n",
       "<table border=\"1\" class=\"dataframe\">\n",
       "  <thead>\n",
       "    <tr style=\"text-align: right;\">\n",
       "      <th></th>\n",
       "      <th>DIRS</th>\n",
       "      <th>DIRR</th>\n",
       "      <th>VELS</th>\n",
       "      <th>VELR</th>\n",
       "      <th>TEMP</th>\n",
       "      <th>HR</th>\n",
       "      <th>PB</th>\n",
       "      <th>PREC</th>\n",
       "      <th>RADSOL</th>\n",
       "      <th>VELS2</th>\n",
       "    </tr>\n",
       "  </thead>\n",
       "  <tbody>\n",
       "    <tr>\n",
       "      <th>count</th>\n",
       "      <td>139.000000</td>\n",
       "      <td>139.000000</td>\n",
       "      <td>139.000000</td>\n",
       "      <td>139.000000</td>\n",
       "      <td>139.000000</td>\n",
       "      <td>139.000000</td>\n",
       "      <td>139.000000</td>\n",
       "      <td>139.000000</td>\n",
       "      <td>138.000000</td>\n",
       "      <td>139.000000</td>\n",
       "    </tr>\n",
       "    <tr>\n",
       "      <th>mean</th>\n",
       "      <td>164.604317</td>\n",
       "      <td>165.920863</td>\n",
       "      <td>11.456835</td>\n",
       "      <td>22.905755</td>\n",
       "      <td>22.956835</td>\n",
       "      <td>87.949640</td>\n",
       "      <td>1014.661871</td>\n",
       "      <td>2.166187</td>\n",
       "      <td>120.388406</td>\n",
       "      <td>114.568345</td>\n",
       "    </tr>\n",
       "    <tr>\n",
       "      <th>std</th>\n",
       "      <td>116.263483</td>\n",
       "      <td>115.591426</td>\n",
       "      <td>4.634042</td>\n",
       "      <td>9.801706</td>\n",
       "      <td>3.531392</td>\n",
       "      <td>13.340754</td>\n",
       "      <td>1.717700</td>\n",
       "      <td>18.847883</td>\n",
       "      <td>203.122739</td>\n",
       "      <td>46.340418</td>\n",
       "    </tr>\n",
       "    <tr>\n",
       "      <th>min</th>\n",
       "      <td>1.000000</td>\n",
       "      <td>0.000000</td>\n",
       "      <td>2.070000</td>\n",
       "      <td>7.900000</td>\n",
       "      <td>13.800000</td>\n",
       "      <td>51.000000</td>\n",
       "      <td>1006.300000</td>\n",
       "      <td>0.000000</td>\n",
       "      <td>0.000000</td>\n",
       "      <td>20.700000</td>\n",
       "    </tr>\n",
       "    <tr>\n",
       "      <th>25%</th>\n",
       "      <td>69.000000</td>\n",
       "      <td>77.000000</td>\n",
       "      <td>8.210000</td>\n",
       "      <td>15.150000</td>\n",
       "      <td>21.200000</td>\n",
       "      <td>78.000000</td>\n",
       "      <td>1013.750000</td>\n",
       "      <td>0.000000</td>\n",
       "      <td>0.000000</td>\n",
       "      <td>82.100000</td>\n",
       "    </tr>\n",
       "    <tr>\n",
       "      <th>50%</th>\n",
       "      <td>136.000000</td>\n",
       "      <td>148.000000</td>\n",
       "      <td>10.380000</td>\n",
       "      <td>21.200000</td>\n",
       "      <td>23.200000</td>\n",
       "      <td>92.000000</td>\n",
       "      <td>1014.700000</td>\n",
       "      <td>0.000000</td>\n",
       "      <td>0.000000</td>\n",
       "      <td>103.800000</td>\n",
       "    </tr>\n",
       "    <tr>\n",
       "      <th>75%</th>\n",
       "      <td>299.000000</td>\n",
       "      <td>294.500000</td>\n",
       "      <td>14.050000</td>\n",
       "      <td>28.700000</td>\n",
       "      <td>25.350000</td>\n",
       "      <td>100.000000</td>\n",
       "      <td>1015.700000</td>\n",
       "      <td>0.000000</td>\n",
       "      <td>161.550000</td>\n",
       "      <td>140.500000</td>\n",
       "    </tr>\n",
       "    <tr>\n",
       "      <th>max</th>\n",
       "      <td>358.000000</td>\n",
       "      <td>359.000000</td>\n",
       "      <td>23.800000</td>\n",
       "      <td>66.100000</td>\n",
       "      <td>29.900000</td>\n",
       "      <td>100.000000</td>\n",
       "      <td>1018.500000</td>\n",
       "      <td>221.000000</td>\n",
       "      <td>836.200000</td>\n",
       "      <td>238.000000</td>\n",
       "    </tr>\n",
       "  </tbody>\n",
       "</table>\n",
       "</div>"
      ],
      "text/plain": [
       "             DIRS        DIRR        VELS        VELR        TEMP          HR  \\\n",
       "count  139.000000  139.000000  139.000000  139.000000  139.000000  139.000000   \n",
       "mean   164.604317  165.920863   11.456835   22.905755   22.956835   87.949640   \n",
       "std    116.263483  115.591426    4.634042    9.801706    3.531392   13.340754   \n",
       "min      1.000000    0.000000    2.070000    7.900000   13.800000   51.000000   \n",
       "25%     69.000000   77.000000    8.210000   15.150000   21.200000   78.000000   \n",
       "50%    136.000000  148.000000   10.380000   21.200000   23.200000   92.000000   \n",
       "75%    299.000000  294.500000   14.050000   28.700000   25.350000  100.000000   \n",
       "max    358.000000  359.000000   23.800000   66.100000   29.900000  100.000000   \n",
       "\n",
       "                PB        PREC      RADSOL       VELS2  \n",
       "count   139.000000  139.000000  138.000000  139.000000  \n",
       "mean   1014.661871    2.166187  120.388406  114.568345  \n",
       "std       1.717700   18.847883  203.122739   46.340418  \n",
       "min    1006.300000    0.000000    0.000000   20.700000  \n",
       "25%    1013.750000    0.000000    0.000000   82.100000  \n",
       "50%    1014.700000    0.000000    0.000000  103.800000  \n",
       "75%    1015.700000    0.000000  161.550000  140.500000  \n",
       "max    1018.500000  221.000000  836.200000  238.000000  "
      ]
     },
     "execution_count": 28,
     "metadata": {},
     "output_type": "execute_result"
    }
   ],
   "source": [
    "df.describe()"
   ]
  },
  {
   "cell_type": "code",
   "execution_count": null,
   "metadata": {},
   "outputs": [],
   "source": []
  }
 ],
 "metadata": {
  "kernelspec": {
   "display_name": "Python 3",
   "language": "python",
   "name": "python3"
  },
  "language_info": {
   "codemirror_mode": {
    "name": "ipython",
    "version": 3
   },
   "file_extension": ".py",
   "mimetype": "text/x-python",
   "name": "python",
   "nbconvert_exporter": "python",
   "pygments_lexer": "ipython3",
   "version": "3.6.5"
  }
 },
 "nbformat": 4,
 "nbformat_minor": 2
}
