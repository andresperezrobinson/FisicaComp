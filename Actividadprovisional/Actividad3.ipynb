{
 "cells": [
  {
   "cell_type": "code",
   "execution_count": 20,
   "metadata": {},
   "outputs": [],
   "source": [
    "import pandas as pd\n",
    "import numpy as np"
   ]
  },
  {
   "cell_type": "code",
   "execution_count": 21,
   "metadata": {},
   "outputs": [],
   "source": [
    "df = pd.read_csv('tulum.csv', sep=',', engine='python')"
   ]
  },
  {
   "cell_type": "code",
   "execution_count": 22,
   "metadata": {},
   "outputs": [
    {
     "data": {
      "text/html": [
       "<div>\n",
       "<style scoped>\n",
       "    .dataframe tbody tr th:only-of-type {\n",
       "        vertical-align: middle;\n",
       "    }\n",
       "\n",
       "    .dataframe tbody tr th {\n",
       "        vertical-align: top;\n",
       "    }\n",
       "\n",
       "    .dataframe thead th {\n",
       "        text-align: right;\n",
       "    }\n",
       "</style>\n",
       "<table border=\"1\" class=\"dataframe\">\n",
       "  <thead>\n",
       "    <tr style=\"text-align: right;\">\n",
       "      <th></th>\n",
       "      <th>PRECIP</th>\n",
       "      <th>EVAP</th>\n",
       "      <th>TMAX</th>\n",
       "      <th>TMIN</th>\n",
       "    </tr>\n",
       "  </thead>\n",
       "  <tbody>\n",
       "    <tr>\n",
       "      <th>count</th>\n",
       "      <td>13763.000000</td>\n",
       "      <td>9863.000000</td>\n",
       "      <td>13388.000000</td>\n",
       "      <td>13385.000000</td>\n",
       "    </tr>\n",
       "    <tr>\n",
       "      <th>mean</th>\n",
       "      <td>3.125300</td>\n",
       "      <td>4.495387</td>\n",
       "      <td>30.991672</td>\n",
       "      <td>20.346328</td>\n",
       "    </tr>\n",
       "    <tr>\n",
       "      <th>std</th>\n",
       "      <td>10.484947</td>\n",
       "      <td>2.057994</td>\n",
       "      <td>2.605869</td>\n",
       "      <td>3.989156</td>\n",
       "    </tr>\n",
       "    <tr>\n",
       "      <th>min</th>\n",
       "      <td>0.000000</td>\n",
       "      <td>0.000000</td>\n",
       "      <td>18.000000</td>\n",
       "      <td>4.300000</td>\n",
       "    </tr>\n",
       "    <tr>\n",
       "      <th>25%</th>\n",
       "      <td>0.000000</td>\n",
       "      <td>3.000000</td>\n",
       "      <td>29.500000</td>\n",
       "      <td>18.000000</td>\n",
       "    </tr>\n",
       "    <tr>\n",
       "      <th>50%</th>\n",
       "      <td>0.000000</td>\n",
       "      <td>4.300000</td>\n",
       "      <td>31.000000</td>\n",
       "      <td>21.000000</td>\n",
       "    </tr>\n",
       "    <tr>\n",
       "      <th>75%</th>\n",
       "      <td>0.000000</td>\n",
       "      <td>5.800000</td>\n",
       "      <td>33.000000</td>\n",
       "      <td>23.000000</td>\n",
       "    </tr>\n",
       "    <tr>\n",
       "      <th>max</th>\n",
       "      <td>200.000000</td>\n",
       "      <td>17.700000</td>\n",
       "      <td>45.000000</td>\n",
       "      <td>31.500000</td>\n",
       "    </tr>\n",
       "  </tbody>\n",
       "</table>\n",
       "</div>"
      ],
      "text/plain": [
       "             PRECIP         EVAP          TMAX          TMIN\n",
       "count  13763.000000  9863.000000  13388.000000  13385.000000\n",
       "mean       3.125300     4.495387     30.991672     20.346328\n",
       "std       10.484947     2.057994      2.605869      3.989156\n",
       "min        0.000000     0.000000     18.000000      4.300000\n",
       "25%        0.000000     3.000000     29.500000     18.000000\n",
       "50%        0.000000     4.300000     31.000000     21.000000\n",
       "75%        0.000000     5.800000     33.000000     23.000000\n",
       "max      200.000000    17.700000     45.000000     31.500000"
      ]
     },
     "execution_count": 22,
     "metadata": {},
     "output_type": "execute_result"
    }
   ],
   "source": [
    "df.describe()"
   ]
  },
  {
   "cell_type": "code",
   "execution_count": 23,
   "metadata": {},
   "outputs": [],
   "source": [
    "import matplotlib.pyplot as plt"
   ]
  },
  {
   "cell_type": "code",
   "execution_count": 24,
   "metadata": {},
   "outputs": [
    {
     "data": {
      "text/plain": [
       "3.1252997166315466"
      ]
     },
     "execution_count": 24,
     "metadata": {},
     "output_type": "execute_result"
    }
   ],
   "source": [
    "# Para la precipitación mensual acumulada promedio de la colección de datos de la estación que se esté analizando.\n",
    "df.PRECIP.mean()"
   ]
  },
  {
   "cell_type": "code",
   "execution_count": 25,
   "metadata": {},
   "outputs": [
    {
     "data": {
      "text/plain": [
       "FECHA      object\n",
       "PRECIP    float64\n",
       "EVAP      float64\n",
       "TMAX      float64\n",
       "TMIN      float64\n",
       "dtype: object"
      ]
     },
     "execution_count": 25,
     "metadata": {},
     "output_type": "execute_result"
    }
   ],
   "source": [
    "df.dtypes"
   ]
  },
  {
   "cell_type": "code",
   "execution_count": 26,
   "metadata": {},
   "outputs": [],
   "source": [
    "# Convertir Fecha a nueva variable tipo fecha NFecha (datetime64)\n",
    "df['NFecha'] =  pd.to_datetime(df['FECHA'], format='%d/%m/%Y')"
   ]
  },
  {
   "cell_type": "code",
   "execution_count": 27,
   "metadata": {},
   "outputs": [
    {
     "data": {
      "text/plain": [
       "FECHA             object\n",
       "PRECIP           float64\n",
       "EVAP             float64\n",
       "TMAX             float64\n",
       "TMIN             float64\n",
       "NFecha    datetime64[ns]\n",
       "dtype: object"
      ]
     },
     "execution_count": 27,
     "metadata": {},
     "output_type": "execute_result"
    }
   ],
   "source": [
    "df.dtypes"
   ]
  },
  {
   "cell_type": "code",
   "execution_count": 29,
   "metadata": {},
   "outputs": [
    {
     "data": {
      "text/plain": [
       "(        FECHA  PRECIP  EVAP  TMAX  TMIN     NFecha   Año  Mes\n",
       " 0  09/07/1964     2.3   5.3  34.5  21.5 1964-07-09  1964    7\n",
       " 1  10/07/1964     0.0  10.2  31.0  24.5 1964-07-10  1964    7\n",
       " 2  11/07/1964     0.0   8.8  30.0  24.5 1964-07-11  1964    7\n",
       " 3  12/07/1964     0.0   9.2  30.0  27.5 1964-07-12  1964    7\n",
       " 4  13/07/1964     0.0   9.3  31.0  27.5 1964-07-13  1964    7,\n",
       "             FECHA  PRECIP  EVAP  TMAX  TMIN     NFecha   Año  Mes\n",
       " 13791  27/12/2012     0.3   NaN  30.0  19.0 2012-12-27  2012   12\n",
       " 13792  28/12/2012     0.0   NaN  30.0  22.0 2012-12-28  2012   12\n",
       " 13793  29/12/2012     0.0   NaN  29.0  22.0 2012-12-29  2012   12\n",
       " 13794  30/12/2012     0.0   NaN  32.0  13.0 2012-12-30  2012   12\n",
       " 13795  31/12/2012     0.0   NaN  30.0  17.0 2012-12-31  2012   12)"
      ]
     },
     "execution_count": 29,
     "metadata": {},
     "output_type": "execute_result"
    }
   ],
   "source": [
    "# Crear columnas con Año y Mes extraídos de la fecha \n",
    "df['Año'] = df['NFecha'].dt.year\n",
    "df['Mes'] = df['NFecha'].dt.month\n",
    "df.head(),df.tail()"
   ]
  },
  {
   "cell_type": "code",
   "execution_count": 32,
   "metadata": {},
   "outputs": [
    {
     "name": "stdout",
     "output_type": "stream",
     "text": [
      "48 años de datos\n"
     ]
    }
   ],
   "source": [
    "# Número de años distintos df0['Año'].unique(),\n",
    "NumA = len(df['Año'].unique())\n",
    "print(NumA, \"años de datos\")"
   ]
  },
  {
   "cell_type": "code",
   "execution_count": 34,
   "metadata": {},
   "outputs": [
    {
     "name": "stdout",
     "output_type": "stream",
     "text": [
      "Enero: 48.12916666666666 mm\n",
      "Febrero: 36.118750000000006 mm\n",
      "Marzo: 24.49791666666667 mm\n",
      "Abril: 27.566666666666663 mm\n",
      "Mayo: 77.39166666666667 mm\n",
      "Junio: 115.51041666666667 mm\n",
      "Julio: 81.75208333333335 mm\n",
      "Agosto: 77.25 mm\n",
      "Septiembre: 126.64791666666667 mm\n",
      "Octubre: 162.11458333333334 mm\n",
      "Noviembre: 67.09583333333333 mm\n",
      "Diciembre: 52.03958333333333 mm\n"
     ]
    }
   ],
   "source": [
    "# Calcular la precipitación promedio de un mes (Sumar Precip y dividir entre número de Años)\n",
    "# Mes a mes ... a pie\n",
    "PRECIPEne = df[(df['Mes'] == 1)]['PRECIP'].sum()/NumA\n",
    "PRECIPFeb = df[(df['Mes'] == 2)]['PRECIP'].sum()/NumA\n",
    "PRECIPMar = df[(df['Mes'] == 3)]['PRECIP'].sum()/NumA\n",
    "PRECIPAbr = df[(df['Mes'] == 4)]['PRECIP'].sum()/NumA\n",
    "PRECIPMay = df[(df['Mes'] == 5)]['PRECIP'].sum()/NumA\n",
    "PRECIPJun = df[(df['Mes'] == 6)]['PRECIP'].sum()/NumA\n",
    "PRECIPJul = df[(df['Mes'] == 7)]['PRECIP'].sum()/NumA\n",
    "PRECIPAgo = df[(df['Mes'] == 8)]['PRECIP'].sum()/NumA\n",
    "PRECIPSep = df[(df['Mes'] == 9)]['PRECIP'].sum()/NumA\n",
    "PRECIPOct = df[(df['Mes'] == 10)]['PRECIP'].sum()/NumA\n",
    "PRECIPNov = df[(df['Mes'] == 11)]['PRECIP'].sum()/NumA\n",
    "PRECIPDic = df[(df['Mes'] == 12)]['PRECIP'].sum()/NumA\n",
    "print(\"Enero:\",PRECIPEne, \"mm\")\n",
    "print(\"Febrero:\",PRECIPFeb, \"mm\")\n",
    "print(\"Marzo:\",PRECIPMar, \"mm\")\n",
    "print(\"Abril:\",PRECIPAbr, \"mm\")\n",
    "print(\"Mayo:\",PRECIPMay, \"mm\")\n",
    "print(\"Junio:\",PRECIPJun, \"mm\")\n",
    "print(\"Julio:\",PRECIPJul, \"mm\")\n",
    "print(\"Agosto:\",PRECIPAgo, \"mm\")\n",
    "print(\"Septiembre:\",PRECIPSep, \"mm\")\n",
    "print(\"Octubre:\",PRECIPOct, \"mm\")\n",
    "print(\"Noviembre:\",PRECIPNov, \"mm\")\n",
    "print(\"Diciembre:\",PRECIPDic, \"mm\")\n"
   ]
  },
  {
   "cell_type": "code",
   "execution_count": 35,
   "metadata": {},
   "outputs": [
    {
     "name": "stdout",
     "output_type": "stream",
     "text": [
      "Mes 1 : 48.13 mm , Acumulada: 48.13 mm\n",
      "Mes 2 : 36.12 mm , Acumulada: 84.25 mm\n",
      "Mes 3 : 24.5 mm , Acumulada: 108.75 mm\n",
      "Mes 4 : 27.57 mm , Acumulada: 136.31 mm\n",
      "Mes 5 : 77.39 mm , Acumulada: 213.7 mm\n",
      "Mes 6 : 115.51 mm , Acumulada: 329.21 mm\n",
      "Mes 7 : 81.75 mm , Acumulada: 410.97 mm\n",
      "Mes 8 : 77.25 mm , Acumulada: 488.22 mm\n",
      "Mes 9 : 126.65 mm , Acumulada: 614.86 mm\n",
      "Mes 10 : 162.11 mm , Acumulada: 776.98 mm\n",
      "Mes 11 : 67.1 mm , Acumulada: 844.08 mm\n",
      "Mes 12 : 52.04 mm , Acumulada: 896.11 mm\n"
     ]
    }
   ],
   "source": [
    "# Para encontrar los meses más lluviosos\n",
    "# O hacer un loop para recorrer cada mes, recordando que Python cuenta desde 0,1,2,...\n",
    "# Calcular la suma de precipitación y dividir entre el número de años\n",
    "total=0.0\n",
    "for i in range(12):\n",
    "    PrecipMensual = df['PRECIP'][df['Mes']==[i+1]].sum()/NumA\n",
    "    total=total+PrecipMensual\n",
    "    print(\"Mes\", i+1,\":\", np.round(PrecipMensual, decimals=2), \"mm\", \", Acumulada:\", \n",
    "          np.round(total, decimals=2), \"mm\")"
   ]
  },
  {
   "cell_type": "code",
   "execution_count": 41,
   "metadata": {},
   "outputs": [
    {
     "name": "stdout",
     "output_type": "stream",
     "text": [
      "Tmax promedio Enero: 29.24 ºC\n",
      "Tmax promedio Febrero: 29.71 ºC\n",
      "Tmax promedio Marzo: 28.04 ºC\n",
      "Tmax promedio Abril: 26.34 ºC\n",
      "Tmax promedio Mayo: 30.25 ºC\n",
      "Tmax promedio Junio: 28.52 ºC\n",
      "Tmax promedio Julio: 32.53 ºC\n",
      "Tmax promedio Agosto: 31.98 ºC\n",
      "Tmax promedio Septiembre: 29.79 ºC\n",
      "Tmax promedio Octubre: 33.6 ºC\n",
      "Tmax promedio Noviembre: 31.52 ºC\n",
      "Tmax promedio Diciembre: 30.08 ºC\n"
     ]
    }
   ],
   "source": [
    "# Calcular la Tmax promedio de cada mes. Sumar las Tmax y \n",
    "# dividir entre el número total de datos válidos para ese mes determinado (función .count())\n",
    "TmaxPromEne = df[df['Mes']==1]['TMAX'].sum()/df[df['Mes'] ==1]['TMAX'].count()\n",
    "TmaxPromFeb = df[df['Mes']==2]['TMAX'].sum()/df[df['Mes'] ==2]['TMAX'].count()\n",
    "TmaxPromMar = df[df['Mes']==3]['TMAX'].sum()/df[df['Mes'] ==1]['TMAX'].count()\n",
    "TmaxPromAbr = df[df['Mes']==4]['TMAX'].sum()/df[df['Mes'] ==1]['TMAX'].count()\n",
    "TmaxPromMay = df[df['Mes']==5]['TMAX'].sum()/df[df['Mes'] ==1]['TMAX'].count()\n",
    "TmaxPromJun = df[df['Mes']==6]['TMAX'].sum()/df[df['Mes'] ==1]['TMAX'].count()\n",
    "TmaxPromJul = df[df['Mes']==7]['TMAX'].sum()/df[df['Mes'] ==1]['TMAX'].count()\n",
    "TmaxPromAgo = df[df['Mes']==8]['TMAX'].sum()/df[df['Mes'] ==1]['TMAX'].count()\n",
    "TmaxPromSep = df[df['Mes']==9]['TMAX'].sum()/df[df['Mes'] ==1]['TMAX'].count()\n",
    "TmaxPromOct = df[df['Mes']==10]['TMAX'].sum()/df[df['Mes'] ==1]['TMAX'].count()\n",
    "TmaxPromNov = df[df['Mes']==11]['TMAX'].sum()/df[df['Mes'] ==1]['TMAX'].count()\n",
    "TmaxPromDic = df[df['Mes']==12]['TMAX'].sum()/df[df['Mes'] ==1]['TMAX'].count()\n",
    "print(\"Tmax promedio Enero:\", np.round(TmaxPromEne, decimals=2), \"ºC\")\n",
    "print(\"Tmax promedio Febrero:\", np.round(TmaxPromFeb, decimals=2), \"ºC\")\n",
    "print(\"Tmax promedio Marzo:\", np.round(TmaxPromMar, decimals=2), \"ºC\")\n",
    "print(\"Tmax promedio Abril:\", np.round(TmaxPromAbr, decimals=2), \"ºC\")\n",
    "print(\"Tmax promedio Mayo:\", np.round(TmaxPromMay, decimals=2), \"ºC\")\n",
    "print(\"Tmax promedio Junio:\", np.round(TmaxPromJun, decimals=2), \"ºC\")\n",
    "print(\"Tmax promedio Julio:\", np.round(TmaxPromJul, decimals=2), \"ºC\")\n",
    "print(\"Tmax promedio Agosto:\", np.round(TmaxPromAgo, decimals=2), \"ºC\")\n",
    "print(\"Tmax promedio Septiembre:\", np.round(TmaxPromSep, decimals=2), \"ºC\")\n",
    "print(\"Tmax promedio Octubre:\", np.round(TmaxPromOct, decimals=2), \"ºC\")\n",
    "print(\"Tmax promedio Noviembre:\", np.round(TmaxPromNov, decimals=2), \"ºC\")\n",
    "print(\"Tmax promedio Diciembre:\", np.round(TmaxPromDic, decimals=2), \"ºC\")\n"
   ]
  },
  {
   "cell_type": "code",
   "execution_count": 45,
   "metadata": {},
   "outputs": [
    {
     "name": "stdout",
     "output_type": "stream",
     "text": [
      "Tmin Mes 1 : 17.74 ºC\n",
      "Tmin Mes 2 : 18.27 ºC\n",
      "Tmin Mes 3 : 19.9 ºC\n",
      "Tmin Mes 4 : 21.2 ºC\n",
      "Tmin Mes 5 : 21.86 ºC\n",
      "Tmin Mes 6 : 22.5 ºC\n",
      "Tmin Mes 7 : 21.69 ºC\n",
      "Tmin Mes 8 : 21.86 ºC\n",
      "Tmin Mes 9 : 21.45 ºC\n",
      "Tmin Mes 10 : 20.56 ºC\n",
      "Tmin Mes 11 : 19.21 ºC\n",
      "Tmin Mes 12 : 18.16 ºC\n",
      " \n",
      "Tmax Mes 1 : 29.24 ºC\n",
      "Tmax Mes 2 : 29.71 ºC\n",
      "Tmax Mes 3 : 30.77 ºC\n",
      "Tmax Mes 4 : 31.21 ºC\n",
      "Tmax Mes 5 : 32.1 ºC\n",
      "Tmax Mes 6 : 31.9 ºC\n",
      "Tmax Mes 7 : 32.25 ºC\n",
      "Tmax Mes 8 : 32.23 ºC\n",
      "Tmax Mes 9 : 31.7 ºC\n",
      "Tmax Mes 10 : 31.11 ºC\n",
      "Tmax Mes 11 : 30.42 ºC\n",
      "Tmax Mes 12 : 29.37 ºC\n"
     ]
    }
   ],
   "source": [
    "for i in range(12):\n",
    "    TminPromMensual = df[df['Mes']==i+1]['TMIN'].sum()/df[df['Mes'] ==i+1]['TMIN'].count()\n",
    "    print(\"Tmin Mes\", i+1,\":\", np.round(TminPromMensual, decimals=2), \"ºC\")\n",
    "  \n",
    "print(\" \")\n",
    "    \n",
    "for i in range(12):\n",
    "    TmaxPromMensual = df[df['Mes']==i+1]['TMAX'].sum()/df[df['Mes'] ==i+1]['TMAX'].count()\n",
    "    print(\"Tmax Mes\", i+1,\":\", np.round(TmaxPromMensual, decimals=2), \"ºC\")"
   ]
  },
  {
   "cell_type": "code",
   "execution_count": 53,
   "metadata": {},
   "outputs": [
    {
     "name": "stdout",
     "output_type": "stream",
     "text": [
      "Año 1965 : 868.2 mm\n",
      "Año 1966 : 19.1 mm\n",
      "Año 1967 : 111.8 mm\n",
      "Año 1968 : 36.7 mm\n",
      "Año 1969 : 388.3 mm\n",
      "Año 1970 : 248.00000000000003 mm\n",
      "Año 1971 : 1043.0 mm\n",
      "Año 1972 : 1446.7 mm\n",
      "Año 1973 : 1176.3000000000002 mm\n",
      "Año 1974 : 894.1 mm\n",
      "Año 1975 : 1155.5 mm\n",
      "Año 1976 : 1338.6 mm\n",
      "Año 1977 : 1323.1 mm\n",
      "Año 1978 : 1340.8 mm\n",
      "Año 1979 : 1340.1999999999998 mm\n",
      "Año 1980 : 1350.8 mm\n",
      "Año 1981 : 837.8 mm\n",
      "Año 1982 : 1190.0 mm\n",
      "Año 1983 : 1537.1 mm\n",
      "Año 1984 : 579.8 mm\n",
      "Año 1985 : 228.0 mm\n",
      "Año 1986 : 839.1 mm\n",
      "Año 1987 : 500.5 mm\n",
      "Año 1988 : 1849.0 mm\n",
      "Año 1989 : 651.3 mm\n",
      "Año 1990 : 1066.6999999999998 mm\n",
      "Año 1991 : 1152.7 mm\n",
      "Año 1992 : 720.2 mm\n",
      "Año 1993 : 445.2 mm\n",
      "Año 1994 : 374.20000000000005 mm\n",
      "Año 1995 : 809.6 mm\n",
      "Año 1996 : 1444.3 mm\n",
      "Año 1997 : 874.5 mm\n",
      "Año 1998 : 47.0 mm\n",
      "Año 1999 : 836.5999999999999 mm\n",
      "Año 2000 : 1183.4 mm\n",
      "Año 2001 : 59.5 mm\n",
      "Año 2002 : 922.8 mm\n",
      "Año 2003 : 860.8000000000001 mm\n",
      "Año 2004 : 1103.5 mm\n",
      "Año 2005 : 1657.9 mm\n",
      "Año 2006 : 0.0 mm\n",
      "Año 2007 : 1228.0 mm\n",
      "Año 2008 : 1127.0 mm\n",
      "Año 2009 : 566.7 mm\n",
      "Año 2010 : 1643.5 mm\n",
      "Año 2011 : 798.4 mm\n",
      "Año 2012 : 1315.2 mm\n"
     ]
    }
   ],
   "source": [
    "# Años húmedos y años secos\n",
    "for i in range(1964,2012):\n",
    "    PrecipAnual = df['PRECIP'][df['Año']==[i+1]].sum()\n",
    "    print(\"Año\", i+1,\":\", PrecipAnual, \"mm\")"
   ]
  },
  {
   "cell_type": "code",
   "execution_count": 52,
   "metadata": {},
   "outputs": [
    {
     "name": "stdout",
     "output_type": "stream",
     "text": [
      "Año: 1965 Num Datos 365 ,  100.0 %\n",
      "Año: 1966 Num Datos 31 ,  8.0 %\n",
      "Año: 1967 Num Datos 62 ,  17.0 %\n",
      "Año: 1968 Num Datos 61 ,  17.0 %\n",
      "Año: 1969 Num Datos 153 ,  42.0 %\n",
      "Año: 1970 Num Datos 153 ,  42.0 %\n",
      "Año: 1971 Num Datos 365 ,  100.0 %\n",
      "Año: 1972 Num Datos 335 ,  92.0 %\n",
      "Año: 1973 Num Datos 365 ,  100.0 %\n",
      "Año: 1974 Num Datos 365 ,  100.0 %\n",
      "Año: 1975 Num Datos 243 ,  67.0 %\n",
      "Año: 1976 Num Datos 366 ,  100.0 %\n",
      "Año: 1977 Num Datos 365 ,  100.0 %\n",
      "Año: 1978 Num Datos 334 ,  92.0 %\n",
      "Año: 1979 Num Datos 365 ,  100.0 %\n",
      "Año: 1980 Num Datos 366 ,  100.0 %\n",
      "Año: 1981 Num Datos 275 ,  75.0 %\n",
      "Año: 1982 Num Datos 365 ,  100.0 %\n",
      "Año: 1983 Num Datos 276 ,  76.0 %\n",
      "Año: 1984 Num Datos 151 ,  41.0 %\n",
      "Año: 1985 Num Datos 61 ,  17.0 %\n",
      "Año: 1986 Num Datos 364 ,  100.0 %\n",
      "Año: 1987 Num Datos 365 ,  100.0 %\n",
      "Año: 1988 Num Datos 337 ,  92.0 %\n",
      "Año: 1989 Num Datos 304 ,  83.0 %\n",
      "Año: 1990 Num Datos 214 ,  59.0 %\n",
      "Año: 1991 Num Datos 365 ,  100.0 %\n",
      "Año: 1992 Num Datos 366 ,  100.0 %\n",
      "Año: 1993 Num Datos 365 ,  100.0 %\n",
      "Año: 1994 Num Datos 365 ,  100.0 %\n",
      "Año: 1995 Num Datos 363 ,  99.0 %\n",
      "Año: 1996 Num Datos 366 ,  100.0 %\n",
      "Año: 1997 Num Datos 365 ,  100.0 %\n",
      "Año: 1998 Num Datos 87 ,  24.0 %\n",
      "Año: 1999 Num Datos 153 ,  42.0 %\n",
      "Año: 2000 Num Datos 366 ,  100.0 %\n",
      "Año: 2001 Num Datos 62 ,  17.0 %\n",
      "Año: 2002 Num Datos 152 ,  42.0 %\n",
      "Año: 2003 Num Datos 365 ,  100.0 %\n",
      "Año: 2004 Num Datos 360 ,  99.0 %\n",
      "Año: 2005 Num Datos 357 ,  98.0 %\n",
      "Año: 2006 Num Datos 0 ,  0.0 %\n",
      "Año: 2007 Num Datos 365 ,  100.0 %\n",
      "Año: 2008 Num Datos 366 ,  100.0 %\n",
      "Año: 2009 Num Datos 298 ,  82.0 %\n",
      "Año: 2010 Num Datos 364 ,  100.0 %\n",
      "Año: 2011 Num Datos 365 ,  100.0 %\n",
      "Año: 2012 Num Datos 366 ,  100.0 %\n"
     ]
    }
   ],
   "source": [
    "# Número de datos faltantes por año\n",
    "for i in range(1964,2012):\n",
    "    NumDatos= df['PRECIP'][df['Año']==[i+1]].count()\n",
    "    print(\"Año:\", i+1, \"Num Datos\", NumDatos, \", \", np.round(NumDatos/365.0, decimals=2)*100, \"%\")"
   ]
  },
  {
   "cell_type": "code",
   "execution_count": 55,
   "metadata": {},
   "outputs": [
    {
     "name": "stdout",
     "output_type": "stream",
     "text": [
      "Año 1965 : 2180.8 mm\n",
      "Año 1966 : 92.00000000000001 mm\n",
      "Año 1967 : 359.5 mm\n",
      "Año 1968 : 293.7 mm\n",
      "Año 1969 : 707.7 mm\n",
      "Año 1970 : 612.3 mm\n",
      "Año 1971 : 1891.8000000000002 mm\n",
      "Año 1972 : 1364.7 mm\n",
      "Año 1973 : 1790.2 mm\n",
      "Año 1974 : 775.5 mm\n",
      "Año 1975 : 720.2999999999998 mm\n",
      "Año 1976 : 1509.9 mm\n",
      "Año 1977 : 1590.1000000000001 mm\n",
      "Año 1978 : 1562.3 mm\n",
      "Año 1979 : 1701.5 mm\n",
      "Año 1980 : 1561.7 mm\n",
      "Año 1981 : 934.6999999999999 mm\n",
      "Año 1982 : 1434.4 mm\n",
      "Año 1983 : 1077.4 mm\n",
      "Año 1984 : 650.0 mm\n",
      "Año 1985 : 218.4 mm\n",
      "Año 1986 : 1623.8000000000002 mm\n",
      "Año 1987 : 654.5 mm\n",
      "Año 1988 : 903.4000000000001 mm\n",
      "Año 1989 : 1336.8000000000002 mm\n",
      "Año 1990 : 0.0 mm\n",
      "Año 1991 : 1629.5 mm\n",
      "Año 1992 : 846.3000000000001 mm\n",
      "Año 1993 : 1063.4 mm\n",
      "Año 1994 : 1060.6 mm\n",
      "Año 1995 : 1054.1 mm\n",
      "Año 1996 : 1376.2 mm\n",
      "Año 1997 : 818.1 mm\n",
      "Año 1998 : 0.0 mm\n",
      "Año 1999 : 518.9 mm\n",
      "Año 2000 : 1497.2 mm\n",
      "Año 2001 : 201.99999999999997 mm\n",
      "Año 2002 : 511.3 mm\n",
      "Año 2003 : 1798.6 mm\n",
      "Año 2004 : 340.8 mm\n",
      "Año 2005 : 0.0 mm\n",
      "Año 2006 : 0.0 mm\n",
      "Año 2007 : 1316.3999999999999 mm\n",
      "Año 2008 : 1527.0 mm\n",
      "Año 2009 : 478.59999999999997 mm\n",
      "Año 2010 : 0.0 mm\n",
      "Año 2011 : 0.0 mm\n",
      "Año 2012 : 0.0 mm\n"
     ]
    }
   ],
   "source": [
    "# Años húmedos y años secos\n",
    "for i in range(1964,2012):\n",
    "    HumAnual = df['EVAP'][df['Año']==[i+1]].sum()\n",
    "    print(\"Año\", i+1,\":\", HumAnual, \"mm\")"
   ]
  },
  {
   "cell_type": "code",
   "execution_count": 56,
   "metadata": {},
   "outputs": [
    {
     "name": "stdout",
     "output_type": "stream",
     "text": [
      "Año: 1965 Num Datos 361 ,  99.0 %\n",
      "Año: 1966 Num Datos 31 ,  8.0 %\n",
      "Año: 1967 Num Datos 62 ,  17.0 %\n",
      "Año: 1968 Num Datos 61 ,  17.0 %\n",
      "Año: 1969 Num Datos 121 ,  33.0 %\n",
      "Año: 1970 Num Datos 135 ,  37.0 %\n",
      "Año: 1971 Num Datos 365 ,  100.0 %\n",
      "Año: 1972 Num Datos 274 ,  75.0 %\n",
      "Año: 1973 Num Datos 365 ,  100.0 %\n",
      "Año: 1974 Num Datos 151 ,  41.0 %\n",
      "Año: 1975 Num Datos 151 ,  41.0 %\n",
      "Año: 1976 Num Datos 303 ,  83.0 %\n",
      "Año: 1977 Num Datos 332 ,  91.0 %\n",
      "Año: 1978 Num Datos 331 ,  91.0 %\n",
      "Año: 1979 Num Datos 364 ,  100.0 %\n",
      "Año: 1980 Num Datos 363 ,  99.0 %\n",
      "Año: 1981 Num Datos 215 ,  59.0 %\n",
      "Año: 1982 Num Datos 334 ,  92.0 %\n",
      "Año: 1983 Num Datos 242 ,  66.0 %\n",
      "Año: 1984 Num Datos 139 ,  38.0 %\n",
      "Año: 1985 Num Datos 59 ,  16.0 %\n",
      "Año: 1986 Num Datos 354 ,  97.0 %\n",
      "Año: 1987 Num Datos 163 ,  45.0 %\n",
      "Año: 1988 Num Datos 221 ,  61.0 %\n",
      "Año: 1989 Num Datos 240 ,  66.0 %\n",
      "Año: 1990 Num Datos 0 ,  0.0 %\n",
      "Año: 1991 Num Datos 350 ,  96.0 %\n",
      "Año: 1992 Num Datos 182 ,  50.0 %\n",
      "Año: 1993 Num Datos 346 ,  95.0 %\n",
      "Año: 1994 Num Datos 364 ,  100.0 %\n",
      "Año: 1995 Num Datos 331 ,  91.0 %\n",
      "Año: 1996 Num Datos 329 ,  90.0 %\n",
      "Año: 1997 Num Datos 178 ,  49.0 %\n",
      "Año: 1998 Num Datos 0 ,  0.0 %\n",
      "Año: 1999 Num Datos 142 ,  39.0 %\n",
      "Año: 2000 Num Datos 347 ,  95.0 %\n",
      "Año: 2001 Num Datos 61 ,  17.0 %\n",
      "Año: 2002 Num Datos 142 ,  39.0 %\n",
      "Año: 2003 Num Datos 364 ,  100.0 %\n",
      "Año: 2004 Num Datos 91 ,  25.0 %\n",
      "Año: 2005 Num Datos 0 ,  0.0 %\n",
      "Año: 2006 Num Datos 0 ,  0.0 %\n",
      "Año: 2007 Num Datos 309 ,  85.0 %\n",
      "Año: 2008 Num Datos 304 ,  83.0 %\n",
      "Año: 2009 Num Datos 110 ,  30.0 %\n",
      "Año: 2010 Num Datos 0 ,  0.0 %\n",
      "Año: 2011 Num Datos 0 ,  0.0 %\n",
      "Año: 2012 Num Datos 0 ,  0.0 %\n"
     ]
    }
   ],
   "source": [
    "# Número de datos faltantes por año\n",
    "for i in range(1964,2012):\n",
    "    NumDatos= df['EVAP'][df['Año']==[i+1]].count()\n",
    "    print(\"Año:\", i+1, \"Num Datos\", NumDatos, \", \", np.round(NumDatos/365.0, decimals=2)*100, \"%\")"
   ]
  },
  {
   "cell_type": "code",
   "execution_count": null,
   "metadata": {},
   "outputs": [],
   "source": []
  }
 ],
 "metadata": {
  "kernelspec": {
   "display_name": "Python 3",
   "language": "python",
   "name": "python3"
  },
  "language_info": {
   "codemirror_mode": {
    "name": "ipython",
    "version": 3
   },
   "file_extension": ".py",
   "mimetype": "text/x-python",
   "name": "python",
   "nbconvert_exporter": "python",
   "pygments_lexer": "ipython3",
   "version": "3.7.1"
  }
 },
 "nbformat": 4,
 "nbformat_minor": 2
}
