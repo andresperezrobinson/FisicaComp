{
 "cells": [
  {
   "cell_type": "code",
   "execution_count": 24,
   "metadata": {},
   "outputs": [],
   "source": [
    "import pandas as pd\n",
    "import numpy as np\n",
    "import matplotlib.pyplot as plt"
   ]
  },
  {
   "cell_type": "code",
   "execution_count": 3,
   "metadata": {},
   "outputs": [],
   "source": [
    "df = pd.read_csv('tulum.csv', sep=',', engine='python')"
   ]
  },
  {
   "cell_type": "code",
   "execution_count": 4,
   "metadata": {},
   "outputs": [],
   "source": [
    "# Convertir Fecha a nueva variable tipo fecha NFecha (datetime64)\n",
    "df['NFecha'] =  pd.to_datetime(df['FECHA'], format='%d/%m/%Y')"
   ]
  },
  {
   "cell_type": "code",
   "execution_count": 5,
   "metadata": {},
   "outputs": [
    {
     "data": {
      "text/plain": [
       "(        FECHA  PRECIP  EVAP  TMAX  TMIN     NFecha   Año  Mes\n",
       " 0  09/07/1964     2.3   5.3  34.5  21.5 1964-07-09  1964    7\n",
       " 1  10/07/1964     0.0  10.2  31.0  24.5 1964-07-10  1964    7\n",
       " 2  11/07/1964     0.0   8.8  30.0  24.5 1964-07-11  1964    7\n",
       " 3  12/07/1964     0.0   9.2  30.0  27.5 1964-07-12  1964    7\n",
       " 4  13/07/1964     0.0   9.3  31.0  27.5 1964-07-13  1964    7,\n",
       "             FECHA  PRECIP  EVAP  TMAX  TMIN     NFecha   Año  Mes\n",
       " 13791  27/12/2012     0.3   NaN  30.0  19.0 2012-12-27  2012   12\n",
       " 13792  28/12/2012     0.0   NaN  30.0  22.0 2012-12-28  2012   12\n",
       " 13793  29/12/2012     0.0   NaN  29.0  22.0 2012-12-29  2012   12\n",
       " 13794  30/12/2012     0.0   NaN  32.0  13.0 2012-12-30  2012   12\n",
       " 13795  31/12/2012     0.0   NaN  30.0  17.0 2012-12-31  2012   12)"
      ]
     },
     "execution_count": 5,
     "metadata": {},
     "output_type": "execute_result"
    }
   ],
   "source": [
    "# Crear columnas con Año y Mes extraídos de la fecha \n",
    "df['Año'] = df['NFecha'].dt.year\n",
    "df['Mes'] = df['NFecha'].dt.month\n",
    "df.head(),df.tail()"
   ]
  },
  {
   "cell_type": "code",
   "execution_count": 6,
   "metadata": {},
   "outputs": [
    {
     "name": "stdout",
     "output_type": "stream",
     "text": [
      "48 años de datos\n"
     ]
    }
   ],
   "source": [
    "# Número de años distintos df0['Año'].unique(),\n",
    "NumA = len(df['Año'].unique())\n",
    "print(NumA, \"años de datos\")"
   ]
  },
  {
   "cell_type": "code",
   "execution_count": 7,
   "metadata": {},
   "outputs": [
    {
     "name": "stdout",
     "output_type": "stream",
     "text": [
      "Enero: 48.12916666666666 mm\n",
      "Febrero: 36.118750000000006 mm\n",
      "Marzo: 24.49791666666667 mm\n",
      "Abril: 27.566666666666663 mm\n",
      "Mayo: 77.39166666666667 mm\n",
      "Junio: 115.51041666666667 mm\n",
      "Julio: 81.75208333333335 mm\n",
      "Agosto: 77.25 mm\n",
      "Septiembre: 126.64791666666667 mm\n",
      "Octubre: 162.11458333333334 mm\n",
      "Noviembre: 67.09583333333333 mm\n",
      "Diciembre: 52.03958333333333 mm\n"
     ]
    }
   ],
   "source": [
    "# Calcular la precipitación promedio de un mes (Sumar Precip y dividir entre número de Años)\n",
    "# Mes a mes ... a pie\n",
    "PRECIPEne = df[(df['Mes'] == 1)]['PRECIP'].sum()/NumA\n",
    "PRECIPFeb = df[(df['Mes'] == 2)]['PRECIP'].sum()/NumA\n",
    "PRECIPMar = df[(df['Mes'] == 3)]['PRECIP'].sum()/NumA\n",
    "PRECIPAbr = df[(df['Mes'] == 4)]['PRECIP'].sum()/NumA\n",
    "PRECIPMay = df[(df['Mes'] == 5)]['PRECIP'].sum()/NumA\n",
    "PRECIPJun = df[(df['Mes'] == 6)]['PRECIP'].sum()/NumA\n",
    "PRECIPJul = df[(df['Mes'] == 7)]['PRECIP'].sum()/NumA\n",
    "PRECIPAgo = df[(df['Mes'] == 8)]['PRECIP'].sum()/NumA\n",
    "PRECIPSep = df[(df['Mes'] == 9)]['PRECIP'].sum()/NumA\n",
    "PRECIPOct = df[(df['Mes'] == 10)]['PRECIP'].sum()/NumA\n",
    "PRECIPNov = df[(df['Mes'] == 11)]['PRECIP'].sum()/NumA\n",
    "PRECIPDic = df[(df['Mes'] == 12)]['PRECIP'].sum()/NumA\n",
    "print(\"Enero:\",PRECIPEne, \"mm\")\n",
    "print(\"Febrero:\",PRECIPFeb, \"mm\")\n",
    "print(\"Marzo:\",PRECIPMar, \"mm\")\n",
    "print(\"Abril:\",PRECIPAbr, \"mm\")\n",
    "print(\"Mayo:\",PRECIPMay, \"mm\")\n",
    "print(\"Junio:\",PRECIPJun, \"mm\")\n",
    "print(\"Julio:\",PRECIPJul, \"mm\")\n",
    "print(\"Agosto:\",PRECIPAgo, \"mm\")\n",
    "print(\"Septiembre:\",PRECIPSep, \"mm\")\n",
    "print(\"Octubre:\",PRECIPOct, \"mm\")\n",
    "print(\"Noviembre:\",PRECIPNov, \"mm\")\n",
    "print(\"Diciembre:\",PRECIPDic, \"mm\")\n"
   ]
  },
  {
   "cell_type": "code",
   "execution_count": 19,
   "metadata": {},
   "outputs": [],
   "source": [
    "PrecipPromMen = (PRECIPEne, PRECIPFeb, PRECIPMar, PRECIPAbr, \n",
    "                 PRECIPMay, PRECIPJun, PRECIPJul, PRECIPAgo, \n",
    "                 PRECIPSep, PRECIPOct, PRECIPNov, PRECIPDic)"
   ]
  },
  {
   "cell_type": "code",
   "execution_count": 23,
   "metadata": {},
   "outputs": [
    {
     "name": "stdout",
     "output_type": "stream",
     "text": [
      "(48.12916666666666, 36.118750000000006, 24.49791666666667, 27.566666666666663, 77.39166666666667, 115.51041666666667, 81.75208333333335, 77.25, 126.64791666666667, 162.11458333333334, 67.09583333333333, 52.03958333333333)\n"
     ]
    }
   ],
   "source": [
    "print(PrecipPromMen)"
   ]
  },
  {
   "cell_type": "code",
   "execution_count": 26,
   "metadata": {},
   "outputs": [],
   "source": [
    "import matplotlib.pyplot as plt"
   ]
  },
  {
   "cell_type": "code",
   "execution_count": 38,
   "metadata": {},
   "outputs": [
    {
     "data": {
      "text/plain": [
       "[<matplotlib.lines.Line2D at 0x125b846ed30>]"
      ]
     },
     "execution_count": 38,
     "metadata": {},
     "output_type": "execute_result"
    },
    {
     "data": {
      "image/png": "[encoded data removed]",
      "text/plain": [
       "<Figure size 432x288 with 1 Axes>"
      ]
     },
     "metadata": {
      "needs_background": "light"
     },
     "output_type": "display_data"
    }
   ],
   "source": [
    "plt.plot(PrecipPromMen)"
   ]
  },
  {
   "cell_type": "code",
   "execution_count": null,
   "metadata": {},
   "outputs": [],
   "source": []
  }
 ],
 "metadata": {
  "kernelspec": {
   "display_name": "Python 3",
   "language": "python",
   "name": "python3"
  },
  "language_info": {
   "codemirror_mode": {
    "name": "ipython",
    "version": 3
   },
   "file_extension": ".py",
   "mimetype": "text/x-python",
   "name": "python",
   "nbconvert_exporter": "python",
   "pygments_lexer": "ipython3",
   "version": "3.7.1"
  }
 },
 "nbformat": 4,
 "nbformat_minor": 2
}
